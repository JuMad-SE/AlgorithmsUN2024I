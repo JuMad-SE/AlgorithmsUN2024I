{
  "nbformat": 4,
  "nbformat_minor": 0,
  "metadata": {
    "colab": {
      "provenance": [],
      "include_colab_link": true
    },
    "kernelspec": {
      "name": "python3",
      "display_name": "Python 3"
    },
    "language_info": {
      "name": "python"
    }
  },
  "cells": [
    {
      "cell_type": "markdown",
      "metadata": {
        "id": "view-in-github",
        "colab_type": "text"
      },
      "source": [
        "<a href=\"https://colab.research.google.com/github/JuMad-SE/AlgorithmsUN2024I/blob/main/Lab5/jumadridcGroup5Partitions.ipynb\" target=\"_parent\"><img src=\"https://colab.research.google.com/assets/colab-badge.svg\" alt=\"Open In Colab\"/></a>"
      ]
    },
    {
      "cell_type": "markdown",
      "source": [
        "# **Partitions**\n",
        "\n",
        "## **Names:** Pedro A. Perez P.\n",
        "## **UN Ids:** paperezp,\n",
        "## **List numbers:** 91,\n",
        "## **Group :** 7\n",
        "\n",
        "_If you use an existing codes include the reference, link and a explanation of how the code works._"
      ],
      "metadata": {
        "id": "138HHQxvs_U7"
      }
    },
    {
      "cell_type": "markdown",
      "source": [
        "## 1. Write a code that produces the Bell numbers that count the possible partitions of a set fo $n$ elements.\n",
        "\n",
        "**Hints**:\n",
        "-  Output the n-th Bell Number - [stackexchange](https://codegolf.stackexchange.com/questions/132379/output-the-n-th-bell-number).\n",
        "\n",
        "- Bell number [wikipedia](https://en.wikipedia.org/wiki/Bell_number)\n",
        "\n",
        "\n",
        "\n",
        "\n"
      ],
      "metadata": {
        "id": "rdu7PcWttfnz"
      }
    },
    {
      "cell_type": "markdown",
      "source": [
        "El siguiente código esta inspirado de: <a href=\"https://www.geeksforgeeks.org/bell-numbers-number-of-ways-to-partition-a-set/\n",
        "\">Geeksforgeeks</a>"
      ],
      "metadata": {
        "id": "qjdOxewgFP3k"
      }
    },
    {
      "cell_type": "code",
      "source": [
        "def bell(n):\n",
        "\n",
        "    bell_sets = [[0 for i in range(n+1)] for j in range(n+1)]\n",
        "    # Aqui se crean los conjuntos en los que se almacenaran las posibles distintas\n",
        "    # formas de dividir un conjunto de n elementos en k subconjuntos\n",
        "    bell_sets[0][0] = 1\n",
        "    # Se inicializa el primer conjunto con 1\n",
        "    for i in range(1, n+1):\n",
        "        bell_sets[i][0] = bell_sets[i-1][i-1]\n",
        "        # Llena el primer elemento de cada conjunto con el ultimo elemento del conjunto anterior\n",
        "\n",
        "        for j in range(1, i+1):\n",
        "            bell_sets[i][j] = bell_sets[i-1][j-1] + bell_sets[i][j-1]\n",
        "\n",
        "            #LLena los elementos restantes como la suma del elemento anterior al elemento j\n",
        "            #y el elemento encima del mismo en el conjunto anterior\n",
        "\n",
        "    b = bell_sets[n][0]\n",
        "    # your code goes here\n",
        "    return b"
      ],
      "metadata": {
        "id": "WNo88vvfDFBn"
      },
      "execution_count": null,
      "outputs": []
    },
    {
      "cell_type": "code",
      "source": [
        "print(\"El numero de bell para un conjunto de 4 elementos es:\", bell(4))"
      ],
      "metadata": {
        "id": "043VmgENEvc0",
        "outputId": "65281bed-ec88-41df-d1a1-3abfe589b614",
        "colab": {
          "base_uri": "https://localhost:8080/"
        }
      },
      "execution_count": null,
      "outputs": [
        {
          "output_type": "stream",
          "name": "stdout",
          "text": [
            "El numero de bell para un conjunto de 4 elementos es: 15\n"
          ]
        }
      ]
    },
    {
      "cell_type": "markdown",
      "source": [
        "## 2.Write a code that that produces the list of all partititions of the set of $[n]=\\{ 1,2,3,4 \\cdots , n-1, n\\}$ with $0 \\le n \\le 10$.\n",
        "\n",
        "**Hints**:\n",
        "- Set partitions in Python - https://stackoverflow.com/questions/19368375/set-partitions-in-python\n",
        "- Generate all partition of a set - https://www.geeksforgeeks.org/generate-all-partition-of-a-set/"
      ],
      "metadata": {
        "id": "vSafufOkvDht"
      }
    },
    {
      "cell_type": "markdown",
      "source": [
        "El siguiente código fue inspirado de <a href=\" https://www.geeksforgeeks.org/generate-all-partition-of-a-set/\">GeeksForGeeks</a>\n",
        "\n",
        "\n",
        "\n"
      ],
      "metadata": {
        "id": "rE_RnGs-WF0A"
      }
    },
    {
      "cell_type": "code",
      "source": [
        "import copy\n",
        "def print_partition(ans):\n",
        "    \"\"\"\n",
        "    Función para imprimir una partición más bonito\n",
        "    \"\"\"\n",
        "    for i in ans:\n",
        "        print(\"{\", end=\" \")\n",
        "        for element in i:\n",
        "            print(element, end=\" \")\n",
        "        print(\"}\", end=\" \")\n",
        "    print()\n",
        "\n",
        "\n",
        "def partition_set(set, index, ans,listResponse):\n",
        "    \"\"\"\n",
        "    Función para generar todas las particiones\n",
        "    \"\"\"\n",
        "    if index == len(set):\n",
        "        #Si el índice que es el elemento actual que se esta considerando\n",
        "        #es igual a la longitud del conjunto, se imprime la partición\n",
        "        print_partition(ans)\n",
        "        listResponse.append(copy.deepcopy(ans))#Se agrega la partición a la lista de particiones generadas\n",
        "        return\n",
        "\n",
        "    #  Para cada subconjunto en la partición, se agrega el elemento actual a este y se vuelve a llamar\n",
        "    # Esto da como resultado subconjuntos con varios elementos como [[1,2]]\n",
        "    for i in range(len(ans)):\n",
        "        ans[i].append(set[index])#Se agrega el elemento actual al subconjunto i\n",
        "        partition_set(set, index + 1, ans,listResponse)\n",
        "        #Llamada recursiva para el siguiente elemento esto permite generar todas las particiones\n",
        "        #posibles en las que los elementos hacen parte de un solo subconjunto como [[1,2,3]] o [[1,2],[3]]\n",
        "        #Notese que si se genera una partición como [[1,2,3]] se elimina el último elemento para que no se repita en la siguiente iteración\n",
        "        #y este elemento se agrega como singleton fuera del for.\n",
        "        ans[i].pop()\n",
        "\n",
        "    # Agrega el elemento actual como un subconjunto singleton y vuelve a llamar, esto se refiere\n",
        "    # a que se agregan elementos de un solo elemento como [1] al ans y se vuelve a llamar\n",
        "    # lo anterior permite generar particioens como [[1],[2],[3]] para un conjunto de 3 elemenots\n",
        "    ans.append([set[index]])\n",
        "    partition_set(set, index + 1, ans,listResponse)#Llamada recursiva para el siguiente elemento\n",
        "    ans.pop()#Se elimina el último elemento para que no se repita en la siguiente iteración\n",
        "\n",
        "\n",
        "def all_partitions(set,listResponse):\n",
        "    \"\"\"\n",
        "    Función para generar todas las particiones posibles de un conjunto\n",
        "    \"\"\"\n",
        "    # Inicializa una lista vacía para almacenar las particiones\n",
        "    ans = []\n",
        "    # Llama a la función para generar todas las particiones\n",
        "    partition_set(set, 0, ans,listResponse)\n",
        "\n",
        "def partitions(n):\n",
        "  l = []\n",
        "  # Inicializa el conjunto como {1, 2, ..., n}\n",
        "  set = list(range(1, n + 1))\n",
        "\n",
        "  print(\"Todas las particiones del conjunto serán:\")\n",
        "  # Llama a la función para generar todas las particiones\n",
        "  all_partitions(set,l)\n",
        "\n",
        "  print(\"La lista de todas las particiones posibles es:\")\n",
        "  return l"
      ],
      "metadata": {
        "id": "CMt1xuAZEbwv"
      },
      "execution_count": null,
      "outputs": []
    },
    {
      "cell_type": "code",
      "source": [
        "#se probará el código con un n <10 ya que para 10 la cantidad de particiones es 115975\n",
        "print(partitions(4))"
      ],
      "metadata": {
        "colab": {
          "base_uri": "https://localhost:8080/"
        },
        "id": "Nv7XZeB_V0cQ",
        "outputId": "c9a275df-635e-4c6a-cb40-13de26fa0031"
      },
      "execution_count": null,
      "outputs": [
        {
          "output_type": "stream",
          "name": "stdout",
          "text": [
            "Todas las particiones del conjunto serán:\n",
            "{ 1 2 3 4 } \n",
            "{ 1 2 3 } { 4 } \n",
            "{ 1 2 4 } { 3 } \n",
            "{ 1 2 } { 3 4 } \n",
            "{ 1 2 } { 3 } { 4 } \n",
            "{ 1 3 4 } { 2 } \n",
            "{ 1 3 } { 2 4 } \n",
            "{ 1 3 } { 2 } { 4 } \n",
            "{ 1 4 } { 2 3 } \n",
            "{ 1 } { 2 3 4 } \n",
            "{ 1 } { 2 3 } { 4 } \n",
            "{ 1 4 } { 2 } { 3 } \n",
            "{ 1 } { 2 4 } { 3 } \n",
            "{ 1 } { 2 } { 3 4 } \n",
            "{ 1 } { 2 } { 3 } { 4 } \n",
            "La lista de todas las particiones posibles es:\n",
            "[[[1, 2, 3, 4]], [[1, 2, 3], [4]], [[1, 2, 4], [3]], [[1, 2], [3, 4]], [[1, 2], [3], [4]], [[1, 3, 4], [2]], [[1, 3], [2, 4]], [[1, 3], [2], [4]], [[1, 4], [2, 3]], [[1], [2, 3, 4]], [[1], [2, 3], [4]], [[1, 4], [2], [3]], [[1], [2, 4], [3]], [[1], [2], [3, 4]], [[1], [2], [3], [4]]]\n"
          ]
        }
      ]
    },
    {
      "cell_type": "markdown",
      "source": [
        "## 3. Write a code that produces the list of all partititions of the set of $[n]=\\{ 1,2,3,4\\cdots , n-1, n\\}$ with $0 \\le n \\le 10$ and the sum of elements of the partition which is the a constant $\\frac{n(n+1)}{2}$."
      ],
      "metadata": {
        "id": "6lXHDPmHCZ15"
      }
    },
    {
      "cell_type": "code",
      "source": [
        "import copy\n",
        "def print_partition(ans):\n",
        "    \"\"\"\n",
        "    Función para imprimir una partición más bonito\n",
        "    \"\"\"\n",
        "    for i in ans:\n",
        "        print(\"{\", end=\" \")\n",
        "        for element in i:\n",
        "            print(element, end=\" \")\n",
        "        print(\"}\", end=\" \")\n",
        "    print()\n",
        "\n",
        "\n",
        "def partition_set(set, index, ans,listResponse):\n",
        "    \"\"\"\n",
        "    Función para generar todas las particiones\n",
        "    \"\"\"\n",
        "    if index == len(set):\n",
        "        #Si el índice que es el elemento actual que se esta considerando\n",
        "        #es igual a la longitud del conjunto, se imprime la partición\n",
        "        print_partition(ans)\n",
        "        listResponse.append(copy.deepcopy(ans))#Se agrega la partición a la lista de particiones generadas\n",
        "        return\n",
        "\n",
        "    #  Para cada subconjunto en la partición, se agrega el elemento actual a este y se vuelve a llamar\n",
        "    # Esto da como resultado subconjuntos con varios elementos como [[1,2]]\n",
        "    for i in range(len(ans)):\n",
        "        ans[i].append(set[index])#Se agrega el elemento actual al subconjunto i\n",
        "        partition_set(set, index + 1, ans,listResponse)\n",
        "        #Llamada recursiva para el siguiente elemento esto permite generar todas las particiones\n",
        "        #posibles en las que los elementos hacen parte de un solo subconjunto como [[1,2,3]] o [[1,2],[3]]\n",
        "        #Notese que si se genera una partición como [[1,2,3]] se elimina el último elemento para que no se repita en la siguiente iteración\n",
        "        #y este elemento se agrega como singleton fuera del for.\n",
        "        ans[i].pop()\n",
        "\n",
        "    # Agrega el elemento actual como un subconjunto singleton y vuelve a llamar, esto se refiere\n",
        "    # a que se agregan elementos de un solo elemento como [1] al ans y se vuelve a llamar\n",
        "    # lo anterior permite generar particioens como [[1],[2],[3]] para un conjunto de 3 elemenots\n",
        "    ans.append([set[index]])\n",
        "    partition_set(set, index + 1, ans,listResponse)#Llamada recursiva para el siguiente elemento\n",
        "    ans.pop()#Se elimina el último elemento para que no se repita en la siguiente iteración\n",
        "\n",
        "\n",
        "def all_partitions(set,listResponse):\n",
        "    \"\"\"\n",
        "    Función para generar todas las particiones posibles de un conjunto\n",
        "    \"\"\"\n",
        "    # Inicializa una lista vacía para almacenar las particiones\n",
        "    ans = []\n",
        "    # Llama a la función para generar todas las particiones\n",
        "    partition_set(set, 0, ans,listResponse)\n",
        "\n",
        "def partitions_sum(n):\n",
        "  l = []\n",
        "  sum_elements_partition = n*(n+1)//2\n",
        "  # Inicializa el conjunto como {1, 2, ..., n}\n",
        "  set = list(range(1, n + 1))\n",
        "\n",
        "  print(\"Todas las particiones del conjunto serán:\")\n",
        "  # Llama a la función para generar todas las particiones\n",
        "  all_partitions(set,l)\n",
        "\n",
        "  print(\"\\n\")\n",
        "  print(\"La suma de todos los elementos en las particiones es: \",sum_elements_partition )\n",
        "  print(\"\\n\")\n",
        "  print(\"La lista de todas las particiones posibles es:\")\n",
        "  return l"
      ],
      "metadata": {
        "id": "bahIxhWdtfJG"
      },
      "execution_count": null,
      "outputs": []
    },
    {
      "cell_type": "code",
      "source": [
        "print(partitions_sum(4))"
      ],
      "metadata": {
        "colab": {
          "base_uri": "https://localhost:8080/"
        },
        "id": "yaNCs9B6XymJ",
        "outputId": "5cbe31e7-4d86-4134-e8ee-b5f94e74e5e8"
      },
      "execution_count": null,
      "outputs": [
        {
          "output_type": "stream",
          "name": "stdout",
          "text": [
            "Todas las particiones del conjunto serán:\n",
            "{ 1 2 3 4 } \n",
            "{ 1 2 3 } { 4 } \n",
            "{ 1 2 4 } { 3 } \n",
            "{ 1 2 } { 3 4 } \n",
            "{ 1 2 } { 3 } { 4 } \n",
            "{ 1 3 4 } { 2 } \n",
            "{ 1 3 } { 2 4 } \n",
            "{ 1 3 } { 2 } { 4 } \n",
            "{ 1 4 } { 2 3 } \n",
            "{ 1 } { 2 3 4 } \n",
            "{ 1 } { 2 3 } { 4 } \n",
            "{ 1 4 } { 2 } { 3 } \n",
            "{ 1 } { 2 4 } { 3 } \n",
            "{ 1 } { 2 } { 3 4 } \n",
            "{ 1 } { 2 } { 3 } { 4 } \n",
            "\n",
            "\n",
            "La suma de todos los elementos en las particiones es:  10\n",
            "\n",
            "\n",
            "La lista de todas las particiones posibles es:\n",
            "[[[1, 2, 3, 4]], [[1, 2, 3], [4]], [[1, 2, 4], [3]], [[1, 2], [3, 4]], [[1, 2], [3], [4]], [[1, 3, 4], [2]], [[1, 3], [2, 4]], [[1, 3], [2], [4]], [[1, 4], [2, 3]], [[1], [2, 3, 4]], [[1], [2, 3], [4]], [[1, 4], [2], [3]], [[1], [2, 4], [3]], [[1], [2], [3, 4]], [[1], [2], [3], [4]]]\n"
          ]
        }
      ]
    }
  ]
}