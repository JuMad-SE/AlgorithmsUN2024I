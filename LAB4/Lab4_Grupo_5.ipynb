{
  "cells": [
    {
      "cell_type": "markdown",
      "metadata": {
        "id": "view-in-github",
        "colab_type": "text"
      },
      "source": [
        "<a href=\"https://colab.research.google.com/github/JuMad-SE/AlgorithmsUN2024I/blob/main/LAB4/Lab4_Grupo_5.ipynb\" target=\"_parent\"><img src=\"https://colab.research.google.com/assets/colab-badge.svg\" alt=\"Open In Colab\"/></a>"
      ]
    },
    {
      "cell_type": "code",
      "execution_count": null,
      "metadata": {
        "id": "im-VVd1__7VU"
      },
      "outputs": [],
      "source": [
        "!cat /proc/cpuinfo"
      ]
    },
    {
      "cell_type": "markdown",
      "metadata": {
        "id": "N1ok_-56OjB1"
      },
      "source": [
        "# I Solving the Sum of Two Digits Programming Challenge"
      ]
    },
    {
      "cell_type": "markdown",
      "metadata": {
        "id": "MMY7kmDSO0KM"
      },
      "source": [
        "## C++"
      ]
    },
    {
      "cell_type": "code",
      "execution_count": null,
      "metadata": {
        "colab": {
          "base_uri": "https://localhost:8080/"
        },
        "id": "2pGGf9BkPNIk",
        "outputId": "4934c19d-3d52-4b1c-8d44-fec22f18d178"
      },
      "outputs": [
        {
          "output_type": "stream",
          "name": "stdout",
          "text": [
            "Overwriting APlusB.cpp\n"
          ]
        }
      ],
      "source": [
        "%%writefile APlusB.cpp\n",
        "#include <iostream>\n",
        "\n",
        "int sum_of_two_digits(int first_digit, int second_digit) {\n",
        "    return first_digit + second_digit;\n",
        "}\n",
        "\n",
        "int main() {\n",
        "    int a = 0;\n",
        "    int b = 0;\n",
        "    std::cin >> a;\n",
        "    std::cin >> b;\n",
        "    std::cout << sum_of_two_digits(a, b);\n",
        "    return 0;\n",
        "}"
      ]
    },
    {
      "cell_type": "code",
      "execution_count": null,
      "metadata": {
        "id": "0G3ZKOYAPXSU"
      },
      "outputs": [],
      "source": [
        "!g++ APlusB.cpp -o APlusB -std=c++11\n",
        "!./APlusB"
      ]
    },
    {
      "cell_type": "markdown",
      "metadata": {
        "id": "iNkG2HqfTl9c"
      },
      "source": [
        "### Test input output files"
      ]
    },
    {
      "cell_type": "code",
      "execution_count": null,
      "metadata": {
        "id": "aTzU2efzMxly"
      },
      "outputs": [],
      "source": [
        "%%writefile input1.txt\n",
        "4 8"
      ]
    },
    {
      "cell_type": "code",
      "execution_count": null,
      "metadata": {
        "colab": {
          "base_uri": "https://localhost:8080/"
        },
        "id": "zBJ0Gc0NQRet",
        "outputId": "2d7ccc44-1f09-4f62-c6ab-f6ed0aa0abab"
      },
      "outputs": [
        {
          "output_type": "stream",
          "name": "stdout",
          "text": [
            "Writing output1.txt\n"
          ]
        }
      ],
      "source": [
        "%%writefile output1.txt\n",
        "12"
      ]
    },
    {
      "cell_type": "code",
      "execution_count": null,
      "metadata": {
        "colab": {
          "base_uri": "https://localhost:8080/"
        },
        "id": "IjEcIx63PJAN",
        "outputId": "39bc0dae-e626-46e7-f4fe-f552cee3007a"
      },
      "outputs": [
        {
          "output_type": "stream",
          "name": "stdout",
          "text": [
            "Writing input2.txt\n"
          ]
        }
      ],
      "source": [
        "%%writefile input2.txt\n",
        "0 9"
      ]
    },
    {
      "cell_type": "code",
      "execution_count": null,
      "metadata": {
        "colab": {
          "base_uri": "https://localhost:8080/"
        },
        "id": "Up9gOrxURTmd",
        "outputId": "e00d3afd-7144-40e3-81fd-7301c599c25d"
      },
      "outputs": [
        {
          "output_type": "stream",
          "name": "stdout",
          "text": [
            "Writing output2.txt\n"
          ]
        }
      ],
      "source": [
        "%%writefile output2.txt\n",
        "9"
      ]
    },
    {
      "cell_type": "code",
      "execution_count": null,
      "metadata": {
        "colab": {
          "base_uri": "https://localhost:8080/"
        },
        "id": "PST6G-s-Pwgc",
        "outputId": "682c523f-4879-4305-9c8c-09eb2950ab46"
      },
      "outputs": [
        {
          "output_type": "stream",
          "name": "stdout",
          "text": [
            "12"
          ]
        }
      ],
      "source": [
        "!./APlusB < input1.txt"
      ]
    },
    {
      "cell_type": "code",
      "execution_count": null,
      "metadata": {
        "colab": {
          "base_uri": "https://localhost:8080/"
        },
        "id": "cKxZOjSlRfIN",
        "outputId": "8253cd9e-6772-4126-b7ca-5dfaa19fc548"
      },
      "outputs": [
        {
          "output_type": "stream",
          "name": "stdout",
          "text": [
            "9"
          ]
        }
      ],
      "source": [
        "!./APlusB < input2.txt"
      ]
    },
    {
      "cell_type": "markdown",
      "metadata": {
        "id": "Qw2TQWCCUwqk"
      },
      "source": [
        "### Comparing files with grep\n",
        "\n",
        "https://askubuntu.com/questions/546796/comparing-two-text-files"
      ]
    },
    {
      "cell_type": "code",
      "execution_count": null,
      "metadata": {
        "id": "WVIaAmMKU4QM"
      },
      "outputs": [],
      "source": [
        "!grep -xvFf output1.txt output1.txt"
      ]
    },
    {
      "cell_type": "code",
      "execution_count": null,
      "metadata": {
        "colab": {
          "base_uri": "https://localhost:8080/"
        },
        "id": "MQU8gPPjQuYO",
        "outputId": "bc4cf73b-3688-47cb-e613-83b6b6415b8e"
      },
      "outputs": [
        {
          "output_type": "stream",
          "name": "stdout",
          "text": [
            "9\n"
          ]
        }
      ],
      "source": [
        "!grep -xvFf output1.txt output2.txt"
      ]
    },
    {
      "cell_type": "code",
      "execution_count": null,
      "metadata": {
        "colab": {
          "base_uri": "https://localhost:8080/"
        },
        "id": "jYL9OuYBTD_l",
        "outputId": "7948d00e-07b8-4bca-fcae-ed5e1de0e906"
      },
      "outputs": [
        {
          "output_type": "stream",
          "name": "stdout",
          "text": [
            "12\n"
          ]
        }
      ],
      "source": [
        "!grep -xvFf output2.txt output1.txt"
      ]
    },
    {
      "cell_type": "code",
      "execution_count": null,
      "metadata": {
        "id": "Jlja0Xm4TX9M"
      },
      "outputs": [],
      "source": [
        "!./APlusB < input1.txt> ctest1.txt\n",
        "!grep -xvFf output1.txt ctest1.txt"
      ]
    },
    {
      "cell_type": "code",
      "execution_count": null,
      "metadata": {
        "id": "g9OIUZA_QLCQ"
      },
      "outputs": [],
      "source": [
        "!./APlusB < input2.txt > ctest2.txt\n",
        "!grep -xvFf output2.txt ctest2.txt"
      ]
    },
    {
      "cell_type": "markdown",
      "metadata": {
        "id": "3BgOaDjUVJk6"
      },
      "source": [
        "## Python"
      ]
    },
    {
      "cell_type": "code",
      "execution_count": null,
      "metadata": {
        "id": "DBvl-T0CTN_8"
      },
      "outputs": [],
      "source": [
        "%%writefile sum.py\n",
        "# python3\n",
        "\n",
        "def sum_of_two_digits(first_digit, second_digit):\n",
        "    return first_digit + second_digit\n",
        "\n",
        "if __name__ == '__main__':\n",
        "    a, b = map(int, input().split())\n",
        "    print(sum_of_two_digits(a, b))"
      ]
    },
    {
      "cell_type": "code",
      "execution_count": null,
      "metadata": {
        "id": "QKoKM11_WGyF"
      },
      "outputs": [],
      "source": [
        "!python sum.py"
      ]
    },
    {
      "cell_type": "code",
      "execution_count": null,
      "metadata": {
        "id": "cocFbPRTWrqt"
      },
      "outputs": [],
      "source": [
        "!python sum.py  < input1.txt> ptest1.txt\n",
        "!grep -xvFf output1.txt ptest1.txt"
      ]
    },
    {
      "cell_type": "code",
      "execution_count": null,
      "metadata": {
        "id": "MorKTa-XXASN"
      },
      "outputs": [],
      "source": [
        "!python sum.py  < input2.txt> ptest2.txt\n",
        "!grep -xvFf output2.txt ptest2.txt"
      ]
    },
    {
      "cell_type": "markdown",
      "metadata": {
        "id": "uvP-mOubW_5F"
      },
      "source": [
        "# II Solving The Maximum Pairwise Product Programming Challenge in C++"
      ]
    },
    {
      "cell_type": "markdown",
      "metadata": {
        "id": "C12yoFR6Xonl"
      },
      "source": [
        "## C++\n",
        "\n",
        "$$ T(n) < 6 n^2 = O(n^2)$$"
      ]
    },
    {
      "cell_type": "code",
      "execution_count": null,
      "metadata": {
        "colab": {
          "base_uri": "https://localhost:8080/"
        },
        "id": "3LpfoGv2Ae81",
        "outputId": "763f9381-e670-4d64-9419-fb1c5b9fc940"
      },
      "outputs": [
        {
          "output_type": "stream",
          "name": "stdout",
          "text": [
            "Writing max_pairwise_product_full.cpp\n"
          ]
        }
      ],
      "source": [
        "%%writefile max_pairwise_product_full.cpp\n",
        "#include <iostream>\n",
        "#include <vector>\n",
        "#include <algorithm>\n",
        "\n",
        "\n",
        "\n",
        "int MaxPairwiseProduct(const std::vector<int>& numbers) {\n",
        "    int max_product = 0;\n",
        "    int aux_product = 0;\n",
        "    int n = numbers.size();\n",
        "\n",
        "    for (int first = 0; first < n; ++first) {\n",
        "        for (int second = 0; second < n; ++second) {\n",
        "          if ( first != second ){\n",
        "                // Not comparing a number with itself\n",
        "                aux_product = numbers[first] * numbers[second]; //storing the actual product in aux_product\n",
        "                if (aux_product > max_product)  max_product = aux_product; // Updates max product\n",
        "          }\n",
        "        }\n",
        "    }\n",
        "\n",
        "    return max_product;\n",
        "}\n",
        "\n",
        "int main() {\n",
        "    int n;\n",
        "    std::cin >> n;\n",
        "    std::vector<int> numbers(n);\n",
        "    for (int i = 0; i < n; ++i) {\n",
        "        std::cin >> numbers[i];\n",
        "    }\n",
        "\n",
        "    std::cout << MaxPairwiseProduct(numbers) << \"\\n\";\n",
        "    return 0;\n",
        "}"
      ]
    },
    {
      "cell_type": "markdown",
      "metadata": {
        "id": "m75IQQPbEHBS"
      },
      "source": [
        "#### Time Complexity\n",
        "$$\\left. \\begin{array}{llc}\n",
        " \\text{INSTRUCTION} & \\text{TYPE}& \\text{# EXECUTIONS}\\\\\n",
        "\\text{first != second} &  \\text{comparisons} &n^2 \\\\\n",
        "\\text{numbers[first] * numbers[second]}& \\ \\text{ products}  &n^2 - n \\\\\n",
        "\\text{max_product = aux_product} &  \\text{assigments} & [1, \\frac{n^2 - n}{2})  \n",
        "\\end{array}\\right\\}  =  O(n^2)$$"
      ]
    },
    {
      "cell_type": "code",
      "execution_count": null,
      "metadata": {
        "id": "PCVo1h6nCF9k"
      },
      "outputs": [],
      "source": [
        "!g++ max_pairwise_product_full.cpp -o max_pairwise_product_full\n",
        "!./max_pairwise_product_full"
      ]
    },
    {
      "cell_type": "markdown",
      "metadata": {
        "id": "e7KhxHGNS3i0"
      },
      "source": [
        "### Test 1: Small numbers"
      ]
    },
    {
      "cell_type": "code",
      "execution_count": null,
      "metadata": {
        "colab": {
          "base_uri": "https://localhost:8080/"
        },
        "id": "17npyXt7lYzA",
        "outputId": "de7475c3-68f4-4745-b354-5ab07182f5c4"
      },
      "outputs": [
        {
          "output_type": "stream",
          "name": "stdout",
          "text": [
            "Writing input0.txt\n"
          ]
        }
      ],
      "source": [
        "%%writefile input0.txt\n",
        "10\n",
        "0 0 0 0 0 0 0 0 0 0"
      ]
    },
    {
      "cell_type": "code",
      "execution_count": null,
      "metadata": {
        "colab": {
          "base_uri": "https://localhost:8080/"
        },
        "id": "NooGEkJylezm",
        "outputId": "a47997f3-c3f9-4a4d-9b65-e8c823d4d097"
      },
      "outputs": [
        {
          "output_type": "stream",
          "name": "stdout",
          "text": [
            "Writing output0.txt\n"
          ]
        }
      ],
      "source": [
        "%%writefile output0.txt\n",
        "0"
      ]
    },
    {
      "cell_type": "code",
      "execution_count": null,
      "metadata": {
        "id": "R0yFaAOrlqrE"
      },
      "outputs": [],
      "source": [
        "!./max_pairwise_product_full< input0.txt > ctest0.txt\n",
        "!grep -xvFf output0.txt ctest0.txt"
      ]
    },
    {
      "cell_type": "code",
      "execution_count": null,
      "metadata": {
        "colab": {
          "base_uri": "https://localhost:8080/"
        },
        "id": "e1mmTzBgShT-",
        "outputId": "51ec0e70-d6ea-4b5e-93f4-2a8e024c51c1"
      },
      "outputs": [
        {
          "output_type": "stream",
          "name": "stdout",
          "text": [
            "Writing input1.txt\n"
          ]
        }
      ],
      "source": [
        "%%writefile input1.txt\n",
        "10\n",
        "1 2 3 4 5 6 7 8 9 10"
      ]
    },
    {
      "cell_type": "code",
      "execution_count": null,
      "metadata": {
        "colab": {
          "base_uri": "https://localhost:8080/"
        },
        "id": "vy_uI0x7TCId",
        "outputId": "afdabb08-4766-4990-c655-0a8c04b5fff1"
      },
      "outputs": [
        {
          "output_type": "stream",
          "name": "stdout",
          "text": [
            "90\n"
          ]
        }
      ],
      "source": [
        "!./max_pairwise_product_full < input1.txt"
      ]
    },
    {
      "cell_type": "code",
      "execution_count": null,
      "metadata": {
        "colab": {
          "base_uri": "https://localhost:8080/"
        },
        "id": "xaj6f9bxC6D6",
        "outputId": "b967a94c-71d8-4057-c923-b24afd8a20a0"
      },
      "outputs": [
        {
          "output_type": "stream",
          "name": "stdout",
          "text": [
            "Overwriting output1.txt\n"
          ]
        }
      ],
      "source": [
        "%%writefile output1.txt\n",
        "90"
      ]
    },
    {
      "cell_type": "code",
      "execution_count": null,
      "metadata": {
        "id": "fYCjAdA_C-wy"
      },
      "outputs": [],
      "source": [
        "!./max_pairwise_product_full< input1.txt > ctest1.txt\n",
        "!grep -xvFf output1.txt ctest1.txt"
      ]
    },
    {
      "cell_type": "code",
      "execution_count": null,
      "metadata": {
        "colab": {
          "base_uri": "https://localhost:8080/"
        },
        "id": "ZPe40LY14_6f",
        "outputId": "b7472899-5973-4e66-db84-470ace1c0cad"
      },
      "outputs": [
        {
          "output_type": "stream",
          "name": "stdout",
          "text": [
            "Writing input2.txt\n"
          ]
        }
      ],
      "source": [
        "%%writefile input2.txt\n",
        "10\n",
        "10 9 8 7 6 5 4 3 2 1"
      ]
    },
    {
      "cell_type": "code",
      "execution_count": null,
      "metadata": {
        "colab": {
          "base_uri": "https://localhost:8080/"
        },
        "id": "xiHmF7HA5Faa",
        "outputId": "e5f35075-bd1e-4d89-bc90-da53beab1e3c"
      },
      "outputs": [
        {
          "output_type": "stream",
          "name": "stdout",
          "text": [
            "Overwriting output2.txt\n"
          ]
        }
      ],
      "source": [
        "%%writefile output2.txt\n",
        "90"
      ]
    },
    {
      "cell_type": "code",
      "execution_count": null,
      "metadata": {
        "id": "jjwc9kwb5t_k"
      },
      "outputs": [],
      "source": [
        "!./max_pairwise_product_full< input2.txt > ctest2.txt\n",
        "!grep -xvFf output2.txt ctest2.txt"
      ]
    },
    {
      "cell_type": "markdown",
      "metadata": {
        "id": "IeZ3kTjpYmR9"
      },
      "source": [
        "### Test 2: largest input numbers 200000 200000 to check possible intger overflow"
      ]
    },
    {
      "cell_type": "code",
      "execution_count": null,
      "metadata": {
        "colab": {
          "base_uri": "https://localhost:8080/"
        },
        "id": "LQNlZqaqYt7U",
        "outputId": "42ea83a9-81d4-436e-ba5b-1c72e4db296f"
      },
      "outputs": [
        {
          "output_type": "stream",
          "name": "stdout",
          "text": [
            "Writing input3.txt\n"
          ]
        }
      ],
      "source": [
        "%%writefile input3.txt\n",
        "6\n",
        "1 3 200000 9 200000 23"
      ]
    },
    {
      "cell_type": "code",
      "execution_count": null,
      "metadata": {
        "colab": {
          "base_uri": "https://localhost:8080/"
        },
        "id": "GjQq7QOUCw-9",
        "outputId": "67369355-bae9-4fa4-fc96-d3ccb8807a23"
      },
      "outputs": [
        {
          "output_type": "execute_result",
          "data": {
            "text/plain": [
              "40000000000"
            ]
          },
          "metadata": {},
          "execution_count": 32
        }
      ],
      "source": [
        "200000*200000"
      ]
    },
    {
      "cell_type": "code",
      "execution_count": null,
      "metadata": {
        "colab": {
          "base_uri": "https://localhost:8080/"
        },
        "id": "EuS6n3jtDK5C",
        "outputId": "c72e329c-1f7f-4a5b-d56a-af3c2e4c3e8f"
      },
      "outputs": [
        {
          "output_type": "stream",
          "name": "stdout",
          "text": [
            "Writing output3.txt\n"
          ]
        }
      ],
      "source": [
        "%%writefile output3.txt\n",
        "40000000000"
      ]
    },
    {
      "cell_type": "code",
      "execution_count": null,
      "metadata": {
        "colab": {
          "base_uri": "https://localhost:8080/"
        },
        "id": "2Wad2VZUZDxR",
        "outputId": "86603128-3dae-47b2-d136-b370c6abca07"
      },
      "outputs": [
        {
          "output_type": "stream",
          "name": "stdout",
          "text": [
            "1345294336\n"
          ]
        }
      ],
      "source": [
        "!./max_pairwise_product_full < input3.txt"
      ]
    },
    {
      "cell_type": "code",
      "execution_count": null,
      "metadata": {
        "colab": {
          "base_uri": "https://localhost:8080/"
        },
        "id": "pEvp1ieyDJGq",
        "outputId": "da754a1c-65cd-4f92-efa7-672aee85f729"
      },
      "outputs": [
        {
          "output_type": "stream",
          "name": "stdout",
          "text": [
            "1345294336\n"
          ]
        }
      ],
      "source": [
        "!./max_pairwise_product_full < input3.txt > ctest3.txt\n",
        "!grep -xvFf output3.txt ctest3.txt"
      ]
    },
    {
      "cell_type": "code",
      "execution_count": null,
      "metadata": {
        "colab": {
          "base_uri": "https://localhost:8080/"
        },
        "id": "SrtJrKqM-God",
        "outputId": "44537bc0-2140-471e-f1a4-f38be4c8b4fa"
      },
      "outputs": [
        {
          "output_type": "stream",
          "name": "stdout",
          "text": [
            "Writing run_all_test.sh\n"
          ]
        }
      ],
      "source": [
        " %%writefile run_all_test.sh\n",
        "#!/bin/bash\n",
        "g++ max_pairwise_product_full.cpp -o max_pairwise_product_full\n",
        "\n",
        "#comparing all the executions to check the differences between the outputs\n",
        "for i in {0..3}\n",
        "do\n",
        "    ./max_pairwise_product_full < input$i.txt > ctest$i.txt\n",
        "    grep -xvFf output$i.txt ctest$i.txt\n",
        "done"
      ]
    },
    {
      "cell_type": "code",
      "execution_count": null,
      "metadata": {
        "colab": {
          "base_uri": "https://localhost:8080/"
        },
        "id": "wGWMHtzS-QnA",
        "outputId": "10f5f85a-136a-4d28-e811-66a0e94e02f9"
      },
      "outputs": [
        {
          "output_type": "stream",
          "name": "stdout",
          "text": [
            "1345294336\n"
          ]
        }
      ],
      "source": [
        "!chmod u+x run_all_test.sh\n",
        "!./run_all_test.sh"
      ]
    },
    {
      "cell_type": "markdown",
      "metadata": {
        "id": "H2SC0Qt5HCzz"
      },
      "source": [
        "### Changing the variables to long long"
      ]
    },
    {
      "cell_type": "code",
      "execution_count": null,
      "metadata": {
        "colab": {
          "base_uri": "https://localhost:8080/"
        },
        "id": "MPcmsxiQZSfE",
        "outputId": "6cbdb942-737b-4dbd-c6dd-d5ae9f9bfa80"
      },
      "outputs": [
        {
          "output_type": "stream",
          "name": "stdout",
          "text": [
            "Writing max_pairwise_product_long_full.cpp\n"
          ]
        }
      ],
      "source": [
        "%%writefile max_pairwise_product_long_full.cpp\n",
        "#include <iostream>\n",
        "#include <vector>\n",
        "#include <algorithm>\n",
        "\n",
        "long long MaxPairwiseProduct(const std::vector<int>& numbers) {\n",
        "    long long max_product = 0LL;\n",
        "\t  long long aux_product = 0LL;\n",
        "    int n = numbers.size();\n",
        "\n",
        "    for (int first = 0; first < n; ++first) {\n",
        "        for (int second = 0; second < n; ++second) {\n",
        "          if ( first != second){\n",
        "                aux_product = (long long) numbers[first] * numbers[second];\n",
        "                if (aux_product > max_product)  max_product = aux_product;\n",
        "          }\n",
        "        }\n",
        "    }\n",
        "\n",
        "\n",
        "    return max_product;\n",
        "}\n",
        "\n",
        "int main() {\n",
        "    int n;\n",
        "    std::cin >> n;\n",
        "    std::vector<int> numbers(n);\n",
        "    for (int i = 0; i < n; ++i) {\n",
        "        std::cin >> numbers[i];\n",
        "    }\n",
        "\n",
        "    std::cout << MaxPairwiseProduct(numbers) << \"\\n\";\n",
        "    return 0;\n",
        "}\n"
      ]
    },
    {
      "cell_type": "code",
      "execution_count": null,
      "metadata": {
        "id": "W3xQpFXL6wjO"
      },
      "outputs": [],
      "source": [
        "!g++ max_pairwise_product_long_full.cpp -o max_pairwise_product_long_full"
      ]
    },
    {
      "cell_type": "code",
      "execution_count": null,
      "metadata": {
        "colab": {
          "base_uri": "https://localhost:8080/"
        },
        "id": "H5dvN9M3R9sV",
        "outputId": "4da14a58-b753-483d-ab9e-0c6ceaecac6f"
      },
      "outputs": [
        {
          "output_type": "stream",
          "name": "stdout",
          "text": [
            "40000000000\n"
          ]
        }
      ],
      "source": [
        "!./max_pairwise_product_long_full < input3.txt"
      ]
    },
    {
      "cell_type": "markdown",
      "metadata": {
        "id": "gx-sEYdfQ8f8"
      },
      "source": [
        "### Runing multuple test with a bash shell"
      ]
    },
    {
      "cell_type": "code",
      "execution_count": null,
      "metadata": {
        "colab": {
          "base_uri": "https://localhost:8080/"
        },
        "id": "O9qsq2nn7elw",
        "outputId": "63f1ec89-c0f5-452d-e43c-140ce9a63ff2"
      },
      "outputs": [
        {
          "output_type": "stream",
          "name": "stdout",
          "text": [
            "Overwriting run_all_test.sh\n"
          ]
        }
      ],
      "source": [
        " %%writefile run_all_test.sh\n",
        "#!/bin/bash\n",
        "g++ max_pairwise_product_long_full.cpp -o max_pairwise_product_long_full\n",
        "for i in {1..3}\n",
        "do\n",
        "    ./max_pairwise_product_long_full < input$i.txt > ctest$i.txt\n",
        "    grep -xvFf output$i.txt ctest$i.txt\n",
        "done"
      ]
    },
    {
      "cell_type": "code",
      "execution_count": null,
      "metadata": {
        "id": "0g5kKVph7xIA"
      },
      "outputs": [],
      "source": [
        "!chmod u+x run_all_test.sh\n",
        "!./run_all_test.sh"
      ]
    },
    {
      "cell_type": "markdown",
      "metadata": {
        "id": "XPVHkHxH6_7s"
      },
      "source": [
        "### Test 3  stress tests, 6 testing cases files input4.txt/output4.txt .. input10.txt/output10.txt\n",
        "\n",
        "---\n",
        "\n"
      ]
    },
    {
      "cell_type": "markdown",
      "source": [],
      "metadata": {
        "id": "tnJFQbrOkIsV"
      }
    },
    {
      "cell_type": "markdown",
      "metadata": {
        "id": "mNqB9tGfXps3"
      },
      "source": [
        "Evaluating 6 testing case files, proving with negative numbers, large numbers and small numbers"
      ]
    },
    {
      "cell_type": "code",
      "execution_count": null,
      "metadata": {
        "colab": {
          "base_uri": "https://localhost:8080/"
        },
        "id": "PwqpBmYr69fu",
        "outputId": "78772773-1b10-4f9b-84f0-98ed11394f76"
      },
      "outputs": [
        {
          "output_type": "stream",
          "name": "stdout",
          "text": [
            "Writing input4.txt\n"
          ]
        }
      ],
      "source": [
        "%%writefile input4.txt\n",
        "5\n",
        "100000000 300000000 400000000 500000000 600000000"
      ]
    },
    {
      "cell_type": "code",
      "execution_count": null,
      "metadata": {
        "colab": {
          "base_uri": "https://localhost:8080/"
        },
        "id": "-DWHseGEZExs",
        "outputId": "340a60a2-be41-4205-baff-51cc082938e3"
      },
      "outputs": [
        {
          "output_type": "execute_result",
          "data": {
            "text/plain": [
              "300000000000000000"
            ]
          },
          "metadata": {},
          "execution_count": 24
        }
      ],
      "source": [
        "500000000*600000000"
      ]
    },
    {
      "cell_type": "code",
      "execution_count": null,
      "metadata": {
        "colab": {
          "base_uri": "https://localhost:8080/"
        },
        "id": "jBCkMeR6Fw4y",
        "outputId": "085321a5-bec8-4057-cb03-48ef55430229"
      },
      "outputs": [
        {
          "output_type": "stream",
          "name": "stdout",
          "text": [
            "Writing output4.txt\n"
          ]
        }
      ],
      "source": [
        "%%writefile output4.txt\n",
        "300000000000000000"
      ]
    },
    {
      "cell_type": "code",
      "execution_count": null,
      "metadata": {
        "colab": {
          "base_uri": "https://localhost:8080/"
        },
        "id": "zED8V8wu-eoM",
        "outputId": "746bb11e-633a-4723-981a-3448c3ba515c"
      },
      "outputs": [
        {
          "output_type": "stream",
          "name": "stdout",
          "text": [
            "Writing input5.txt\n"
          ]
        }
      ],
      "source": [
        "%%writefile input5.txt\n",
        "3\n",
        "-1 2 3"
      ]
    },
    {
      "cell_type": "code",
      "execution_count": null,
      "metadata": {
        "colab": {
          "base_uri": "https://localhost:8080/"
        },
        "id": "6QaqK01gXkIn",
        "outputId": "1cf4a9e9-66f4-412d-88d7-4af39d69493d"
      },
      "outputs": [
        {
          "output_type": "stream",
          "name": "stdout",
          "text": [
            "Writing output5.txt\n"
          ]
        }
      ],
      "source": [
        "%%writefile output5.txt\n",
        "6"
      ]
    },
    {
      "cell_type": "code",
      "execution_count": null,
      "metadata": {
        "colab": {
          "base_uri": "https://localhost:8080/"
        },
        "id": "IfSXPD7PXziy",
        "outputId": "039b8390-d6e2-48a9-fd6b-c53930ef060f"
      },
      "outputs": [
        {
          "output_type": "stream",
          "name": "stdout",
          "text": [
            "Writing input6.txt\n"
          ]
        }
      ],
      "source": [
        "%%writefile input6.txt\n",
        "6\n",
        "2000 32 3 1200 5 40"
      ]
    },
    {
      "cell_type": "code",
      "execution_count": null,
      "metadata": {
        "colab": {
          "base_uri": "https://localhost:8080/"
        },
        "id": "MyIaG1pZX95T",
        "outputId": "63d457cd-59ab-42c0-9b7c-efd77b2149c3"
      },
      "outputs": [
        {
          "output_type": "execute_result",
          "data": {
            "text/plain": [
              "2400000"
            ]
          },
          "metadata": {},
          "execution_count": 49
        }
      ],
      "source": [
        "2000 * 1200"
      ]
    },
    {
      "cell_type": "code",
      "execution_count": null,
      "metadata": {
        "colab": {
          "base_uri": "https://localhost:8080/"
        },
        "id": "ZlZ0wN7xYH08",
        "outputId": "830b1850-ce69-462c-f079-1745b048f927"
      },
      "outputs": [
        {
          "output_type": "stream",
          "name": "stdout",
          "text": [
            "Writing output6.txt\n"
          ]
        }
      ],
      "source": [
        "%%writefile output6.txt\n",
        "2400000"
      ]
    },
    {
      "cell_type": "code",
      "execution_count": null,
      "metadata": {
        "colab": {
          "base_uri": "https://localhost:8080/"
        },
        "id": "mAddQNTvX90y",
        "outputId": "e706f13e-92fe-4833-eef2-3e7aa99ac24b"
      },
      "outputs": [
        {
          "output_type": "stream",
          "name": "stdout",
          "text": [
            "Writing input7.txt\n"
          ]
        }
      ],
      "source": [
        "%%writefile input7.txt\n",
        "6\n",
        "-2000 -2232 -2213 -121200 -1225 -1240"
      ]
    },
    {
      "cell_type": "code",
      "execution_count": null,
      "metadata": {
        "colab": {
          "base_uri": "https://localhost:8080/"
        },
        "id": "EsdtUy6VYa-G",
        "outputId": "fb0e5433-854e-463a-b2a3-4cb232cfa02b"
      },
      "outputs": [
        {
          "output_type": "execute_result",
          "data": {
            "text/plain": [
              "270518400"
            ]
          },
          "metadata": {},
          "execution_count": 52
        }
      ],
      "source": [
        "-2232 * -121200"
      ]
    },
    {
      "cell_type": "code",
      "execution_count": null,
      "metadata": {
        "colab": {
          "base_uri": "https://localhost:8080/"
        },
        "id": "OFHNzZ-3Y6Vp",
        "outputId": "2ab65cb8-56c6-4519-e111-d00930eff03d"
      },
      "outputs": [
        {
          "output_type": "stream",
          "name": "stdout",
          "text": [
            "Writing output7.txt\n"
          ]
        }
      ],
      "source": [
        "%%writefile output7.txt\n",
        "270518400"
      ]
    },
    {
      "cell_type": "code",
      "execution_count": null,
      "metadata": {
        "colab": {
          "base_uri": "https://localhost:8080/"
        },
        "id": "x9WPfsh_drtA",
        "outputId": "c5f0e6ec-6af2-441e-afdd-cfb9cf75dcf5"
      },
      "outputs": [
        {
          "output_type": "stream",
          "name": "stdout",
          "text": [
            "Writing hello.cpp\n"
          ]
        }
      ],
      "source": [
        "%%writefile hello.cpp\n",
        "#include <iostream>\n",
        "using namespace std;\n",
        "\n",
        "int main() {\n",
        "    long long a = -200000;\n",
        "    long long b = -220000;\n",
        "    cout << a*b << endl;\n",
        "    return 0;\n",
        "}"
      ]
    },
    {
      "cell_type": "code",
      "execution_count": null,
      "metadata": {
        "colab": {
          "base_uri": "https://localhost:8080/"
        },
        "id": "S0UMGWbld0qv",
        "outputId": "f9151551-9603-4cf1-9e6e-601668b0c8a8"
      },
      "outputs": [
        {
          "output_type": "stream",
          "name": "stdout",
          "text": [
            "44000000000\n"
          ]
        }
      ],
      "source": [
        "!g++ hello.cpp -o hello\n",
        "!./hello"
      ]
    },
    {
      "cell_type": "code",
      "execution_count": null,
      "metadata": {
        "colab": {
          "base_uri": "https://localhost:8080/"
        },
        "id": "xY4HrjplYpB9",
        "outputId": "c2013b92-6e1f-4393-ab30-a89c2d5d5887"
      },
      "outputs": [
        {
          "output_type": "stream",
          "name": "stdout",
          "text": [
            "Writing input8.txt\n"
          ]
        }
      ],
      "source": [
        "%%writefile input8.txt\n",
        "6\n",
        "0 0 0 0 0 2"
      ]
    },
    {
      "cell_type": "code",
      "execution_count": null,
      "metadata": {
        "colab": {
          "base_uri": "https://localhost:8080/"
        },
        "id": "ZZVMX75MYy9f",
        "outputId": "0da4d425-22c0-4a49-d870-22df330e6ac4"
      },
      "outputs": [
        {
          "output_type": "execute_result",
          "data": {
            "text/plain": [
              "0"
            ]
          },
          "metadata": {},
          "execution_count": 60
        }
      ],
      "source": [
        "0*2"
      ]
    },
    {
      "cell_type": "code",
      "execution_count": null,
      "metadata": {
        "colab": {
          "base_uri": "https://localhost:8080/"
        },
        "id": "njjl3c9qYwrL",
        "outputId": "24b0e087-b705-4cab-cfcb-26fa92bead2d"
      },
      "outputs": [
        {
          "output_type": "stream",
          "name": "stdout",
          "text": [
            "Writing output8.txt\n"
          ]
        }
      ],
      "source": [
        "%%writefile output8.txt\n",
        "0"
      ]
    },
    {
      "cell_type": "code",
      "execution_count": null,
      "metadata": {
        "colab": {
          "base_uri": "https://localhost:8080/"
        },
        "id": "oiH6zzOkaG0a",
        "outputId": "061bf9bb-2b13-44d3-84a0-dd4bed84c1bd"
      },
      "outputs": [
        {
          "output_type": "execute_result",
          "data": {
            "text/plain": [
              "[470242, 812500, 738750, 508026, 668831]"
            ]
          },
          "metadata": {},
          "execution_count": 62
        }
      ],
      "source": [
        "import random\n",
        "random_list = []\n",
        "for i in range(5):\n",
        "  random_list.append(int(random.random() * 1000000))\n",
        "random_list"
      ]
    },
    {
      "cell_type": "code",
      "execution_count": null,
      "metadata": {
        "colab": {
          "base_uri": "https://localhost:8080/"
        },
        "id": "jJlb5a1RZ1be",
        "outputId": "cd3ea64c-ac5d-4e66-c41f-5ab1ac0478a8"
      },
      "outputs": [
        {
          "output_type": "stream",
          "name": "stdout",
          "text": [
            "Writing input9.txt\n"
          ]
        }
      ],
      "source": [
        "%%writefile input9.txt\n",
        "5\n",
        "370943 42092 82682 911750 759855"
      ]
    },
    {
      "cell_type": "code",
      "execution_count": null,
      "metadata": {
        "colab": {
          "base_uri": "https://localhost:8080/"
        },
        "id": "hSdF2qW-a3xV",
        "outputId": "181962df-4bba-4428-da2a-bcbaee50e5de"
      },
      "outputs": [
        {
          "output_type": "execute_result",
          "data": {
            "text/plain": [
              "692797796250"
            ]
          },
          "metadata": {},
          "execution_count": 64
        }
      ],
      "source": [
        "911750*759855"
      ]
    },
    {
      "cell_type": "code",
      "execution_count": null,
      "metadata": {
        "colab": {
          "base_uri": "https://localhost:8080/"
        },
        "id": "xdmZYAFdau1s",
        "outputId": "f8762af7-6df8-46da-f17e-6d45bf3e5a9e"
      },
      "outputs": [
        {
          "output_type": "stream",
          "name": "stdout",
          "text": [
            "Writing output9.txt\n"
          ]
        }
      ],
      "source": [
        "%%writefile output9.txt\n",
        "692797796250"
      ]
    },
    {
      "cell_type": "code",
      "execution_count": null,
      "metadata": {
        "colab": {
          "base_uri": "https://localhost:8080/"
        },
        "id": "WZPIPzmRa77M",
        "outputId": "a1a36a97-3436-4c1c-a8fc-cdc2611b8138"
      },
      "outputs": [
        {
          "output_type": "stream",
          "name": "stdout",
          "text": [
            "Writing input10.txt\n"
          ]
        }
      ],
      "source": [
        "%%writefile input10.txt\n",
        "4\n",
        "-2 -3 -4 0"
      ]
    },
    {
      "cell_type": "code",
      "execution_count": null,
      "metadata": {
        "colab": {
          "base_uri": "https://localhost:8080/"
        },
        "id": "Wl9hCuoDbDL2",
        "outputId": "9df3d91a-09fa-44c6-acee-84ecc06d98f9"
      },
      "outputs": [
        {
          "output_type": "execute_result",
          "data": {
            "text/plain": [
              "12"
            ]
          },
          "metadata": {},
          "execution_count": 67
        }
      ],
      "source": [
        "-4*-3"
      ]
    },
    {
      "cell_type": "code",
      "execution_count": null,
      "metadata": {
        "colab": {
          "base_uri": "https://localhost:8080/"
        },
        "id": "it_oQwTgbIbP",
        "outputId": "a3943658-8401-49c7-9935-0a3b2c44c9a1"
      },
      "outputs": [
        {
          "output_type": "stream",
          "name": "stdout",
          "text": [
            "Writing output10.txt\n"
          ]
        }
      ],
      "source": [
        "%%writefile output10.txt\n",
        "12"
      ]
    },
    {
      "cell_type": "markdown",
      "metadata": {
        "id": "hgkEmm4BbYtJ"
      },
      "source": [
        "Testing all the stress tests"
      ]
    },
    {
      "cell_type": "code",
      "execution_count": null,
      "metadata": {
        "colab": {
          "base_uri": "https://localhost:8080/"
        },
        "id": "5v32mct9bXc9",
        "outputId": "cc44f58b-f1ad-4ba0-8849-6a661fe251c5"
      },
      "outputs": [
        {
          "output_type": "stream",
          "name": "stdout",
          "text": [
            "Overwriting run_all_test.sh\n"
          ]
        }
      ],
      "source": [
        " %%writefile run_all_test.sh\n",
        "#!/bin/bash\n",
        "g++ max_pairwise_product_long_full.cpp -o max_pairwise_product_long_full\n",
        "for i in {4..10}\n",
        "do\n",
        "    ./max_pairwise_product_long_full < input$i.txt > ctest$i.txt\n",
        "    grep -xvFf output$i.txt ctest$i.txt\n",
        "done"
      ]
    },
    {
      "cell_type": "code",
      "execution_count": null,
      "metadata": {
        "id": "3DJ2Hs__bwSz",
        "colab": {
          "base_uri": "https://localhost:8080/"
        },
        "outputId": "10f6dc2e-2ba7-44d6-d365-8a3b955d1c89"
      },
      "outputs": [
        {
          "output_type": "stream",
          "name": "stdout",
          "text": [
            "grep: output7.txt: No such file or directory\n",
            "./run_all_test.sh: line 5: input8.txt: No such file or directory\n",
            "grep: output8.txt: No such file or directory\n",
            "./run_all_test.sh: line 5: input9.txt: No such file or directory\n",
            "grep: output9.txt: No such file or directory\n",
            "./run_all_test.sh: line 5: input10.txt: No such file or directory\n",
            "grep: output10.txt: No such file or directory\n"
          ]
        }
      ],
      "source": [
        "!chmod u+x run_all_test.sh\n",
        "!./run_all_test.sh"
      ]
    },
    {
      "cell_type": "markdown",
      "metadata": {
        "id": "s_OxUxqykg8d"
      },
      "source": [
        "Testing all the stress tests"
      ]
    },
    {
      "cell_type": "markdown",
      "metadata": {
        "id": "9z9yr5QkeyJF"
      },
      "source": [
        "### Test 4  time test  measure the execution time running with the the largest worst cases input11.txt  (200000 increasing numbers) and input12.txt (199998 increasing numbers and  200000, 200000 at the end)"
      ]
    },
    {
      "cell_type": "code",
      "execution_count": null,
      "metadata": {
        "colab": {
          "base_uri": "https://localhost:8080/"
        },
        "id": "UmB1ipWM_nSk",
        "outputId": "231e42b0-44eb-440d-a523-478f492b79a5"
      },
      "outputs": [
        {
          "output_type": "stream",
          "name": "stdout",
          "text": [
            "Writing WriteTest.cpp\n"
          ]
        }
      ],
      "source": [
        "# input11.txt 200000 increasing numbers:  1 2 .. 200000\n",
        "\n",
        "%%writefile WriteTest.cpp\n",
        "\n",
        "#include <iostream>\n",
        "#include <fstream>\n",
        "#include <cstdlib>\n",
        "\n",
        "using namespace std;\n",
        "\n",
        "int main() {\n",
        "  // Create and open a text file\n",
        "  ofstream MyFile(\"input11.txt\");\n",
        "\n",
        " MyFile << 200000 <<\"\\n\";  // n\n",
        " for (int i=1; i <200001; i++){\n",
        "     MyFile << i <<\" \";\n",
        " }\n",
        "\n",
        "  // Close the file\n",
        "  MyFile.close();\n",
        "}"
      ]
    },
    {
      "cell_type": "code",
      "execution_count": null,
      "metadata": {
        "id": "EH25TkOkZfD9"
      },
      "outputs": [],
      "source": [
        "!g++ WriteTest.cpp -o WriteTest\n",
        "!./WriteTest"
      ]
    },
    {
      "cell_type": "code",
      "execution_count": null,
      "metadata": {
        "colab": {
          "base_uri": "https://localhost:8080/"
        },
        "id": "j0mokSOnCCtZ",
        "outputId": "3618e025-ec59-45fd-f2f1-aa607849c1d0"
      },
      "outputs": [
        {
          "output_type": "execute_result",
          "data": {
            "text/plain": [
              "39999800000"
            ]
          },
          "metadata": {},
          "execution_count": 70
        }
      ],
      "source": [
        "199999 * 200000"
      ]
    },
    {
      "cell_type": "code",
      "execution_count": null,
      "metadata": {
        "colab": {
          "base_uri": "https://localhost:8080/"
        },
        "id": "VoDhDV73B5Mo",
        "outputId": "95ab4c27-42ba-4f32-ffd2-3bd62601760e"
      },
      "outputs": [
        {
          "output_type": "stream",
          "name": "stdout",
          "text": [
            "Writing output11.txt\n"
          ]
        }
      ],
      "source": [
        "%%writefile output11.txt\n",
        "39999800000"
      ]
    },
    {
      "cell_type": "code",
      "execution_count": null,
      "metadata": {
        "colab": {
          "base_uri": "https://localhost:8080/"
        },
        "id": "oLiMjbAIfPlX",
        "outputId": "c630dcad-4a13-4036-8aae-0c7734610210"
      },
      "outputs": [
        {
          "output_type": "stream",
          "name": "stdout",
          "text": [
            "Overwriting WriteTest.cpp\n"
          ]
        }
      ],
      "source": [
        "# input12.txt 200000 decreasing numbers and 200000, 199999 ...  2 1\n",
        "\n",
        "%%writefile WriteTest.cpp\n",
        "\n",
        "#include <iostream>\n",
        "#include <fstream>\n",
        "#include <cstdlib>\n",
        "\n",
        "using namespace std;\n",
        "\n",
        "int main() {\n",
        "  // Create and open a text file\n",
        "  ofstream MyFile(\"input12.txt\");\n",
        "\n",
        " MyFile << 200000 <<\"\\n\";  // n\n",
        " for (int i=1; i <200001; i++){\n",
        "     MyFile << 200001-i <<\" \";\n",
        " }\n",
        "\n",
        "  // Close the file\n",
        "  MyFile.close();\n",
        "}"
      ]
    },
    {
      "cell_type": "code",
      "execution_count": null,
      "metadata": {
        "id": "oULNBr_zAd9c"
      },
      "outputs": [],
      "source": [
        "!g++ WriteTest.cpp -o WriteTest\n",
        "!./WriteTest"
      ]
    },
    {
      "cell_type": "code",
      "execution_count": null,
      "metadata": {
        "colab": {
          "base_uri": "https://localhost:8080/"
        },
        "id": "PQLyocaFB-y4",
        "outputId": "02186582-2dcd-4de8-ffb0-839b52b143af"
      },
      "outputs": [
        {
          "output_type": "stream",
          "name": "stdout",
          "text": [
            "Writing output12.txt\n"
          ]
        }
      ],
      "source": [
        "%%writefile output12.txt\n",
        "39999800000"
      ]
    },
    {
      "cell_type": "markdown",
      "metadata": {
        "id": "JB6f03qO-lj9"
      },
      "source": [
        "### Measure time\n",
        "\n",
        "https://askubuntu.com/questions/53444/how-can-i-measure-the-execution-time-of-a-terminal-process"
      ]
    },
    {
      "cell_type": "code",
      "execution_count": null,
      "metadata": {
        "id": "6p2QLEr576zk"
      },
      "outputs": [],
      "source": [
        "!g++ max_pairwise_product_long_full.cpp -o max_pairwise_product_long_full\n",
        "!time ./max_pairwise_product_long_full< input11.txt"
      ]
    },
    {
      "cell_type": "code",
      "execution_count": null,
      "metadata": {
        "id": "cnjCyeUdAnZj"
      },
      "outputs": [],
      "source": [
        "!g++ max_pairwise_product_long_full.cpp -o max_pairwise_product_long_full\n",
        "!time ./max_pairwise_product_long_full< input12.txt"
      ]
    },
    {
      "cell_type": "markdown",
      "metadata": {
        "id": "FXClpBsUJuXC"
      },
      "source": [
        "### Calculate the number or and upper bound to the number of instructions executed by the algorithm as a function of n, add in each line a comment with the number of instructions that are executed in that line."
      ]
    },
    {
      "cell_type": "code",
      "execution_count": null,
      "metadata": {
        "colab": {
          "base_uri": "https://localhost:8080/"
        },
        "id": "uG6Mv-Pwlkii",
        "outputId": "29c9e388-6802-4e8e-838f-d19f27bf8f7d"
      },
      "outputs": [
        {
          "output_type": "stream",
          "name": "stdout",
          "text": [
            "Overwriting max_pairwise_product_long_full.cpp\n"
          ]
        }
      ],
      "source": [
        "%%writefile max_pairwise_product_long_full.cpp\n",
        "#include <iostream>\n",
        "#include <vector>\n",
        "#include <algorithm>\n",
        "\n",
        "long long MaxPairwiseProduct(const std::vector<int>& numbers) {              //INSTRUCTIONS executed by line\n",
        "    long long max_product = 0LL;                                             //1\n",
        "\t  long long aux_product = 0LL;                                             //1\n",
        "    int n = numbers.size();                                                  //1\n",
        "\n",
        "    for (int first = 0; first < n; ++first) {                                //2+2n\n",
        "        for (int second = 0; second < n; ++second) {                         //2n + 2n**2\n",
        "          if ( first != second ){                                            //n**2\n",
        "                aux_product = numbers[first] * numbers[second];              //n**2 -n\n",
        "                if (aux_product > max_product)                               //n**2 -n\n",
        "                    max_product = aux_product;                               //[0, n**2/2 - n/2] upper bound\n",
        "          }\n",
        "        }\n",
        "    }\n",
        "\n",
        "                                                                             // --------------\n",
        "    return max_product;                                                      // 5 + 2*n + [5*n**2, 11*n**2/2  - n/2]  upper bound\n",
        "}\n",
        "\n",
        "int main() {                                              //INSTRUCTIONS executed by line\n",
        "    int n;                                                //1\n",
        "    std::cin >> n;                                        //1\n",
        "    std::vector<int> numbers(n);                          //n\n",
        "    for (int i = 0; i < n; ++i) {                         //2 + 2n\n",
        "        std::cin >> numbers[i];                           //n\n",
        "    }\n",
        "\n",
        "    std::cout << MaxPairwiseProduct(numbers) << \"\\n\";     //1 + 1  + 5 + 2*n + [5*n**2, 11*n**2/2  - n/2]\n",
        "\n",
        "    return 0;                                             // --------------\n",
        "}                                                         //  11 + 6*n + [5*n**2, 11*n**2/2  - n/2]  upper bound\n"
      ]
    },
    {
      "cell_type": "markdown",
      "metadata": {
        "id": "0vTsUg8OwcHs"
      },
      "source": [
        "### Count executed intructions in code"
      ]
    },
    {
      "cell_type": "code",
      "execution_count": null,
      "metadata": {
        "colab": {
          "base_uri": "https://localhost:8080/"
        },
        "id": "CuRKkqQc137V",
        "outputId": "a34ac78d-a216-448e-eb23-a79dc2deb341"
      },
      "outputs": [
        {
          "output_type": "stream",
          "name": "stdout",
          "text": [
            "Writing max_pairwise_product_long_full_execints.cpp\n"
          ]
        }
      ],
      "source": [
        "%%writefile max_pairwise_product_long_full_execints.cpp\n",
        "#include <iostream>\n",
        "#include <vector>\n",
        "#include <algorithm>\n",
        "\n",
        "long long MaxPairwiseProduct(const std::vector<int>& numbers, long long &execints) {      //INSTRUCTIONS executed by line\n",
        "    execints++;\n",
        "\n",
        "    long long max_product = 0LL;                                                          //1\n",
        "    execints++;\n",
        "\n",
        "\t  long long aux_product = 0LL;                                                          //1\n",
        "    execints++;\n",
        "\n",
        "    int n = numbers.size();                                                               //1\n",
        "    execints++;\n",
        "\n",
        "    execints++;\n",
        "    for (int first = 0; first < n; ++first) {                                             //2+2n\n",
        "        execints += 2;\n",
        "\n",
        "        execints++;\n",
        "        for (int second = 0; second < n; ++second) {                                       //2n + 2n**2\n",
        "          execints += 2;\n",
        "\n",
        "          execints++;\n",
        "          if ( first != second ){                                                         //n**2\n",
        "                aux_product = numbers[first] * numbers[second];                           //n**2 -n\n",
        "                execints++;\n",
        "\n",
        "                execints++;\n",
        "                if (aux_product > max_product){                                           //n**2 -n\n",
        "                    max_product = aux_product;                                            //[0,n**2/2 - n/2)  upper bound\n",
        "                    execints++;\n",
        "\n",
        "                }\n",
        "        }\n",
        "\n",
        "      }\n",
        "      execints++;\n",
        "    }\n",
        "    execints++;\n",
        "                                                                                        // --------------\n",
        "    return max_product;                                                                 // 5 + 2*n + [5*n**2, 11*n**2/2  - n/2] upper bound\n",
        "}\n",
        "\n",
        "int main() {                                                 //INSTRUCTIONS executed by line\n",
        "\n",
        "    long long execints =0LL;\n",
        "\n",
        "    int n;                                                   //1\n",
        "    execints++;\n",
        "\n",
        "    std::cin >> n;                                           //1\n",
        "    execints++;\n",
        "\n",
        "    std::vector<int> numbers(n);                             //n\n",
        "    execints += n;\n",
        "\n",
        "    execints++;\n",
        "    for (int i = 0; i < n; ++i) {                            //2 + 2n\n",
        "        execints += 2;\n",
        "\n",
        "        std::cin >> numbers[i];\n",
        "        execints++;                                          //n\n",
        "\n",
        "    }\n",
        "\n",
        "\n",
        "    //std::cout << MaxPairwiseProduct(numbers) << \"\\n\";      //1 + 1  + 5 + 2*n + [5*n**2, 11*n**2/2  - n/2] upper bound\n",
        "\n",
        "    execints++;\n",
        "    int M = MaxPairwiseProduct(numbers,execints);\n",
        "\n",
        "    execints++;\n",
        "    std::cout <<  execints << \"\\n\";\n",
        "    return 0;                                                // --------------\n",
        "}                                                            // 11 + 6*n + [5*n**2, 11*n**2/2  - n/2]"
      ]
    },
    {
      "cell_type": "markdown",
      "metadata": {
        "id": "cUjHtvtdDsmr"
      },
      "source": [
        "The number of instructions executed by the algooirithm with a list of size $n$ is  \n",
        "\n",
        "$$T (n) = 11 + 6n + \\left[5n^2, 11\\frac{n^2}{2}  - \\frac{n}{2}\\right)  >  6n^2 = O(n^2)$$\n",
        "\n",
        "It depends on the size of the lists and  the order of the list.\n",
        "\n",
        "For the input0.txt\n",
        "```\n",
        "10\n",
        "0 0 0 0 0 0 0 0 0 0\n",
        "```\n",
        "$$T = 11 + 6(10) + 5(10)^2   = 571 $$\n",
        "\n",
        "$$T(10) \\in [571, 621)  $$\n"
      ]
    },
    {
      "cell_type": "code",
      "execution_count": null,
      "metadata": {
        "colab": {
          "base_uri": "https://localhost:8080/"
        },
        "id": "Om9Fevb0miAT",
        "outputId": "35b47dd6-ea73-473a-d4c5-6d409c5edff8"
      },
      "outputs": [
        {
          "output_type": "stream",
          "name": "stdout",
          "text": [
            "571\n"
          ]
        }
      ],
      "source": [
        "!g++ max_pairwise_product_long_full_execints.cpp -o max_pairwise_product_long_full_execints\n",
        "!./max_pairwise_product_long_full_execints < input0.txt"
      ]
    },
    {
      "cell_type": "markdown",
      "metadata": {
        "id": "FwJzZ6VzmArY"
      },
      "source": [
        "For the input1.txt\n",
        "```\n",
        "10\n",
        "1 2 3 4 5 6 7 8 9 10\n",
        "```\n",
        "$$T = 11 + 6(10) + 5(10)^2 +  9 + 5 + 4 + 3 + 2 + 2 + 2 + 2 + 1 + 0  = 601 $$\n",
        "\n",
        "$$T(10) \\in [572, 622)  $$\n"
      ]
    },
    {
      "cell_type": "code",
      "execution_count": null,
      "metadata": {
        "id": "K59xQMWiBNFj"
      },
      "outputs": [],
      "source": [
        "#The number of times that  max_product = aux_product; in the worst case is less than (n**2 -n)/2 -  upper bound\n",
        "\n",
        "#     1  2  3  4  5  6  7  8  9  10\n",
        "#  1  x  2  3  4  5  6  7  8  9  10         9\n",
        "#  2  2  x  6  8  10 12 14 16 18 20         5 14\n",
        "#  3  3  6  x  12 15 18 21 24 27 30         4 18\n",
        "#  4  4  8  12 x  20 24 28 32 36 40         3 21\n",
        "#  5  5  10 15 20 x  30 35 40 45 50         2 23\n",
        "#  6  6  12 18 24 30 x  42 48 54 60         2 25\n",
        "#  7  7  14 21 28 35 42 x  56 63 70         2 27\n",
        "#  8  8  18 27 36 45 54 63 72 x  90         1 30\n",
        "#  10 10 20 30 40 50 60 70 60 90 x          0"
      ]
    },
    {
      "cell_type": "code",
      "execution_count": null,
      "metadata": {
        "colab": {
          "base_uri": "https://localhost:8080/"
        },
        "id": "E3O8dzFfEgir",
        "outputId": "52cd2ba3-6797-41e5-93a0-3d27547cfeeb"
      },
      "outputs": [
        {
          "output_type": "execute_result",
          "data": {
            "text/plain": [
              "601"
            ]
          },
          "metadata": {},
          "execution_count": 81
        }
      ],
      "source": [
        "11 + 6*(10) + 5*(10)*(10) +  9 + 5 + 4 + 3 + 2 + 2 + 2 + 2 + 1 + 0"
      ]
    },
    {
      "cell_type": "code",
      "execution_count": null,
      "metadata": {
        "colab": {
          "base_uri": "https://localhost:8080/"
        },
        "id": "TCpdl5u_Gq1a",
        "outputId": "ce7e64c1-6e16-4881-b0bb-1534622d9f2d"
      },
      "outputs": [
        {
          "output_type": "stream",
          "name": "stdout",
          "text": [
            "[ 571 , 621.0 )\n"
          ]
        }
      ],
      "source": [
        "n = 10\n",
        "print( \"[\", 11 + 6*n + 5*n**2,  \",\", 11 + 6*n  + 5.5*n**2, \")\")"
      ]
    },
    {
      "cell_type": "code",
      "execution_count": null,
      "metadata": {
        "colab": {
          "base_uri": "https://localhost:8080/"
        },
        "id": "Kuvm1C05ly2a",
        "outputId": "dea5c716-0785-4e5f-d629-83bfdbca11d6"
      },
      "outputs": [
        {
          "output_type": "stream",
          "name": "stdout",
          "text": [
            "601\n"
          ]
        }
      ],
      "source": [
        "!g++ max_pairwise_product_long_full_execints.cpp -o max_pairwise_product_long_full_execints\n",
        "!./max_pairwise_product_long_full_execints < input1.txt"
      ]
    },
    {
      "cell_type": "markdown",
      "metadata": {
        "id": "Yr_Lb7CaHfxB"
      },
      "source": [
        "\n",
        "For the input2.txt\n",
        "```\n",
        "10\n",
        "10 9 8 7 6 5 4 3 2 1\n",
        "```\n",
        "$$T = 11 + 6*(10) + 5*(10)**2 +  1  = 571 $$"
      ]
    },
    {
      "cell_type": "code",
      "execution_count": null,
      "metadata": {
        "colab": {
          "base_uri": "https://localhost:8080/"
        },
        "id": "HOdqlwJiZUIp",
        "outputId": "45ce4ddd-df6a-4c7e-ce9d-cac8a7acd6f2"
      },
      "outputs": [
        {
          "output_type": "execute_result",
          "data": {
            "text/plain": [
              "572"
            ]
          },
          "metadata": {},
          "execution_count": 84
        }
      ],
      "source": [
        "11 + 6*(10) + 5*(10)**2 +  1"
      ]
    },
    {
      "cell_type": "code",
      "execution_count": null,
      "metadata": {
        "colab": {
          "base_uri": "https://localhost:8080/"
        },
        "id": "_znzLectjFSe",
        "outputId": "d86197e6-3f53-49cf-ec44-134e450c1817"
      },
      "outputs": [
        {
          "output_type": "stream",
          "name": "stdout",
          "text": [
            "572\n"
          ]
        }
      ],
      "source": [
        "!g++ max_pairwise_product_long_full_execints.cpp -o max_pairwise_product_long_full_execints\n",
        "!./max_pairwise_product_long_full_execints < input2.txt"
      ]
    },
    {
      "cell_type": "markdown",
      "metadata": {
        "id": "NXW7QkoBL6xH"
      },
      "source": [
        "Calculate estimated time by instruction and number of instructions by second"
      ]
    },
    {
      "cell_type": "markdown",
      "metadata": {
        "id": "dlyRjaohz-YH"
      },
      "source": [
        "For the input11.txt\n",
        "```\n",
        "200000\n",
        "1 2 ..  199999 2000\n",
        "```\n",
        "$$T = 11 + 6*(200000) + 5.5*(200000)**2  = 200001200012  $$"
      ]
    },
    {
      "cell_type": "code",
      "execution_count": null,
      "metadata": {
        "colab": {
          "base_uri": "https://localhost:8080/"
        },
        "id": "BMH8mF3EKn2w",
        "outputId": "b91e95e3-4866-4e0b-d1a3-d9b3725a4c2f"
      },
      "outputs": [
        {
          "output_type": "stream",
          "name": "stdout",
          "text": [
            "200003177092\n"
          ]
        }
      ],
      "source": [
        "!g++ max_pairwise_product_long_full_execints.cpp -o max_pairwise_product_long_full_execints\n",
        "!./max_pairwise_product_long_full_execints < input11.txt"
      ]
    },
    {
      "cell_type": "code",
      "execution_count": null,
      "metadata": {
        "id": "pKqB3i7dIxnc"
      },
      "outputs": [],
      "source": [
        "# Estimated time by instruction\n",
        "\n",
        "295/200003177092\n"
      ]
    },
    {
      "cell_type": "code",
      "execution_count": null,
      "metadata": {
        "id": "18N1ouqeMhE1"
      },
      "outputs": [],
      "source": [
        "# Estimated number of instructions by second\n",
        "\n",
        "200003177092/295"
      ]
    },
    {
      "cell_type": "markdown",
      "metadata": {
        "id": "KyuxejFkL5X_"
      },
      "source": [
        "### Estimate and verify the maximun n that can be solved in 1 second\n",
        "\n",
        "\n",
        "$$(5.5n^2 + 5.5n + 11) \\times 1.47*10^{-9} s = 1 s$$\n",
        "\n",
        "$$ n \\approx 11000$$\n"
      ]
    },
    {
      "cell_type": "code",
      "execution_count": null,
      "metadata": {
        "colab": {
          "base_uri": "https://localhost:8080/"
        },
        "id": "WXu5jp-DLTOI",
        "outputId": "9ec09dc6-6f38-4f18-890b-e8075988530a"
      },
      "outputs": [
        {
          "output_type": "stream",
          "name": "stdout",
          "text": [
            "Overwriting WriteTest.cpp\n"
          ]
        }
      ],
      "source": [
        "# Verify input13.txt\n",
        "%%writefile WriteTest.cpp\n",
        "\n",
        "#include <iostream>\n",
        "#include <fstream>\n",
        "#include <cstdlib>\n",
        "\n",
        "using namespace std;\n",
        "\n",
        "int main() {\n",
        "  // Create and open a text file\n",
        "  ofstream MyFile(\"input13.txt\");\n",
        "\n",
        " MyFile << 11000 <<\"\\n\";  // n\n",
        " for (int i=1; i <11001; i++){\n",
        "     MyFile << i <<\" \";\n",
        " }\n",
        "\n",
        "  // Close the file\n",
        "  MyFile.close();\n",
        "}"
      ]
    },
    {
      "cell_type": "code",
      "execution_count": null,
      "metadata": {
        "id": "AQ8N52pUMCeT"
      },
      "outputs": [],
      "source": [
        "!g++ WriteTest.cpp -o WriteTest\n",
        "!./WriteTest"
      ]
    },
    {
      "cell_type": "code",
      "execution_count": null,
      "metadata": {
        "colab": {
          "base_uri": "https://localhost:8080/"
        },
        "id": "2iIOdbTrEtBx",
        "outputId": "b6a7b62d-2598-482f-9673-661977cd326d"
      },
      "outputs": [
        {
          "output_type": "execute_result",
          "data": {
            "text/plain": [
              "120989000"
            ]
          },
          "metadata": {},
          "execution_count": 91
        }
      ],
      "source": [
        "10999 * 11000"
      ]
    },
    {
      "cell_type": "code",
      "execution_count": null,
      "metadata": {
        "colab": {
          "base_uri": "https://localhost:8080/"
        },
        "id": "ussuAokfM2du",
        "outputId": "c7c8f857-50d3-45a5-e89f-a26a4d7b7b97"
      },
      "outputs": [
        {
          "output_type": "stream",
          "name": "stdout",
          "text": [
            "120989000\n",
            "\n",
            "real\t0m0.855s\n",
            "user\t0m0.847s\n",
            "sys\t0m0.002s\n"
          ]
        }
      ],
      "source": [
        "!g++ max_pairwise_product_long_full.cpp -o max_pairwise_product_long_full\n",
        "!time ./max_pairwise_product_long_full< input13.txt"
      ]
    },
    {
      "cell_type": "markdown",
      "metadata": {
        "id": "Tm_AVmt-QQH4"
      },
      "source": [
        "## Python"
      ]
    },
    {
      "cell_type": "markdown",
      "source": [
        "Max pairwise product algorithm in a list python"
      ],
      "metadata": {
        "id": "TJ1bb7v0R5xs"
      }
    },
    {
      "cell_type": "code",
      "execution_count": null,
      "metadata": {
        "id": "gRCCcd7IQTKZ",
        "colab": {
          "base_uri": "https://localhost:8080/"
        },
        "outputId": "eb5f9ce0-8519-4da8-cd1f-c188a2a689f2"
      },
      "outputs": [
        {
          "output_type": "stream",
          "name": "stdout",
          "text": [
            "Overwriting max_pairwise_product.py\n"
          ]
        }
      ],
      "source": [
        "%%writefile max_pairwise_product.py\n",
        "def max_pairwise_product(numbers):\n",
        "    n = len(numbers)\n",
        "    max_product = 0\n",
        "\n",
        "    for first in range(n):\n",
        "        for second in range(n):\n",
        "            if first != second:\n",
        "                aux_product = numbers[first] * numbers[second]\n",
        "\n",
        "                if aux_product > max_product:\n",
        "                  max_product = aux_product\n",
        "\n",
        "    return max_product\n",
        "\n",
        "n = int(input())\n",
        "\n",
        "numbers = [int(i) for i in input().split()]\n",
        "\n",
        "print(max_pairwise_product(numbers))"
      ]
    },
    {
      "cell_type": "code",
      "execution_count": null,
      "metadata": {
        "id": "kAEAoNZEQTCw",
        "outputId": "2b456cfc-1a91-44cb-8644-45ae90ff161f",
        "colab": {
          "base_uri": "https://localhost:8080/"
        }
      },
      "outputs": [
        {
          "output_type": "stream",
          "name": "stdout",
          "text": [
            "Traceback (most recent call last):\n",
            "  File \"/content/max_pairwise_product.py\", line 19, in <module>\n",
            "    print(max_pairwise_product(numbers))\n",
            "  File \"/content/max_pairwise_product.py\", line 10, in max_pairwise_product\n",
            "    if aux_product > max_product:\n",
            "KeyboardInterrupt\n",
            "^C\n"
          ]
        }
      ],
      "source": [
        "!time python3 max_pairwise_product.py < input11.txt"
      ]
    },
    {
      "cell_type": "markdown",
      "source": [
        "Python complexity time is estimated the same as the c++ solution. So now let's study it's time execution performance"
      ],
      "metadata": {
        "id": "K5cfKc-VCqRX"
      }
    },
    {
      "cell_type": "markdown",
      "source": [
        "\n",
        "the code runs for more than 1h: 30min.However, the code did not finish executing, this is because Python is much slower than C++ to carry out the instructions.\n",
        "![image.png](data:image/png;base64,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)"
      ],
      "metadata": {
        "id": "QX2MXNE712m4"
      }
    },
    {
      "cell_type": "markdown",
      "source": [
        "For this reason, using input 11 it was not possible to find the number of instructions per second or the delay of an execution."
      ],
      "metadata": {
        "id": "cmGi27nD2tSX"
      }
    },
    {
      "cell_type": "markdown",
      "metadata": {
        "id": "fEZR-3V4ZjCv"
      },
      "source": [
        "# For the follwing solutions rquired  the same tests and analysis performed for the first solution"
      ]
    },
    {
      "cell_type": "markdown",
      "metadata": {
        "id": "MKQKSC-vKePK"
      },
      "source": [
        "## Solutions in C++ and Python that uses\n",
        "$$\\frac{n^2 - n}{2} = O(n^2)\\ \\ \\text{products}$$"
      ]
    },
    {
      "cell_type": "code",
      "execution_count": null,
      "metadata": {
        "id": "jkkHHoxSK65p"
      },
      "outputs": [],
      "source": [
        "%%writefile max_pairwise_product.cpp\n",
        "#include <iostream>\n",
        "#include <vector>\n",
        "#include <algorithm>\n",
        "\n",
        "int MaxPairwiseProduct(const std::vector<int>& numbers) {\n",
        "    int max_product = 0;\n",
        "    int n = numbers.size();\n",
        "\n",
        "    for (int first = 0; first < n; ++first) {\n",
        "        for (int second = first + 1; second < n; ++second) {\n",
        "\n",
        "            max_product = std::max(max_product,\n",
        "                numbers[first] * numbers[second]);\n",
        "        }\n",
        "    }\n",
        "\n",
        "    return max_product;\n",
        "}\n",
        "\n",
        "int main() {\n",
        "    int n;\n",
        "    std::cin >> n;\n",
        "    std::vector<int> numbers(n);\n",
        "    for (int i = 0; i < n; ++i) {\n",
        "        std::cin >> numbers[i];\n",
        "    }\n",
        "\n",
        "    std::cout << MaxPairwiseProduct(numbers) << \"\\n\";\n",
        "    return 0;\n",
        "}"
      ]
    },
    {
      "cell_type": "code",
      "execution_count": null,
      "metadata": {
        "colab": {
          "base_uri": "https://localhost:8080/"
        },
        "id": "sU8-Ote7K8vz",
        "outputId": "8db4fdde-f701-4c09-8795-5e5d4fe6916f"
      },
      "outputs": [
        {
          "name": "stdout",
          "output_type": "stream",
          "text": [
            "Writing max_pairwise_product_long.cpp\n"
          ]
        }
      ],
      "source": [
        "%%writefile max_pairwise_product_long.cpp\n",
        "#include <iostream>\n",
        "#include <vector>\n",
        "#include <algorithm>\n",
        "\n",
        "long long MaxPairwiseProduct(const std::vector<int>& numbers) {              //INSTRUCTIONS executed by line\n",
        "    long long max_product = 0LL;                                             //1\n",
        "\t  long long aux_product = 0LL;                                             //1\n",
        "    int n = numbers.size();                                                  //1\n",
        "\n",
        "    for (int first = 0; first < n; ++first) {                                //2+2n\n",
        "        for (int second = first + 1; second < n; ++second) {                 //2n + (n-1)n\n",
        "\t\t\t       aux_product =  (long long) numbers[first] * numbers[second];    //(n-1)n/2\n",
        "            if (max_product < aux_product)  {                                //(n-1)n/2\n",
        "\t\t\t\t        max_product = aux_product;                                   //[1,(n-1)n/2)  upper bound\n",
        "             }\n",
        "        }\n",
        "    }\n",
        "                                                                             // --------------\n",
        "    return max_product;                                                      // 5 + 4n + [2(n-1)n+1, 2.5 (n-1)n) upper bound\n",
        "}\n",
        "\n",
        "int main() {                                              //INSTRUCTIONS executed by line\n",
        "    int n;                                                //1\n",
        "    std::cin >> n;                                        //1\n",
        "    std::vector<int> numbers(n);                          //n\n",
        "    for (int i = 0; i < n; ++i) {                         //2 + 2n\n",
        "        std::cin >> numbers[i];                           //n\n",
        "    }\n",
        "\n",
        "    std::cout << MaxPairwiseProduct(numbers) << \"\\n\";     //1 + 1  + 5 + 4n + [2(n-1)n+1, 2.5 (n-1)n) upper bound\n",
        "    return 0;                                             // --------------\n",
        "}                                                         // 11 + 7n + [2(n-1)n+1, 2.5 (n-1)n) upper bound\n"
      ]
    },
    {
      "cell_type": "markdown",
      "metadata": {
        "id": "XPItz5oXk7qn"
      },
      "source": [
        "Testing all the stress tests for improved version"
      ]
    },
    {
      "cell_type": "markdown",
      "source": [
        "Stress Tests"
      ],
      "metadata": {
        "id": "xZXTNSt3D0jw"
      }
    },
    {
      "cell_type": "code",
      "source": [
        "%%writefile run_all_test.sh\n",
        "#!/bin/bash\n",
        "g++ max_pairwise_product_long.cpp -o max_pairwise_product_long\n",
        "for i in {4..10}\n",
        "do\n",
        "    ./max_pairwise_product_long < input$i.txt > ctest$i.txt\n",
        "    grep -xvFf output$i.txt ctest$i.txt\n",
        "done"
      ],
      "metadata": {
        "id": "8n4y_w4xDtQh"
      },
      "execution_count": null,
      "outputs": []
    },
    {
      "cell_type": "code",
      "source": [
        "!chmod u+x run_all_test.sh\n",
        "!./run_all_test.sh"
      ],
      "metadata": {
        "id": "DLvhfTsBDz1a"
      },
      "execution_count": null,
      "outputs": []
    },
    {
      "cell_type": "markdown",
      "source": [
        "The number of instructions executed by the algooirithm with a list of size $n$ is  \n",
        "\n",
        "$$T (n) = 11 + 7n + \\left[2(n-1)n+1, 2.5(n-1)n\\right)= O(n^2)$$\n",
        "\n",
        "It depends on the size of the lists and  the order of the list.\n",
        "\n",
        "For the input0.txt\n",
        "```\n",
        "10\n",
        "0 0 0 0 0 0 0 0 0 0\n",
        "```\n",
        "$$T = 11 + 7(10) + 2(9)11   = 279 $$\n",
        "\n"
      ],
      "metadata": {
        "id": "BZPQZpeGEEz1"
      }
    },
    {
      "cell_type": "markdown",
      "source": [
        "Calculate estimated time by instruction and number of instructions by second"
      ],
      "metadata": {
        "id": "P0B0FFF1E4pW"
      }
    },
    {
      "cell_type": "markdown",
      "source": [
        "For the input11.txt\n",
        "\n",
        "200000\n",
        "1 2 ..  199999 2000\n"
      ],
      "metadata": {
        "id": "F1tyamfhE7cM"
      }
    },
    {
      "cell_type": "code",
      "source": [
        "%%writefile max_pairwise_product_longexec.cpp\n",
        "#include <iostream>\n",
        "#include <vector>\n",
        "#include <algorithm>\n",
        "\n",
        "long long execints = 0LL;\n",
        "long long MaxPairwiseProduct(const std::vector<int>& numbers) {              //INSTRUCTIONS executed by line\n",
        "    long long max_product = 0LL;                                             //1\n",
        "\t  execints+=1;\n",
        "    long long aux_product = 0LL;                                             //1\n",
        "    execints+=1;\n",
        "    int n = numbers.size();                                                  //1\n",
        "    execints+=1;\n",
        "    execints+=1;\n",
        "    for (int first = 0; first < n; ++first) {                                //2+2n\n",
        "        execints+=2;\n",
        "        execints+=1;\n",
        "        for (int second = first + 1; second < n; ++second) {                 //2n + (n-1)n\n",
        "\t\t\t       execints+=2;\n",
        "             aux_product =  (long long) numbers[first] * numbers[second];    //(n-1)n/2\n",
        "             execints+=1;\n",
        "            if (max_product < aux_product)  {                                //(n-1)n/2\n",
        "\t\t\t\t        max_product = aux_product;                                   //[1,(n-1)n/2)  upper bound\n",
        "                execints+=1;\n",
        "             }\n",
        "        }\n",
        "        execints+=1;\n",
        "    }\n",
        "    execints+=1;\n",
        "                                                                             // --------------\n",
        "    return max_product;                                                      // 5 + 4n + [2(n-1)n+1, 2.5 (n-1)n) upper bound\n",
        "}\n",
        "\n",
        "int main() {                                              //INSTRUCTIONS executed by line\n",
        "    int n;  execints+=1;                                              //1\n",
        "    std::cin >> n; execints+=1;                                       //1\n",
        "    std::vector<int> numbers(n);                          //n\n",
        "    execints+=1;\n",
        "    execints+=1;\n",
        "    for (int i = 0; i < n; ++i) {                         //2 + 2n\n",
        "        execints+=2;\n",
        "        std::cin >> numbers[i];                           //n\n",
        "        execints+=1;\n",
        "    }\n",
        "    MaxPairwiseProduct(numbers);\n",
        "    std::cout << \"Número de instrucciones: \" << execints << \"\\n\";     //1 + 1  + 5 + 4n + [2(n-1)n+1, 2.5 (n-1)n) upper bound\n",
        "    return 0;                                             // --------------\n",
        "}                                                         // 11 + 7n + [2(n-1)n+1, 2.5 (n-1)n) upper bound\n"
      ],
      "metadata": {
        "colab": {
          "base_uri": "https://localhost:8080/"
        },
        "id": "uTCVbGmfEUGk",
        "outputId": "46bf13c5-1ffc-4fca-ca2a-b9e7e3090b34"
      },
      "execution_count": null,
      "outputs": [
        {
          "output_type": "stream",
          "name": "stdout",
          "text": [
            "Overwriting max_pairwise_product_longexec.cpp\n"
          ]
        }
      ]
    },
    {
      "cell_type": "code",
      "source": [
        "!g++ max_pairwise_product_longexec.cpp -o max_pairwise_product_longexec\n",
        "!time ./max_pairwise_product_longexec < input11.txt"
      ],
      "metadata": {
        "colab": {
          "base_uri": "https://localhost:8080/"
        },
        "id": "MHXT-NzrE5Ac",
        "outputId": "d92215dc-4b48-48d6-d0f4-9bddc9b8bf21"
      },
      "execution_count": null,
      "outputs": [
        {
          "output_type": "stream",
          "name": "stdout",
          "text": [
            "Número de instrucciones: 60003772077\n",
            "\n",
            "real\t2m33.751s\n",
            "user\t2m32.016s\n",
            "sys\t0m0.042s\n"
          ]
        }
      ]
    },
    {
      "cell_type": "code",
      "execution_count": null,
      "metadata": {
        "id": "5QWT3fneK8nw",
        "colab": {
          "base_uri": "https://localhost:8080/"
        },
        "outputId": "5168b333-e8b3-4270-ee6f-694278c450f0"
      },
      "outputs": [
        {
          "output_type": "execute_result",
          "data": {
            "text/plain": [
              "2.583170934672171e-09"
            ]
          },
          "metadata": {},
          "execution_count": 237
        }
      ],
      "source": [
        "# Estimated time by instruction (rounded values)\n",
        "155/60003772077"
      ]
    },
    {
      "cell_type": "code",
      "execution_count": null,
      "metadata": {
        "colab": {
          "base_uri": "https://localhost:8080/"
        },
        "outputId": "a29f6f7f-4c15-4506-f54b-9165cc5b951e",
        "id": "_sQu4N3mKUCi"
      },
      "outputs": [
        {
          "output_type": "execute_result",
          "data": {
            "text/plain": [
              "275860689.6551724"
            ]
          },
          "metadata": {},
          "execution_count": 238
        }
      ],
      "source": [
        "# Estimated number of instructions by second\n",
        "39999800000/145"
      ]
    },
    {
      "cell_type": "markdown",
      "source": [
        "It is notable that it is much faster than previous solutions and also obviously executes more instructions per second."
      ],
      "metadata": {
        "id": "HBlrmAEVHKhN"
      }
    },
    {
      "cell_type": "markdown",
      "source": [
        "Python first improved Solution:"
      ],
      "metadata": {
        "id": "l4WdnRVUDXK7"
      }
    },
    {
      "cell_type": "code",
      "execution_count": null,
      "metadata": {
        "colab": {
          "base_uri": "https://localhost:8080/"
        },
        "outputId": "5fab0826-08d3-4859-c834-9b44da93253c",
        "id": "wd6-vG-WDZHh"
      },
      "outputs": [
        {
          "output_type": "stream",
          "name": "stdout",
          "text": [
            "Writing max_pairwise_product_improved.py\n"
          ]
        }
      ],
      "source": [
        "%%writefile max_pairwise_product_improved.py\n",
        "def max_pairwise_product_improved(numbers):\n",
        "    max_product = 0\n",
        "    n = len(numbers)\n",
        "\n",
        "    for first in range(n):\n",
        "        for second in range(first + 1, n):\n",
        "            max_product = max(max_product, numbers[first] * numbers[second])\n",
        "\n",
        "    return max_product\n",
        "\n",
        "n = int(input())\n",
        "numbers = [int(i) for i in input().split()]\n",
        "print(max_pairwise_product_improved(numbers))"
      ]
    },
    {
      "cell_type": "markdown",
      "metadata": {
        "id": "jqcoXwEBDZHi"
      },
      "source": [
        "Test with inputs 1 and 2\n",
        "\n"
      ]
    },
    {
      "cell_type": "code",
      "execution_count": null,
      "metadata": {
        "colab": {
          "base_uri": "https://localhost:8080/"
        },
        "outputId": "e7207618-7b2e-4347-9217-632eada4bc48",
        "id": "hFpB50PrDZHi"
      },
      "outputs": [
        {
          "output_type": "stream",
          "name": "stdout",
          "text": [
            "Overwriting run_all_test.sh\n"
          ]
        }
      ],
      "source": [
        "%%writefile run_all_test.sh\n",
        "#comparing all the executions to check the differences between the outputs\n",
        "for i in {1..2}\n",
        "do\n",
        "    python3 max_pairwise_product_improved.py < input$i.txt > pythonOutput$i.txt\n",
        "    grep -xvFf pythonOutput$i.txt output$i.txt\n",
        "done"
      ]
    },
    {
      "cell_type": "code",
      "source": [
        "!chmod u+x run_all_test.sh\n",
        "!./run_all_test.sh"
      ],
      "metadata": {
        "id": "OLqCbS9XDZHj"
      },
      "execution_count": null,
      "outputs": []
    },
    {
      "cell_type": "markdown",
      "metadata": {
        "id": "6pqQCCcwDZHj"
      },
      "source": [
        "Test and time it with input 3"
      ]
    },
    {
      "cell_type": "code",
      "execution_count": null,
      "metadata": {
        "colab": {
          "base_uri": "https://localhost:8080/"
        },
        "outputId": "3e3087c9-6e6f-43ef-8047-1e1801c2851c",
        "id": "4dyxd18-DZHj"
      },
      "outputs": [
        {
          "output_type": "stream",
          "name": "stdout",
          "text": [
            "\n",
            "real\t0m0.070s\n",
            "user\t0m0.051s\n",
            "sys\t0m0.010s\n"
          ]
        }
      ],
      "source": [
        "!time python3 max_pairwise_product_improved.py < input3.txt > pythonOutput3.txt\n",
        "!grep -xvFf pythonOutput3.txt output3.txt"
      ]
    },
    {
      "cell_type": "markdown",
      "metadata": {
        "id": "_pss3GlKDZHk"
      },
      "source": [
        "20 stress tests"
      ]
    },
    {
      "cell_type": "code",
      "execution_count": null,
      "metadata": {
        "colab": {
          "base_uri": "https://localhost:8080/"
        },
        "outputId": "d124c754-e94e-4476-adea-ec2743ab636e",
        "id": "6NB867R7DZHk"
      },
      "outputs": [
        {
          "output_type": "stream",
          "name": "stdout",
          "text": [
            "-------------------------------------------------\n",
            "Testing with the list: [185424677, 371410846, 57374093]\n",
            "The efficient solution gives the result 68868736153846742\n",
            "The comparison solution gives the result 68868736153846742\n",
            "The solution is correct OK\n",
            "-------------------------------------------------\n",
            "-------------------------------------------------\n",
            "Testing with the list: [153050411, 708526017, 922823983, 629210713, 842879757, 634887769, 493132092, 741222712, 193411866]\n",
            "The efficient solution gives the result 777829654544812131\n",
            "The comparison solution gives the result 777829654544812131\n",
            "The solution is correct OK\n",
            "-------------------------------------------------\n",
            "-------------------------------------------------\n",
            "Testing with the list: [287932359, 40907121, 337518532]\n",
            "The efficient solution gives the result 97182507124976988\n",
            "The comparison solution gives the result 97182507124976988\n",
            "The solution is correct OK\n",
            "-------------------------------------------------\n",
            "-------------------------------------------------\n",
            "Testing with the list: [761797230, 197907018, 298726428, 457115181, 507195399, 939299365, 638698417, 745728375, 474628776, 673401799]\n",
            "The efficient solution gives the result 715555654397758950\n",
            "The comparison solution gives the result 715555654397758950\n",
            "The solution is correct OK\n",
            "-------------------------------------------------\n",
            "-------------------------------------------------\n",
            "Testing with the list: [245730254, 610089856, 842364568, 569474911, 110327226, 831646596, 604686095, 859863340, 970184940]\n",
            "The efficient solution gives the result 834226462926099600\n",
            "The comparison solution gives the result 834226462926099600\n",
            "The solution is correct OK\n",
            "-------------------------------------------------\n",
            "-------------------------------------------------\n",
            "Testing with the list: [538545370, 210124032]\n",
            "The efficient solution gives the result 113161324559331840\n",
            "The comparison solution gives the result 113161324559331840\n",
            "The solution is correct OK\n",
            "-------------------------------------------------\n",
            "-------------------------------------------------\n",
            "Testing with the list: [76319882, 571955717, 183245526, 961269042, 751039413, 252983644, 44320067, 34995834]\n",
            "The efficient solution gives the result 721950937038752346\n",
            "The comparison solution gives the result 721950937038752346\n",
            "The solution is correct OK\n",
            "-------------------------------------------------\n",
            "-------------------------------------------------\n",
            "Testing with the list: [884381087, 698809531, 248885772, 450995381, 940015088, 563269896, 906387937, 881318258, 292991352]\n",
            "The efficient solution gives the result 852018336361193456\n",
            "The comparison solution gives the result 852018336361193456\n",
            "The solution is correct OK\n",
            "-------------------------------------------------\n",
            "-------------------------------------------------\n",
            "Testing with the list: [918480488, 885548759, 321716046]\n",
            "The efficient solution gives the result 813359256314114392\n",
            "The comparison solution gives the result 813359256314114392\n",
            "The solution is correct OK\n",
            "-------------------------------------------------\n",
            "-------------------------------------------------\n",
            "Testing with the list: [588842327, 252395181, 989575384, 24620069, 124209780, 689690533, 127632064]\n",
            "The efficient solution gives the result 682500774034639672\n",
            "The comparison solution gives the result 682500774034639672\n",
            "The solution is correct OK\n",
            "-------------------------------------------------\n",
            "-------------------------------------------------\n",
            "Testing with the list: [76082707, 198820655, 748535679]\n",
            "The efficient solution gives the result 148824353989649745\n",
            "The comparison solution gives the result 148824353989649745\n",
            "The solution is correct OK\n",
            "-------------------------------------------------\n",
            "-------------------------------------------------\n",
            "Testing with the list: [932115034, 812245016, 482260551, 684589629]\n",
            "The efficient solution gives the result 757105790705170544\n",
            "The comparison solution gives the result 757105790705170544\n",
            "The solution is correct OK\n",
            "-------------------------------------------------\n",
            "-------------------------------------------------\n",
            "Testing with the list: [569951625, 257672061]\n",
            "The efficient solution gives the result 146860609884049125\n",
            "The comparison solution gives the result 146860609884049125\n",
            "The solution is correct OK\n",
            "-------------------------------------------------\n",
            "-------------------------------------------------\n",
            "Testing with the list: [281574009, 181477317, 188752801]\n",
            "The efficient solution gives the result 53147882887549209\n",
            "The comparison solution gives the result 53147882887549209\n",
            "The solution is correct OK\n",
            "-------------------------------------------------\n",
            "-------------------------------------------------\n",
            "Testing with the list: [783828379, 797563007, 8136996, 140718880, 226540050, 64243550, 620187375]\n",
            "The efficient solution gives the result 625152518927175653\n",
            "The comparison solution gives the result 625152518927175653\n",
            "The solution is correct OK\n",
            "-------------------------------------------------\n",
            "-------------------------------------------------\n",
            "Testing with the list: [255946305, 434910995, 183899036, 578724350, 470755844, 784608188, 370225267]\n",
            "The efficient solution gives the result 454071863604977800\n",
            "The comparison solution gives the result 454071863604977800\n",
            "The solution is correct OK\n",
            "-------------------------------------------------\n",
            "-------------------------------------------------\n",
            "Testing with the list: [384941547, 394479142, 777391012, 166766628]\n",
            "The efficient solution gives the result 306664539412271704\n",
            "The comparison solution gives the result 306664539412271704\n",
            "The solution is correct OK\n",
            "-------------------------------------------------\n",
            "-------------------------------------------------\n",
            "Testing with the list: [918519620, 239431855, 928179884, 705754382, 776381282, 50660800, 913955532, 894166572, 594335477, 691952068, 169380744, 303466774]\n",
            "The efficient solution gives the result 852551434343324080\n",
            "The comparison solution gives the result 852551434343324080\n",
            "The solution is correct OK\n",
            "-------------------------------------------------\n",
            "-------------------------------------------------\n",
            "Testing with the list: [848413239, 976742972, 788150676, 334033181, 352249826, 266464978, 843025938, 665560249]\n",
            "The efficient solution gives the result 828681668545006308\n",
            "The comparison solution gives the result 828681668545006308\n",
            "The solution is correct OK\n",
            "-------------------------------------------------\n",
            "-------------------------------------------------\n",
            "Testing with the list: [93419693, 840125561, 480415193]\n",
            "The efficient solution gives the result 403609083532048273\n",
            "The comparison solution gives the result 403609083532048273\n",
            "The solution is correct OK\n",
            "-------------------------------------------------\n"
          ]
        }
      ],
      "source": [
        "import random\n",
        "\n",
        "def max_pairwise_product(numbers):\n",
        "    n = len(numbers)\n",
        "    max_product = 0\n",
        "\n",
        "    for first in range(n):\n",
        "        for second in range(n):\n",
        "            if first != second:\n",
        "                aux_product = numbers[first] * numbers[second]\n",
        "\n",
        "                if aux_product > max_product:\n",
        "                  max_product = aux_product\n",
        "\n",
        "    return max_product\n",
        "\n",
        "def max_pairwise_product_improved(numbers):\n",
        "    max_product = 0\n",
        "    n = len(numbers)\n",
        "\n",
        "    for first in range(n):\n",
        "        for second in range(first + 1, n):\n",
        "            max_product = max(max_product, numbers[first] * numbers[second])\n",
        "\n",
        "    return max_product\n",
        "\n",
        "for _ in range(20):  # Run the test 20 times\n",
        "    n = random.randint(2, 12)  # Use a large n\n",
        "    numbers = [random.randint(1, 10**9) for _ in range(n)]  # Generate n random numbers between 1 and 10^9\n",
        "\n",
        "    print(\"-------------------------------------------------\")\n",
        "    print(f\"Testing with the list: {numbers}\")\n",
        "    print(f\"The efficient solution gives the result {max_pairwise_product_improved(numbers)}\")\n",
        "    print(f\"The comparison solution gives the result {max_pairwise_product(numbers)}\")\n",
        "    if max_pairwise_product_improved(numbers) == max_pairwise_product(numbers):\n",
        "        print(\"The solution is correct OK\")\n",
        "    else:\n",
        "        print(\"ERROR\")\n",
        "    print(\"-------------------------------------------------\")"
      ]
    },
    {
      "cell_type": "markdown",
      "metadata": {
        "id": "bvzaSl9FDZHk"
      },
      "source": [
        "Count executed instructions in code and verify with inputs 1,2 and 3\n"
      ]
    },
    {
      "cell_type": "code",
      "execution_count": null,
      "metadata": {
        "colab": {
          "base_uri": "https://localhost:8080/"
        },
        "outputId": "81147955-ef66-4670-84fd-01ff0ad641f1",
        "id": "B1rZvFIDDZHl"
      },
      "outputs": [
        {
          "output_type": "stream",
          "name": "stdout",
          "text": [
            "Overwriting max_pairwise_product_improved_count.py\n"
          ]
        }
      ],
      "source": [
        "%%writefile max_pairwise_product_improved_count.py\n",
        "import math\n",
        "exec_times = 0\n",
        "\n",
        "def max_pairwise_product_improved(numbers):\n",
        "    global exec_times\n",
        "    exec_times += 1\n",
        "    max_product = 0\n",
        "\n",
        "    exec_times += 1\n",
        "    n = len(numbers)\n",
        "\n",
        "    exec_times += 1\n",
        "    for first in range(n):\n",
        "        exec_times += 2\n",
        "\n",
        "        exec_times += 1\n",
        "        for second in range(first + 1, n):\n",
        "            exec_times += 2\n",
        "            max_product = max(max_product, numbers[first] * numbers[second])\n",
        "        exec_times += 1\n",
        "    exec_times += 1\n",
        "\n",
        "    return max_product\n",
        "\n",
        "exec_times += 1\n",
        "n = int(input())\n",
        "\n",
        "exec_times += n\n",
        "numbers = [int(i) for i in input().split()]\n",
        "\n",
        "exec_times += 1\n",
        "max_pairwise_product_improved(numbers)\n",
        "print(\"Number of instructions: \", exec_times)"
      ]
    },
    {
      "cell_type": "code",
      "source": [
        "%%writefile run_all_test.sh\n",
        "for i in {1..3}\n",
        "do\n",
        "    echo \"Input #$i\"\n",
        "    python3 max_pairwise_product_improved_count.py < input$i.txt\n",
        "done"
      ],
      "metadata": {
        "colab": {
          "base_uri": "https://localhost:8080/"
        },
        "outputId": "29add41c-4375-4c6e-9fdc-571b4342cd7a",
        "id": "-qcEx--wDZHl"
      },
      "execution_count": null,
      "outputs": [
        {
          "output_type": "stream",
          "name": "stdout",
          "text": [
            "Overwriting run_all_test.sh\n"
          ]
        }
      ]
    },
    {
      "cell_type": "code",
      "source": [
        "!chmod u+x run_all_test.sh\n",
        "!./run_all_test.sh"
      ],
      "metadata": {
        "colab": {
          "base_uri": "https://localhost:8080/"
        },
        "outputId": "421e9484-fcf0-490b-83a6-db80df4d1b74",
        "id": "SDH3JgMJDZHl"
      },
      "execution_count": null,
      "outputs": [
        {
          "output_type": "stream",
          "name": "stdout",
          "text": [
            "Input #1\n",
            "Number of instructions:  146\n",
            "Input #2\n",
            "Number of instructions:  146\n",
            "Input #3\n",
            "Number of instructions:  66\n"
          ]
        }
      ]
    },
    {
      "cell_type": "markdown",
      "metadata": {
        "id": "i8LOmeCtDZHl"
      },
      "source": [
        "# Calculate estimated time by instruction and number of instructions by second"
      ]
    },
    {
      "cell_type": "markdown",
      "source": [
        "# Using input11"
      ],
      "metadata": {
        "id": "3T8V64aIDZHl"
      }
    },
    {
      "cell_type": "markdown",
      "source": [
        "Calculating operations"
      ],
      "metadata": {
        "id": "dHl-b-7yDZHm"
      }
    },
    {
      "cell_type": "code",
      "source": [
        "import math\n",
        "\n",
        "def max_pairwise_product_improved(numbers):\n",
        "    max_product = 0 # 1\n",
        "    n = len(numbers) # 1\n",
        "\n",
        "\n",
        "    for first in range(n): # 2n + 2\n",
        "        for second in range(first + 1, n): # 2n + (n-1)n\n",
        "            max_product = max(max_product, numbers[first] * numbers[second]) # n^2\n",
        "\n",
        "    return max_product\n",
        "\n",
        "n = int(input()) # 1\n",
        "numbers = [int(i) for i in input().split()] # n\n",
        "max_pairwise_product_improved(numbers)\n"
      ],
      "metadata": {
        "id": "lKek27CcDZHm"
      },
      "execution_count": null,
      "outputs": []
    },
    {
      "cell_type": "markdown",
      "source": [
        "The # of operation is given by\n",
        "\n",
        "$$T (n) = 2n^2 + 4n + 5 = O(n^2)$$"
      ],
      "metadata": {
        "id": "E_VDCjENDZHm"
      }
    },
    {
      "cell_type": "markdown",
      "source": [
        "Using input11 (n=20000)"
      ],
      "metadata": {
        "id": "Bsuxya_JDZHm"
      }
    },
    {
      "cell_type": "markdown",
      "source": [
        "$$T (20000) = 2*20000^2 + 4 * 20000 + 5 ≈ 800080005$$"
      ],
      "metadata": {
        "id": "J-9kJgisDZHn"
      }
    },
    {
      "cell_type": "markdown",
      "source": [
        "Calculating time"
      ],
      "metadata": {
        "id": "IRje1guUDZHn"
      }
    },
    {
      "cell_type": "code",
      "execution_count": null,
      "metadata": {
        "colab": {
          "base_uri": "https://localhost:8080/"
        },
        "outputId": "66201624-6498-4c56-fabd-2ebc9b0d4e85",
        "id": "8U5xqu_CDZHn"
      },
      "outputs": [
        {
          "output_type": "stream",
          "name": "stdout",
          "text": [
            "Traceback (most recent call last):\n",
            "  File \"/content/max_pairwise_product_improved.py\", line 13, in <module>\n",
            "    print(max_pairwise_product_improved(numbers))\n",
            "  File \"/content/max_pairwise_product_improved.py\", line 7, in max_pairwise_product_improved\n",
            "    max_product = max(max_product, numbers[first] * numbers[second])\n",
            "KeyboardInterrupt\n",
            "^C\n"
          ]
        }
      ],
      "source": [
        "!time python3 max_pairwise_product_improved.py < input11.txt > pythonOutputSort11.txt\n",
        "!grep -xvFf pythonOutput11.txt output11.txt"
      ]
    },
    {
      "cell_type": "markdown",
      "source": [
        "Python complexity time is estimated the same as the c++ solution. So now let's study it's time execution performance"
      ],
      "metadata": {
        "id": "mgflaHHk6319"
      }
    },
    {
      "cell_type": "markdown",
      "source": [
        "The code runs for more than 1h: 30min.However, the code did not finish executing, this is because Python is much slower than C++ to carry out the instructions.\n",
        "\n",
        "![c6091078-9d44-4f7c-b781-56322021e15f.jpg](data:image/jpeg;base64,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)"
      ],
      "metadata": {
        "id": "DEBcF9176_QS"
      }
    },
    {
      "cell_type": "markdown",
      "source": [
        "For this reason, using input 11 it was not possible to find the number of instructions per second or the delay of an execution."
      ],
      "metadata": {
        "id": "tnz_P8W4632A"
      }
    },
    {
      "cell_type": "markdown",
      "metadata": {
        "id": "1Hsbd-uHOb_j"
      },
      "source": [
        "# Sort solution in C++ and Python\n",
        "\n",
        "$$ O(n \\lg n)$$\n",
        "\n",
        "**Which sorting algorithm is used in GCC?**\n",
        "https://stackoverflow.com/questions/7221257/which-sorting-algorithm-is-used-in-gcc\n",
        "\n",
        "* ...  the algorithm is called introsort, a combination between Insertionsort, Quicksort & Heapsort. ...\n",
        "\n",
        "**Introsort**\n",
        "https://en.wikipedia.org/wiki/Introsort\n",
        "\n",
        "Introsort or introspective sort is a hybrid sorting algorithm that provides both fast average performance and (asymptotically) optimal worst-case performance. It begins with quicksort, it switches to heapsort when the recursion depth exceeds a level based on (the logarithm of) the number of elements being sorted and it switches to insertion sort when the number of elements is below some threshold\n",
        "\n",
        "*   Class\tSorting algorithm\n",
        "*   Data structure\tArray\n",
        "*   Worst-case performance\t$O(n \\lg n)$\n",
        "*   Average performance\t$O(n \\lg n)$\n",
        "\n",
        "**Tinsort**\n",
        "https://en.wikipedia.org/wiki/Timsort\n",
        "\n",
        "Timsort is a hybrid, stable sorting algorithm, derived from merge sort and insertion sort, designed to perform well on many kinds of real-world data. It was implemented by Tim Peters in 2002 for use in the Python programming language.\n",
        "\n",
        "*   Class\tSorting algorithm\n",
        "*   Data structure\tArray\n",
        "*   Worst-case performance\t$O(n \\lg n)$\n",
        "*   Best-case performance $O(n)$\n",
        "*   Average performance\t$O(n \\lg n)$\n",
        "*   Worst-case space complexity $O(n)$"
      ]
    },
    {
      "cell_type": "markdown",
      "metadata": {
        "id": "WMUthAXjOb_k"
      },
      "source": [
        "Python sorting max pairwise product"
      ]
    },
    {
      "cell_type": "code",
      "execution_count": null,
      "metadata": {
        "id": "jnIRWyUEDu_C",
        "colab": {
          "base_uri": "https://localhost:8080/"
        },
        "outputId": "9b29ad81-463e-4be2-8395-24471f0c0326"
      },
      "outputs": [
        {
          "output_type": "stream",
          "name": "stdout",
          "text": [
            "Overwriting max_pairwise_product_sort.py\n"
          ]
        }
      ],
      "source": [
        "%%writefile max_pairwise_product_sort.py\n",
        "def max_pairwise_product_sort(numbers):\n",
        "  numbers.sort(reverse=True)\n",
        "  return numbers[0] * numbers[1]\n",
        "\n",
        "n = int(input())\n",
        "numbers = [int(i) for i in input().split()]\n",
        "print(max_pairwise_product_sort(numbers))"
      ]
    },
    {
      "cell_type": "markdown",
      "metadata": {
        "id": "v8pdV9ABOb_k"
      },
      "source": [
        "Test with inputs 1 and 2\n",
        "\n"
      ]
    },
    {
      "cell_type": "code",
      "execution_count": null,
      "metadata": {
        "id": "kdXAyLG4Ob_k",
        "colab": {
          "base_uri": "https://localhost:8080/"
        },
        "outputId": "601c0aeb-17d1-47b5-d6c7-0b5b70d258b5"
      },
      "outputs": [
        {
          "output_type": "stream",
          "name": "stdout",
          "text": [
            "Overwriting run_all_test.sh\n"
          ]
        }
      ],
      "source": [
        "%%writefile run_all_test.sh\n",
        "#comparing all the executions to check the differences between the outputs\n",
        "for i in {1..2}\n",
        "do\n",
        "    python3 max_pairwise_product_sort.py < input$i.txt > pythonOutput$i.txt\n",
        "    grep -xvFf pythonOutput$i.txt output$i.txt\n",
        "done"
      ]
    },
    {
      "cell_type": "code",
      "source": [
        "!chmod u+x run_all_test.sh\n",
        "!./run_all_test.sh"
      ],
      "metadata": {
        "id": "rjSJHjiC-SlF"
      },
      "execution_count": null,
      "outputs": []
    },
    {
      "cell_type": "markdown",
      "metadata": {
        "id": "Sw-5X1q1Ob_k"
      },
      "source": [
        "Test and time it with input 3"
      ]
    },
    {
      "cell_type": "code",
      "execution_count": null,
      "metadata": {
        "id": "ryHJ30WIOb_k",
        "colab": {
          "base_uri": "https://localhost:8080/"
        },
        "outputId": "d66dc0e4-ce92-448d-b566-259fdf6bd906"
      },
      "outputs": [
        {
          "output_type": "stream",
          "name": "stdout",
          "text": [
            "\n",
            "real\t0m0.040s\n",
            "user\t0m0.031s\n",
            "sys\t0m0.008s\n"
          ]
        }
      ],
      "source": [
        "!time python3 max_pairwise_product_sort.py < input3.txt > pythonOutput3.txt\n",
        "!grep -xvFf pythonOutput3.txt output3.txt"
      ]
    },
    {
      "cell_type": "markdown",
      "metadata": {
        "id": "oJGdPl1HOb_k"
      },
      "source": [
        "20 stress tests"
      ]
    },
    {
      "cell_type": "code",
      "execution_count": null,
      "metadata": {
        "id": "pXHtO1dEOb_k",
        "colab": {
          "base_uri": "https://localhost:8080/"
        },
        "outputId": "d08bfcb7-c8ac-425e-ea1e-c75edd0dc5c5"
      },
      "outputs": [
        {
          "output_type": "stream",
          "name": "stdout",
          "text": [
            "-------------------------------------------------\n",
            "Testing with the list: [597685597, 766079671, 216128683, 748717088, 189767204, 757656787, 687536366, 823930647, 873340336, 976552630, 674446822]\n",
            "The efficient solution gives the result 852862802005883680\n",
            "The comparison solution gives the result 852862802005883680\n",
            "The solution is correct OK\n",
            "-------------------------------------------------\n",
            "-------------------------------------------------\n",
            "Testing with the list: [979581057, 355803693, 124310102, 530323210, 25188516, 908573524, 485967415, 944050783]\n",
            "The efficient solution gives the result 924774263872817631\n",
            "The comparison solution gives the result 924774263872817631\n",
            "The solution is correct OK\n",
            "-------------------------------------------------\n",
            "-------------------------------------------------\n",
            "Testing with the list: [155059024, 825286153, 994781546, 723807813, 501647899, 429007868, 871684196, 383063727]\n",
            "The efficient solution gives the result 867135352120647016\n",
            "The comparison solution gives the result 867135352120647016\n",
            "The solution is correct OK\n",
            "-------------------------------------------------\n",
            "-------------------------------------------------\n",
            "Testing with the list: [860478714, 888905590, 992777925, 785652913, 426015216]\n",
            "The efficient solution gives the result 882485847161100750\n",
            "The comparison solution gives the result 882485847161100750\n",
            "The solution is correct OK\n",
            "-------------------------------------------------\n",
            "-------------------------------------------------\n",
            "Testing with the list: [548810441, 951174528, 861016377, 871042416]\n",
            "The efficient solution gives the result 828513358906779648\n",
            "The comparison solution gives the result 828513358906779648\n",
            "The solution is correct OK\n",
            "-------------------------------------------------\n",
            "-------------------------------------------------\n",
            "Testing with the list: [778261882, 906808969, 852727255, 930355843, 844133513, 552878571]\n",
            "The efficient solution gives the result 843655022793955867\n",
            "The comparison solution gives the result 843655022793955867\n",
            "The solution is correct OK\n",
            "-------------------------------------------------\n",
            "-------------------------------------------------\n",
            "Testing with the list: [997904856, 238881890, 520037358, 825530323, 219535187, 762194404, 81137833, 114945462, 787533813]\n",
            "The efficient solution gives the result 823800718096948488\n",
            "The comparison solution gives the result 823800718096948488\n",
            "The solution is correct OK\n",
            "-------------------------------------------------\n",
            "-------------------------------------------------\n",
            "Testing with the list: [624669997, 351852746, 121676918, 155126055]\n",
            "The efficient solution gives the result 219791853788261762\n",
            "The comparison solution gives the result 219791853788261762\n",
            "The solution is correct OK\n",
            "-------------------------------------------------\n",
            "-------------------------------------------------\n",
            "Testing with the list: [984794809, 585927364, 651586644, 443531427, 215051133, 629107272]\n",
            "The efficient solution gives the result 641679144624930996\n",
            "The comparison solution gives the result 641679144624930996\n",
            "The solution is correct OK\n",
            "-------------------------------------------------\n",
            "-------------------------------------------------\n",
            "Testing with the list: [463760182, 394154367, 84735180]\n",
            "The efficient solution gives the result 182793100976014794\n",
            "The comparison solution gives the result 182793100976014794\n",
            "The solution is correct OK\n",
            "-------------------------------------------------\n",
            "-------------------------------------------------\n",
            "Testing with the list: [933835072, 188926727, 174868207, 942265176, 81307313, 803057316, 989512232, 517357017]\n",
            "The efficient solution gives the result 932382917439632832\n",
            "The comparison solution gives the result 932382917439632832\n",
            "The solution is correct OK\n",
            "-------------------------------------------------\n",
            "-------------------------------------------------\n",
            "Testing with the list: [736692107, 504391484, 709165930, 381502875, 747588602, 50977671, 676014846, 765027906, 908422141, 606700444, 404120768]\n",
            "The efficient solution gives the result 694968288293266746\n",
            "The comparison solution gives the result 694968288293266746\n",
            "The solution is correct OK\n",
            "-------------------------------------------------\n",
            "-------------------------------------------------\n",
            "Testing with the list: [949005340, 949794013, 474851594, 433251350, 536274671, 474519314, 178764667]\n",
            "The efficient solution gives the result 901359590237029420\n",
            "The comparison solution gives the result 901359590237029420\n",
            "The solution is correct OK\n",
            "-------------------------------------------------\n",
            "-------------------------------------------------\n",
            "Testing with the list: [492863749, 642461725, 432005157, 340563651]\n",
            "The efficient solution gives the result 316646094372507025\n",
            "The comparison solution gives the result 316646094372507025\n",
            "The solution is correct OK\n",
            "-------------------------------------------------\n",
            "-------------------------------------------------\n",
            "Testing with the list: [601541238, 857774695, 234389995, 887619950, 926936970, 125669635, 845935129, 605842202]\n",
            "The efficient solution gives the result 822767746964551500\n",
            "The comparison solution gives the result 822767746964551500\n",
            "The solution is correct OK\n",
            "-------------------------------------------------\n",
            "-------------------------------------------------\n",
            "Testing with the list: [812694012, 875180662, 390389422, 35809671, 205264610, 438995123, 718922264, 709265062]\n",
            "The efficient solution gives the result 711254083425595944\n",
            "The comparison solution gives the result 711254083425595944\n",
            "The solution is correct OK\n",
            "-------------------------------------------------\n",
            "-------------------------------------------------\n",
            "Testing with the list: [860650761, 926781584, 398986436, 957377376, 813434757, 211301279, 274538527, 777597197]\n",
            "The efficient solution gives the result 887279721015043584\n",
            "The comparison solution gives the result 887279721015043584\n",
            "The solution is correct OK\n",
            "-------------------------------------------------\n",
            "-------------------------------------------------\n",
            "Testing with the list: [683511753, 158596152, 778425877, 813187058, 872285603, 826759490, 528041104, 487971329, 581455792, 850986502]\n",
            "The efficient solution gives the result 742303274041930706\n",
            "The comparison solution gives the result 742303274041930706\n",
            "The solution is correct OK\n",
            "-------------------------------------------------\n",
            "-------------------------------------------------\n",
            "Testing with the list: [349090675, 49694885, 899947336]\n",
            "The efficient solution gives the result 314163222988691800\n",
            "The comparison solution gives the result 314163222988691800\n",
            "The solution is correct OK\n",
            "-------------------------------------------------\n",
            "-------------------------------------------------\n",
            "Testing with the list: [764700818, 745735202, 209109932, 927925382]\n",
            "The efficient solution gives the result 709585298658362476\n",
            "The comparison solution gives the result 709585298658362476\n",
            "The solution is correct OK\n",
            "-------------------------------------------------\n"
          ]
        }
      ],
      "source": [
        "import random\n",
        "def max_pairwise_product_sort(numbers):\n",
        "  numbers.sort(reverse=True)\n",
        "  return numbers[0] * numbers[1]\n",
        "\n",
        "for _ in range(20):  # Run the test 20 times\n",
        "    n = random.randint(2, 12)  # Use a large n\n",
        "    numbers = [random.randint(1, 10**9) for _ in range(n)]  # Generate n random numbers between 1 and 10^9\n",
        "\n",
        "    print(\"-------------------------------------------------\")\n",
        "    print(f\"Testing with the list: {numbers}\")\n",
        "    print(f\"The efficient solution gives the result {max_pairwise_product_sort(numbers)}\")\n",
        "    print(f\"The comparison solution gives the result {max_pairwise_product(numbers)}\")\n",
        "    if max_pairwise_product_sort(numbers) == max_pairwise_product(numbers):\n",
        "        print(\"The solution is correct OK\")\n",
        "    else:\n",
        "        print(\"ERROR\")\n",
        "    print(\"-------------------------------------------------\")"
      ]
    },
    {
      "cell_type": "markdown",
      "metadata": {
        "id": "2beTmWFPOb_k"
      },
      "source": [
        "Count executed instructions in code and verify with inputs 1,2 and 3\n"
      ]
    },
    {
      "cell_type": "code",
      "execution_count": null,
      "metadata": {
        "colab": {
          "base_uri": "https://localhost:8080/"
        },
        "outputId": "9ec0da72-6dfb-43c2-ab2e-f3ff826058ea",
        "id": "WcLXAkLZMFpM"
      },
      "outputs": [
        {
          "output_type": "stream",
          "name": "stdout",
          "text": [
            "Overwriting max_pairwise_product_sort_count.py\n"
          ]
        }
      ],
      "source": [
        "%%writefile max_pairwise_product_sort_count.py\n",
        "import math\n",
        "exec_times = 0\n",
        "def max_pairwise_product_sort(numbers):\n",
        "  global exec_times\n",
        "\n",
        "  exec_times += int(len(numbers)*math.log(len(numbers))) # .sort Time complexity n*log(n)\n",
        "  numbers.sort(reverse=True)\n",
        "\n",
        "  exec_times += 1\n",
        "  return numbers[0] * numbers[1]\n",
        "\n",
        "exec_times += 1\n",
        "n = int(input())\n",
        "\n",
        "execints += n\n",
        "numbers = [int(i) for i in input().split()]\n",
        "\n",
        "exec_times += 1\n",
        "max_pairwise_product_sort(numbers)\n",
        "print(\"Number of instructions: \", exec_times)"
      ]
    },
    {
      "cell_type": "code",
      "source": [
        "%%writefile run_all_test.sh\n",
        "for i in {1..3}\n",
        "do\n",
        "    echo \"Input #$i\"\n",
        "    python3 max_pairwise_product_sort_count.py < input$i.txt\n",
        "done"
      ],
      "metadata": {
        "colab": {
          "base_uri": "https://localhost:8080/"
        },
        "id": "xXO_29fJONmV",
        "outputId": "c76fac5f-5a66-4352-9b77-3bcf7408f57f"
      },
      "execution_count": null,
      "outputs": [
        {
          "output_type": "stream",
          "name": "stdout",
          "text": [
            "Overwriting run_all_test.sh\n"
          ]
        }
      ]
    },
    {
      "cell_type": "code",
      "source": [
        "!chmod u+x run_all_test.sh\n",
        "!./run_all_test.sh"
      ],
      "metadata": {
        "colab": {
          "base_uri": "https://localhost:8080/"
        },
        "id": "Bdh6f_lYSMuo",
        "outputId": "ebb283dc-e58a-45dd-b852-3c00719ada49"
      },
      "execution_count": null,
      "outputs": [
        {
          "output_type": "stream",
          "name": "stdout",
          "text": [
            "Input #1\n",
            "Number of instructions:  27\n",
            "Input #2\n",
            "Number of instructions:  27\n",
            "Input #3\n",
            "Number of instructions:  14\n"
          ]
        }
      ]
    },
    {
      "cell_type": "markdown",
      "metadata": {
        "id": "x2CXhkwTOb_l"
      },
      "source": [
        "# Calculate estimated time by instruction and number of instructions by second"
      ]
    },
    {
      "cell_type": "markdown",
      "source": [
        "# Using input11"
      ],
      "metadata": {
        "id": "0yv2tHSZXoJy"
      }
    },
    {
      "cell_type": "markdown",
      "source": [
        "Calculating operations"
      ],
      "metadata": {
        "id": "LGXqEVfckeLn"
      }
    },
    {
      "cell_type": "code",
      "source": [
        "def max_pairwise_product_sort(numbers):\n",
        "  numbers.sort(reverse=True) #  [N, N * Log (N)]\n",
        "  return numbers[0] * numbers[1] #  1"
      ],
      "metadata": {
        "id": "zaQWHvxvnjWt"
      },
      "execution_count": null,
      "outputs": []
    },
    {
      "cell_type": "markdown",
      "source": [
        "The # of operation is given by .sort python time complexity ( N* log N), and the return statement calculation (1)\n",
        "\n",
        "$$T (n) = 1 + \\left[n, n*log(n)\\right] = O(n*log(n))$$"
      ],
      "metadata": {
        "id": "uQiyDgI4mcqm"
      }
    },
    {
      "cell_type": "markdown",
      "source": [
        "Using input11 (n=20000)"
      ],
      "metadata": {
        "id": "XgjYoU-0on4Q"
      }
    },
    {
      "cell_type": "markdown",
      "source": [
        "$$T (20000) = 1 + 20000*log(20000) ≈ 86022$$"
      ],
      "metadata": {
        "id": "O4koPRvYkcXw"
      }
    },
    {
      "cell_type": "markdown",
      "source": [
        "Calculating time"
      ],
      "metadata": {
        "id": "cHb20UP1qETo"
      }
    },
    {
      "cell_type": "code",
      "execution_count": null,
      "metadata": {
        "id": "nTjxyTMtOb_l",
        "colab": {
          "base_uri": "https://localhost:8080/"
        },
        "outputId": "21a797af-07c8-458f-9f72-fc6561bfeb1e"
      },
      "outputs": [
        {
          "output_type": "stream",
          "name": "stdout",
          "text": [
            "\n",
            "real\t0m0.170s\n",
            "user\t0m0.127s\n",
            "sys\t0m0.033s\n"
          ]
        }
      ],
      "source": [
        "!time python3 max_pairwise_product_sort.py < input11.txt > pythonOutputSort11.txt\n",
        "!grep -xvFf pythonOutput11.txt output11.txt"
      ]
    },
    {
      "cell_type": "markdown",
      "source": [
        "Time by instruction"
      ],
      "metadata": {
        "id": "bf55eDabqTk2"
      }
    },
    {
      "cell_type": "code",
      "source": [
        "time_per_instruction = 0.170/86022\n",
        "time_per_instruction"
      ],
      "metadata": {
        "colab": {
          "base_uri": "https://localhost:8080/"
        },
        "id": "IZY9R5JVqYjn",
        "outputId": "7c5d2308-15d9-4fd8-b188-b19f82237443"
      },
      "execution_count": null,
      "outputs": [
        {
          "output_type": "execute_result",
          "data": {
            "text/plain": [
              "1.9762386366278397e-06"
            ]
          },
          "metadata": {},
          "execution_count": 120
        }
      ]
    },
    {
      "cell_type": "markdown",
      "source": [
        "Number of instructions by second"
      ],
      "metadata": {
        "id": "CJa6le8BqjDJ"
      }
    },
    {
      "cell_type": "code",
      "source": [
        "time_per_second = 86022/0.170\n",
        "time_per_second"
      ],
      "metadata": {
        "colab": {
          "base_uri": "https://localhost:8080/"
        },
        "outputId": "748bcbea-b533-41ab-9fec-0af87519a10a",
        "id": "FVyZxX-yqjDL"
      },
      "execution_count": null,
      "outputs": [
        {
          "output_type": "execute_result",
          "data": {
            "text/plain": [
              "506011.7647058823"
            ]
          },
          "metadata": {},
          "execution_count": 121
        }
      ]
    },
    {
      "cell_type": "markdown",
      "metadata": {
        "id": "8mwIAjIjrbwO"
      },
      "source": [
        "### Estimate and verify the maximun n that can be solved in 1 second\n",
        "\n",
        "\n",
        "$$(1+ n*log(n)) \\times 1.47*10^{-9} s = 1 s$$\n",
        "\n",
        "$$ n \\approx 38923600$$\n"
      ]
    },
    {
      "cell_type": "markdown",
      "source": [
        "C++ sorting max pairwise product"
      ],
      "metadata": {
        "id": "3s_5MyWmvC--"
      }
    },
    {
      "cell_type": "code",
      "execution_count": null,
      "metadata": {
        "colab": {
          "base_uri": "https://localhost:8080/"
        },
        "outputId": "ef78f609-c4ea-4b18-a784-26c20b60178d",
        "id": "WSN0Z5G6vGPJ"
      },
      "outputs": [
        {
          "output_type": "stream",
          "name": "stdout",
          "text": [
            "Overwriting max_pairwise_product_sort.cpp\n"
          ]
        }
      ],
      "source": [
        "%%writefile max_pairwise_product_sort.cpp\n",
        "#include <iostream>\n",
        "#include <vector>\n",
        "#include <algorithm>\n",
        "\n",
        "long long max_pairwise_product_sort(std::vector<int>& numbers) {\n",
        "    std::sort(numbers.rbegin(), numbers.rend());\n",
        "    return static_cast<long long>(numbers[0]) * numbers[1];\n",
        "}\n",
        "\n",
        "int main() {\n",
        "    int n;\n",
        "    std::cin >> n;\n",
        "    std::vector<int> numbers(n);\n",
        "    for (int i = 0; i < n; ++i) {\n",
        "        std::cin >> numbers[i];\n",
        "    }\n",
        "\n",
        "    std::cout << max_pairwise_product_sort(numbers) << \"\\n\";\n",
        "\n",
        "    return 0;\n",
        "}"
      ]
    },
    {
      "cell_type": "markdown",
      "metadata": {
        "id": "gpr6mPR7vGPK"
      },
      "source": [
        "Test with inputs 1 and 2\n",
        "\n"
      ]
    },
    {
      "cell_type": "code",
      "execution_count": null,
      "metadata": {
        "colab": {
          "base_uri": "https://localhost:8080/"
        },
        "outputId": "a469ff9a-7bf5-4af3-cb89-72df3601fa32",
        "id": "Jspk4fipvGPK"
      },
      "outputs": [
        {
          "output_type": "stream",
          "name": "stdout",
          "text": [
            "Overwriting run_all_test.sh\n"
          ]
        }
      ],
      "source": [
        "%%writefile run_all_test.sh\n",
        "#comparing all the executions to check the differences between the outputs\n",
        "for i in {1..2}\n",
        "do\n",
        "    g++ max_pairwise_product_sort.cpp -o max_pairwise_product_sort\n",
        "    ./max_pairwise_product_sort < input$i.txt > cppOutput$i.txt\n",
        "    grep -xvFf cppOutput$i.txt output$i.txt\n",
        "done"
      ]
    },
    {
      "cell_type": "code",
      "source": [
        "!chmod u+x run_all_test.sh\n",
        "!./run_all_test.sh"
      ],
      "metadata": {
        "id": "zoPLSBc9vGPK"
      },
      "execution_count": null,
      "outputs": []
    },
    {
      "cell_type": "markdown",
      "metadata": {
        "id": "iheLo3ZvvGPK"
      },
      "source": [
        "Test and time it with input 3"
      ]
    },
    {
      "cell_type": "code",
      "execution_count": null,
      "metadata": {
        "colab": {
          "base_uri": "https://localhost:8080/"
        },
        "outputId": "158b6ed0-dd8f-42af-b213-c7bdd05429c7",
        "id": "SFeVguohvGPL"
      },
      "outputs": [
        {
          "output_type": "stream",
          "name": "stdout",
          "text": [
            "\n",
            "real\t0m0.005s\n",
            "user\t0m0.001s\n",
            "sys\t0m0.002s\n"
          ]
        }
      ],
      "source": [
        "!time ./max_pairwise_product_sort < input3.txt > cppOutput3.txt\n",
        "!grep -xvFf cppOutput3.txt output3.txt"
      ]
    },
    {
      "cell_type": "markdown",
      "metadata": {
        "id": "pCKKcJQ_vGPL"
      },
      "source": [
        "20 stress tests"
      ]
    },
    {
      "cell_type": "code",
      "execution_count": null,
      "metadata": {
        "colab": {
          "base_uri": "https://localhost:8080/"
        },
        "outputId": "fb51c413-c52d-4a33-c0e7-9e79c950db98",
        "id": "0aDh6epDvGPL"
      },
      "outputs": [
        {
          "output_type": "stream",
          "name": "stdout",
          "text": [
            "Overwriting stressTestCPlusPlusSort.cpp\n"
          ]
        }
      ],
      "source": [
        "%%writefile stressTestCPlusPlusSort.cpp\n",
        "\n",
        "#include <iostream>\n",
        "#include <vector>\n",
        "#include <algorithm>\n",
        "#include <random>\n",
        "\n",
        "long long MaxPairwiseProduct(const std::vector<int>& numbers) {\n",
        "    long long max_product = 0LL;\n",
        "\t  long long aux_product = 0LL;\n",
        "    int n = numbers.size();\n",
        "\n",
        "    for (int first = 0; first < n; ++first) {\n",
        "        for (int second = 0; second < n; ++second) {\n",
        "          if ( first != second){\n",
        "                aux_product = (long long) numbers[first] * numbers[second];\n",
        "                if (aux_product > max_product)  max_product = aux_product;\n",
        "          }\n",
        "        }\n",
        "    }\n",
        "\n",
        "\n",
        "    return max_product;\n",
        "}\n",
        "\n",
        "long long max_pairwise_product_sort(std::vector<int>& numbers) {\n",
        "    std::sort(numbers.rbegin(), numbers.rend());\n",
        "    return static_cast<long long>(numbers[0]) * numbers[1];\n",
        "}\n",
        "\n",
        "int main() {\n",
        "    std::random_device rd;\n",
        "    std::mt19937 gen(rd());\n",
        "\n",
        "    for (int i = 0; i < 20; ++i) {\n",
        "        int n = std::uniform_int_distribution<int>(2, 12)(gen);  // Use a large n\n",
        "        std::vector<int> numbers(n);\n",
        "        for (int j = 0; j < n; ++j) {\n",
        "            numbers[j] = std::uniform_int_distribution<int>(1, 1e9)(gen);  // Generate n random numbers between 1 and 10^9\n",
        "        }\n",
        "\n",
        "        std::cout << \"-------------------------------------------------\\n\";\n",
        "        std::cout << \"Testing with the list: \";\n",
        "        for (int num : numbers) {\n",
        "            std::cout << num << \" \";\n",
        "        }\n",
        "        std::cout << \"\\n\";\n",
        "\n",
        "        long long efficient_result = max_pairwise_product_sort(numbers);\n",
        "        long long comparison_result = MaxPairwiseProduct(numbers);  // Replace with your comparison function result\n",
        "\n",
        "        std::cout << \"The efficient solution gives the result \" << efficient_result << \"\\n\";\n",
        "        std::cout << \"The comparison solution gives the result \" << comparison_result << \"\\n\";\n",
        "\n",
        "        if (efficient_result == comparison_result) {\n",
        "            std::cout << \"The solution is correct OK\\n\";\n",
        "        } else {\n",
        "            std::cout << \"ERROR\\n\";\n",
        "        }\n",
        "\n",
        "        std::cout << \"-------------------------------------------------\\n\";\n",
        "    }\n",
        "\n",
        "    return 0;\n",
        "}\n"
      ]
    },
    {
      "cell_type": "code",
      "execution_count": null,
      "metadata": {
        "colab": {
          "base_uri": "https://localhost:8080/"
        },
        "outputId": "805e8f4f-caab-467b-c8d3-eab57e05bf30",
        "id": "cI-XGYbNyo61"
      },
      "outputs": [
        {
          "output_type": "stream",
          "name": "stdout",
          "text": [
            "-------------------------------------------------\n",
            "Testing with the list: 683425515 928735097 526915087 442263252 \n",
            "The efficient solution gives the result 634721261965799955\n",
            "The comparison solution gives the result 634721261965799955\n",
            "The solution is correct OK\n",
            "-------------------------------------------------\n",
            "-------------------------------------------------\n",
            "Testing with the list: 645555604 376668876 921706127 798137129 729144043 698191485 184477678 69492693 \n",
            "The efficient solution gives the result 735647881985489383\n",
            "The comparison solution gives the result 735647881985489383\n",
            "The solution is correct OK\n",
            "-------------------------------------------------\n",
            "-------------------------------------------------\n",
            "Testing with the list: 598632821 911488006 604433359 662933164 \n",
            "The efficient solution gives the result 604255627765630984\n",
            "The comparison solution gives the result 604255627765630984\n",
            "The solution is correct OK\n",
            "-------------------------------------------------\n",
            "-------------------------------------------------\n",
            "Testing with the list: 601406449 466998098 720917281 366709035 738675646 207135381 144068531 244995281 932572879 513737368 \n",
            "The efficient solution gives the result 688868873837404834\n",
            "The comparison solution gives the result 688868873837404834\n",
            "The solution is correct OK\n",
            "-------------------------------------------------\n",
            "-------------------------------------------------\n",
            "Testing with the list: 310826693 918597310 \n",
            "The efficient solution gives the result 285524564065995830\n",
            "The comparison solution gives the result 285524564065995830\n",
            "The solution is correct OK\n",
            "-------------------------------------------------\n",
            "-------------------------------------------------\n",
            "Testing with the list: 110071738 817671073 834193362 243175765 676566112 \n",
            "The efficient solution gives the result 682095781396017426\n",
            "The comparison solution gives the result 682095781396017426\n",
            "The solution is correct OK\n",
            "-------------------------------------------------\n",
            "-------------------------------------------------\n",
            "Testing with the list: 742854852 237934571 593341298 567592226 493225704 490521102 314636674 39450830 980623 329887362 611686947 802121455 \n",
            "The efficient solution gives the result 595859814740049660\n",
            "The comparison solution gives the result 595859814740049660\n",
            "The solution is correct OK\n",
            "-------------------------------------------------\n",
            "-------------------------------------------------\n",
            "Testing with the list: 401432620 890609376 573646649 113710041 908160211 408079541 816860571 690142465 92742616 \n",
            "The efficient solution gives the result 808815998826738336\n",
            "The comparison solution gives the result 808815998826738336\n",
            "The solution is correct OK\n",
            "-------------------------------------------------\n",
            "-------------------------------------------------\n",
            "Testing with the list: 790408345 258311137 918243400 662976900 275264906 71918886 176765083 668353950 769836713 311014904 972786732 499682168 \n",
            "The efficient solution gives the result 893254996266568800\n",
            "The comparison solution gives the result 893254996266568800\n",
            "The solution is correct OK\n",
            "-------------------------------------------------\n",
            "-------------------------------------------------\n",
            "Testing with the list: 510105800 250969102 79258347 969698947 61806795 949885122 931933478 \n",
            "The efficient solution gives the result 921102602574366534\n",
            "The comparison solution gives the result 921102602574366534\n",
            "The solution is correct OK\n",
            "-------------------------------------------------\n",
            "-------------------------------------------------\n",
            "Testing with the list: 360690215 975544265 209570165 217424866 40823192 397889973 980461736 23439107 723508550 638317215 401174137 93957026 \n",
            "The efficient solution gives the result 956483823606744040\n",
            "The comparison solution gives the result 956483823606744040\n",
            "The solution is correct OK\n",
            "-------------------------------------------------\n",
            "-------------------------------------------------\n",
            "Testing with the list: 596564774 868137757 217639701 451101934 969135301 217907040 \n",
            "The efficient solution gives the result 841342946439659857\n",
            "The comparison solution gives the result 841342946439659857\n",
            "The solution is correct OK\n",
            "-------------------------------------------------\n",
            "-------------------------------------------------\n",
            "Testing with the list: 984508563 916946999 548214838 853375625 477375228 33663615 663815465 \n",
            "The efficient solution gives the result 902742172332652437\n",
            "The comparison solution gives the result 902742172332652437\n",
            "The solution is correct OK\n",
            "-------------------------------------------------\n",
            "-------------------------------------------------\n",
            "Testing with the list: 414122435 714257825 344061356 209268410 997417010 \n",
            "The efficient solution gives the result 712412904180603250\n",
            "The comparison solution gives the result 712412904180603250\n",
            "The solution is correct OK\n",
            "-------------------------------------------------\n",
            "-------------------------------------------------\n",
            "Testing with the list: 130790751 546134760 354804205 171679935 86607094 90764574 652229317 843981188 957294077 \n",
            "The efficient solution gives the result 807938192371823476\n",
            "The comparison solution gives the result 807938192371823476\n",
            "The solution is correct OK\n",
            "-------------------------------------------------\n",
            "-------------------------------------------------\n",
            "Testing with the list: 447090361 745873460 169362860 831617114 \n",
            "The efficient solution gives the result 620281134214394440\n",
            "The comparison solution gives the result 620281134214394440\n",
            "The solution is correct OK\n",
            "-------------------------------------------------\n",
            "-------------------------------------------------\n",
            "Testing with the list: 787685782 889094592 979506364 359834176 548969565 910631528 797520350 780697147 864926946 438422653 605292137 281808116 \n",
            "The efficient solution gives the result 891969376935044192\n",
            "The comparison solution gives the result 891969376935044192\n",
            "The solution is correct OK\n",
            "-------------------------------------------------\n",
            "-------------------------------------------------\n",
            "Testing with the list: 2200 572366317 680290194 111921218 689858443 777558517 \n",
            "The efficient solution gives the result 536405307879009031\n",
            "The comparison solution gives the result 536405307879009031\n",
            "The solution is correct OK\n",
            "-------------------------------------------------\n",
            "-------------------------------------------------\n",
            "Testing with the list: 227290500 83898732 360068920 610040863 995280914 660632545 611793918 94841821 437733460 \n",
            "The efficient solution gives the result 657514963205746130\n",
            "The comparison solution gives the result 657514963205746130\n",
            "The solution is correct OK\n",
            "-------------------------------------------------\n",
            "-------------------------------------------------\n",
            "Testing with the list: 779708785 536779437 84799174 921363441 409832534 909559376 533200881 174021779 174722794 363050688 \n",
            "The efficient solution gives the result 838034756465172816\n",
            "The comparison solution gives the result 838034756465172816\n",
            "The solution is correct OK\n",
            "-------------------------------------------------\n"
          ]
        }
      ],
      "source": [
        "!g++ stressTestCPlusPlusSort.cpp -o max_pairwise_product_long\n",
        "!./max_pairwise_product_long"
      ]
    },
    {
      "cell_type": "markdown",
      "metadata": {
        "id": "qta4xkJTvGPL"
      },
      "source": [
        "Count executed instructions in code and verify with inputs 1,2 and 3\n"
      ]
    },
    {
      "cell_type": "code",
      "execution_count": null,
      "metadata": {
        "colab": {
          "base_uri": "https://localhost:8080/"
        },
        "outputId": "4b6ae3ee-c393-4b0a-c32c-1629992cfaca",
        "id": "bkIrG-1w2k-k"
      },
      "outputs": [
        {
          "output_type": "stream",
          "name": "stdout",
          "text": [
            "Overwriting max_pairwise_product_sort.cpp\n"
          ]
        }
      ],
      "source": [
        "%%writefile max_pairwise_product_sort.cpp\n",
        "#include <iostream>\n",
        "#include <vector>\n",
        "#include <algorithm>\n",
        "#include <math.h>       /* log10 */\n",
        "\n",
        "long long execints = 0LL;\n",
        "int n;\n",
        "\n",
        "long long max_pairwise_product_sort(std::vector<int>& numbers) {\n",
        "    execints += n + log10(n);\n",
        "    std::sort(numbers.rbegin(), numbers.rend());\n",
        "    execints += 1;\n",
        "    return static_cast<long long>(numbers[0]) * numbers[1];\n",
        "}\n",
        "\n",
        "int main() {\n",
        "    std::cin >> n;\n",
        "    std::vector<int> numbers(n);\n",
        "    for (int i = 0; i < n; ++i) {\n",
        "        std::cin >> numbers[i];\n",
        "    }\n",
        "\n",
        "     max_pairwise_product_sort(numbers);\n",
        "\n",
        "    std::cout << execints << \"\\n\";\n",
        "\n",
        "    return 0;\n",
        "}"
      ]
    },
    {
      "cell_type": "code",
      "execution_count": null,
      "metadata": {
        "colab": {
          "base_uri": "https://localhost:8080/"
        },
        "outputId": "865dc34b-e212-4ba6-f347-ccd21308cf90",
        "id": "Qxn6cykmvGPM"
      },
      "outputs": [
        {
          "output_type": "stream",
          "name": "stdout",
          "text": [
            "Overwriting run_all_test.sh\n"
          ]
        }
      ],
      "source": [
        "%%writefile run_all_test.sh\n",
        "#!/bin/bash\n",
        "g++ max_pairwise_product_sort.cpp -o max_pairwise_product_sort\n",
        "for i in {1..3}\n",
        "do\n",
        "    echo \"Input #$i\"\n",
        "    ./max_pairwise_product_sort < input$i.txt\n",
        "done"
      ]
    },
    {
      "cell_type": "code",
      "source": [
        "!chmod u+x run_all_test.sh\n",
        "!./run_all_test.sh"
      ],
      "metadata": {
        "colab": {
          "base_uri": "https://localhost:8080/"
        },
        "outputId": "065ab5e0-29bc-4c7c-d789-ea43591c64c4",
        "id": "E2Ft9164vGPM"
      },
      "execution_count": null,
      "outputs": [
        {
          "output_type": "stream",
          "name": "stdout",
          "text": [
            "Input #1\n",
            "12\n",
            "Input #2\n",
            "12\n",
            "Input #3\n",
            "7\n"
          ]
        }
      ]
    },
    {
      "cell_type": "markdown",
      "metadata": {
        "id": "QfA7UNvwvGPM"
      },
      "source": [
        "# Calculate estimated time by instruction and number of instructions by second"
      ]
    },
    {
      "cell_type": "markdown",
      "source": [
        "# Using input11"
      ],
      "metadata": {
        "id": "5B-rm-LyvGPN"
      }
    },
    {
      "cell_type": "markdown",
      "source": [
        "Calculating operations"
      ],
      "metadata": {
        "id": "lbK70aVnvGPN"
      }
    },
    {
      "cell_type": "code",
      "execution_count": null,
      "metadata": {
        "colab": {
          "base_uri": "https://localhost:8080/"
        },
        "outputId": "2685787c-2e61-4c07-edf2-f4f0026676b6",
        "id": "Qly5HPrB4kRf"
      },
      "outputs": [
        {
          "output_type": "stream",
          "name": "stdout",
          "text": [
            "Overwriting max_pairwise_product_sort.cpp\n"
          ]
        }
      ],
      "source": [
        "%%writefile max_pairwise_product_sort.cpp\n",
        "#include <iostream>\n",
        "#include <vector>\n",
        "#include <algorithm>\n",
        "\n",
        "long long max_pairwise_product_sort(std::vector<int>& numbers) {\n",
        "    std::sort(numbers.rbegin(), numbers.rend()); // N * log(N)\n",
        "    return static_cast<long long>(numbers[0]) * numbers[1]; // 1\n",
        "}\n",
        "\n",
        "int main() {\n",
        "    int n;\n",
        "    std::cin >> n;\n",
        "    std::vector<int> numbers(n);\n",
        "    for (int i = 0; i < n; ++i) {\n",
        "        std::cin >> numbers[i];\n",
        "    }\n",
        "\n",
        "    std::cout << max_pairwise_product_sort(numbers) << \"\\n\";\n",
        "\n",
        "    return 0;\n",
        "}"
      ]
    },
    {
      "cell_type": "markdown",
      "source": [
        "The # of operation is given by .sort python time complexity ( N* log N), and the return statement calculation (1)\n",
        "\n",
        "$$T (n) = 1 + \\left[n, n*log(n)\\right] = O(n*log(n))$$"
      ],
      "metadata": {
        "id": "rC_klT3kvGPN"
      }
    },
    {
      "cell_type": "markdown",
      "source": [
        "Using input11 (n=20000)"
      ],
      "metadata": {
        "id": "B1ds5layvGPN"
      }
    },
    {
      "cell_type": "markdown",
      "source": [
        "$$T (20000) = 1 + 20000*log(20000) ≈ 86022$$"
      ],
      "metadata": {
        "id": "vQAtpImdvGPO"
      }
    },
    {
      "cell_type": "markdown",
      "source": [
        "Calculating time"
      ],
      "metadata": {
        "id": "07JVTzvkvGPO"
      }
    },
    {
      "cell_type": "code",
      "execution_count": null,
      "metadata": {
        "colab": {
          "base_uri": "https://localhost:8080/"
        },
        "outputId": "7c17f957-2e18-49ef-d63a-4be3c7cae4d6",
        "id": "JWGAamG5vGPO"
      },
      "outputs": [
        {
          "output_type": "stream",
          "name": "stdout",
          "text": [
            "\n",
            "real\t0m0.208s\n",
            "user\t0m0.202s\n",
            "sys\t0m0.002s\n"
          ]
        }
      ],
      "source": [
        "!g++ max_pairwise_product_sort.cpp -o max_pairwise_product_sort\n",
        "!time ./max_pairwise_product_sort < input11.txt > cppOutput11.txt\n",
        "!grep -xvFf cppOutput11.txt output11.txt"
      ]
    },
    {
      "cell_type": "markdown",
      "source": [
        "Time by instruction"
      ],
      "metadata": {
        "id": "Zk_2eTgrvGPO"
      }
    },
    {
      "cell_type": "code",
      "source": [
        "time_per_instruction = 0.208/86022\n",
        "time_per_instruction"
      ],
      "metadata": {
        "colab": {
          "base_uri": "https://localhost:8080/"
        },
        "outputId": "dbe9e173-4c37-4e06-8e4f-3c39487d7bc7",
        "id": "do0OflTpvGPO"
      },
      "execution_count": null,
      "outputs": [
        {
          "output_type": "execute_result",
          "data": {
            "text/plain": [
              "2.4179860965799448e-06"
            ]
          },
          "metadata": {},
          "execution_count": 162
        }
      ]
    },
    {
      "cell_type": "markdown",
      "source": [
        "Number of instructions by second"
      ],
      "metadata": {
        "id": "QHEG6o9qvGPO"
      }
    },
    {
      "cell_type": "code",
      "source": [
        "time_per_second = 86022/0.208\n",
        "time_per_second"
      ],
      "metadata": {
        "colab": {
          "base_uri": "https://localhost:8080/"
        },
        "outputId": "f02d58d1-4d1c-4c2f-96a1-6836adf75b15",
        "id": "s59wXUihvGPP"
      },
      "execution_count": null,
      "outputs": [
        {
          "output_type": "execute_result",
          "data": {
            "text/plain": [
              "413567.3076923077"
            ]
          },
          "metadata": {},
          "execution_count": 163
        }
      ]
    },
    {
      "cell_type": "markdown",
      "metadata": {
        "id": "AJvW48FHvGPP"
      },
      "source": [
        "### Estimate and verify the maximun n that can be solved in 1 second\n",
        "\n",
        "\n",
        "$$(1+ n*log(n)) \\times 1.47*10^{-9} s = 1 s$$\n",
        "\n",
        "$$ n \\approx 38923600$$\n"
      ]
    },
    {
      "cell_type": "markdown",
      "metadata": {
        "id": "VMKC5duEOQfk"
      },
      "source": [
        "## Efficient solution with largest and second-largest in an list, array or vector in C++ and Python\n",
        "\n",
        " $$T(n) < 10 n  = O(n)$$\n",
        "\n",
        "\n",
        "\n"
      ]
    },
    {
      "cell_type": "markdown",
      "metadata": {
        "id": "nLcKBwbU0QsE"
      },
      "source": [
        "Add in each line a coment with the number of intstrcution that are executed in that line"
      ]
    },
    {
      "cell_type": "markdown",
      "source": [
        "#Python"
      ],
      "metadata": {
        "id": "po_139cc8djW"
      }
    },
    {
      "cell_type": "code",
      "execution_count": null,
      "metadata": {
        "colab": {
          "base_uri": "https://localhost:8080/"
        },
        "outputId": "1410b335-e901-4e27-f3d7-f2a8cf4d0b84",
        "id": "bTZqZC_--tZF"
      },
      "outputs": [
        {
          "output_type": "stream",
          "name": "stdout",
          "text": [
            "Overwriting efficientSolution.py\n"
          ]
        }
      ],
      "source": [
        "%%writefile efficientSolution.py\n",
        "def efficientSolution(numbers):\n",
        "    largest = 0\n",
        "    secondLargest = 0\n",
        "    for i in numbers:\n",
        "        if i > largest:\n",
        "            secondLargest = largest\n",
        "            largest = i\n",
        "        elif i > secondLargest:\n",
        "            secondLargest = i\n",
        "\n",
        "    result= secondLargest * largest\n",
        "    return result\n",
        "\n",
        "n = int(input())\n",
        "numbers = [int(i) for i in input().split()]\n",
        "print(efficientSolution(numbers))"
      ]
    },
    {
      "cell_type": "markdown",
      "metadata": {
        "id": "r3lOTr8P-tZG"
      },
      "source": [
        "Test with inputs 1 and 2\n",
        "\n"
      ]
    },
    {
      "cell_type": "code",
      "execution_count": null,
      "metadata": {
        "colab": {
          "base_uri": "https://localhost:8080/"
        },
        "outputId": "e6eec52f-eccf-4b96-ca1f-6e7ea547e178",
        "id": "2c-RNesL-tZG"
      },
      "outputs": [
        {
          "output_type": "stream",
          "name": "stdout",
          "text": [
            "90\n",
            "90\n"
          ]
        }
      ],
      "source": [
        "!python3 efficientSolution.py < input1.txt\n",
        "!python3 efficientSolution.py < input2.txt"
      ]
    },
    {
      "cell_type": "markdown",
      "metadata": {
        "id": "v_hn7A5t-tZH"
      },
      "source": [
        "Test and time it with input 3"
      ]
    },
    {
      "cell_type": "code",
      "execution_count": null,
      "metadata": {
        "colab": {
          "base_uri": "https://localhost:8080/"
        },
        "outputId": "19a7bb02-f0de-4794-ae95-c35adf3164ac",
        "id": "NycazpcP-tZH"
      },
      "outputs": [
        {
          "output_type": "stream",
          "name": "stdout",
          "text": [
            "40000000000\n",
            "\n",
            "real\t0m0.043s\n",
            "user\t0m0.034s\n",
            "sys\t0m0.009s\n"
          ]
        }
      ],
      "source": [
        "!time python3 efficientSolution.py < input3.txt"
      ]
    },
    {
      "cell_type": "markdown",
      "metadata": {
        "id": "0hSOFlCs-tZH"
      },
      "source": [
        "20 stress tests"
      ]
    },
    {
      "cell_type": "code",
      "execution_count": null,
      "metadata": {
        "colab": {
          "base_uri": "https://localhost:8080/"
        },
        "outputId": "96cfc9a6-bb61-4d4d-d136-efce1039db27",
        "id": "YNFAi_gU-tZI"
      },
      "outputs": [
        {
          "output_type": "stream",
          "name": "stdout",
          "text": [
            "-------------------------------------------------\n",
            "Testing with the list: [657170002, 970336222, 325022964, 610170849, 428290383, 119545029, 741084730]\n",
            "The efficient solution gives the result 719101357090090060\n",
            "The comparison solution gives the result 719101357090090060\n",
            "The solution is correct OK\n",
            "-------------------------------------------------\n",
            "-------------------------------------------------\n",
            "Testing with the list: [328472186, 747294308, 151253064, 944163334, 498964735, 194468594, 426176254]\n",
            "The efficient solution gives the result 705567885320502872\n",
            "The comparison solution gives the result 705567885320502872\n",
            "The solution is correct OK\n",
            "-------------------------------------------------\n",
            "-------------------------------------------------\n",
            "Testing with the list: [136823958, 962683266, 867926360, 265182994]\n",
            "The efficient solution gives the result 835538182892291760\n",
            "The comparison solution gives the result 835538182892291760\n",
            "The solution is correct OK\n",
            "-------------------------------------------------\n",
            "-------------------------------------------------\n",
            "Testing with the list: [569181373, 30661299, 729218213, 622705617, 286995353, 58946149]\n",
            "The efficient solution gives the result 454088277253802421\n",
            "The comparison solution gives the result 454088277253802421\n",
            "The solution is correct OK\n",
            "-------------------------------------------------\n",
            "-------------------------------------------------\n",
            "Testing with the list: [358450096, 447840792, 776571748, 639155626, 206863737, 681835255, 506198999, 229232878, 102713610]\n",
            "The efficient solution gives the result 529493995823375740\n",
            "The comparison solution gives the result 529493995823375740\n",
            "The solution is correct OK\n",
            "-------------------------------------------------\n",
            "-------------------------------------------------\n",
            "Testing with the list: [476547159, 343205467, 672210768, 964827416, 858306275, 810988580, 391597060, 757929354, 641357312, 769586696, 310010120, 856300266]\n",
            "The efficient solution gives the result 828117425444835400\n",
            "The comparison solution gives the result 828117425444835400\n",
            "The solution is correct OK\n",
            "-------------------------------------------------\n",
            "-------------------------------------------------\n",
            "Testing with the list: [217001523]\n",
            "The efficient solution gives the result 0\n",
            "The comparison solution gives the result 0\n",
            "The solution is correct OK\n",
            "-------------------------------------------------\n",
            "-------------------------------------------------\n",
            "Testing with the list: [318197232, 692121370, 623262357, 391952378, 53836830, 364003126, 531102171, 741441921, 640847152, 367037300]\n",
            "The efficient solution gives the result 513167798137951770\n",
            "The comparison solution gives the result 513167798137951770\n",
            "The solution is correct OK\n",
            "-------------------------------------------------\n",
            "-------------------------------------------------\n",
            "Testing with the list: [682459440, 143065659, 605673900, 229754977, 234284399, 312608498, 422231289, 856520321]\n",
            "The efficient solution gives the result 584540378618280240\n",
            "The comparison solution gives the result 584540378618280240\n",
            "The solution is correct OK\n",
            "-------------------------------------------------\n",
            "-------------------------------------------------\n",
            "Testing with the list: [485391093, 511942990]\n",
            "The efficient solution gives the result 248492567469788070\n",
            "The comparison solution gives the result 248492567469788070\n",
            "The solution is correct OK\n",
            "-------------------------------------------------\n",
            "-------------------------------------------------\n",
            "Testing with the list: [65571035, 611779543, 66611577, 95830927, 546816299, 411741866, 697772282, 973766922]\n",
            "The efficient solution gives the result 679467567300056004\n",
            "The comparison solution gives the result 679467567300056004\n",
            "The solution is correct OK\n",
            "-------------------------------------------------\n",
            "-------------------------------------------------\n",
            "Testing with the list: [719460500, 108375911]\n",
            "The efficient solution gives the result 77972187116015500\n",
            "The comparison solution gives the result 77972187116015500\n",
            "The solution is correct OK\n",
            "-------------------------------------------------\n",
            "-------------------------------------------------\n",
            "Testing with the list: [79983130, 605897802, 126581516, 890128625, 756630331, 808083114]\n",
            "The efficient solution gives the result 719297911150538250\n",
            "The comparison solution gives the result 719297911150538250\n",
            "The solution is correct OK\n",
            "-------------------------------------------------\n",
            "-------------------------------------------------\n",
            "Testing with the list: [979033022, 258892188, 797864714, 238493571, 117258397, 506927352, 193913144, 846765286]\n",
            "The efficient solution gives the result 829011176877274292\n",
            "The comparison solution gives the result 829011176877274292\n",
            "The solution is correct OK\n",
            "-------------------------------------------------\n",
            "-------------------------------------------------\n",
            "Testing with the list: [53348992, 533521502, 416147819, 34819052, 357257645, 528998876]\n",
            "The efficient solution gives the result 282232274879831752\n",
            "The comparison solution gives the result 282232274879831752\n",
            "The solution is correct OK\n",
            "-------------------------------------------------\n",
            "-------------------------------------------------\n",
            "Testing with the list: [443444467, 849552753, 623496885, 813312521, 259581645, 9004689, 775355734, 116579731, 462576647]\n",
            "The efficient solution gives the result 690951891264920313\n",
            "The comparison solution gives the result 690951891264920313\n",
            "The solution is correct OK\n",
            "-------------------------------------------------\n",
            "-------------------------------------------------\n",
            "Testing with the list: [700726546, 567280016, 522327637, 210878962, 478010865, 385912777, 317204041, 556852282, 656938592]\n",
            "The efficient solution gives the result 460334310506263232\n",
            "The comparison solution gives the result 460334310506263232\n",
            "The solution is correct OK\n",
            "-------------------------------------------------\n",
            "-------------------------------------------------\n",
            "Testing with the list: [642613065, 188912392, 4302216, 779892599, 270043073, 397435052, 371438545, 82158563]\n",
            "The efficient solution gives the result 501169173414205935\n",
            "The comparison solution gives the result 501169173414205935\n",
            "The solution is correct OK\n",
            "-------------------------------------------------\n",
            "-------------------------------------------------\n",
            "Testing with the list: [141512605, 619872322, 252865420, 259454213, 84976814, 751949930, 63836312, 301380548]\n",
            "The efficient solution gives the result 466112949136837460\n",
            "The comparison solution gives the result 466112949136837460\n",
            "The solution is correct OK\n",
            "-------------------------------------------------\n",
            "-------------------------------------------------\n",
            "Testing with the list: [839526638, 902057253]\n",
            "The efficient solution gives the result 757301092894605414\n",
            "The comparison solution gives the result 757301092894605414\n",
            "The solution is correct OK\n",
            "-------------------------------------------------\n"
          ]
        }
      ],
      "source": [
        "import random\n",
        "def efficientSolution(numbers):\n",
        "    largest = 0\n",
        "    secondLargest = 0\n",
        "    for i in numbers:\n",
        "        if i > largest:\n",
        "            secondLargest = largest\n",
        "            largest = i\n",
        "        elif i > secondLargest:\n",
        "            secondLargest = i\n",
        "\n",
        "    return secondLargest * largest\n",
        "\n",
        "def max_pairwise_product(numbers):\n",
        "    max_product = 0\n",
        "    n = len(numbers)\n",
        "\n",
        "    for first in range(n):\n",
        "        for second in range(n):\n",
        "            if first != second:\n",
        "                aux_product = numbers[first] * numbers[second]\n",
        "                if aux_product > max_product:\n",
        "                    max_product = aux_product\n",
        "\n",
        "    return max_product\n",
        "\n",
        "for _ in range(20):  # Run the test 10 times\n",
        "    n = random.randint(1, 12)  # Use a large n\n",
        "    numbers = [random.randint(1, 10**9) for _ in range(n)]  # Generate n random numbers between 1 and 10^9\n",
        "\n",
        "    print(\"-------------------------------------------------\")\n",
        "    print(f\"Testing with the list: {numbers}\")\n",
        "    print(f\"The efficient solution gives the result {efficientSolution(numbers)}\")\n",
        "    print(f\"The comparison solution gives the result {max_pairwise_product(numbers)}\")\n",
        "    if efficientSolution(numbers) == max_pairwise_product(numbers):\n",
        "        print(\"The solution is correct OK\")\n",
        "    else:\n",
        "        print(\"ERROR\")\n",
        "    print(\"-------------------------------------------------\")\n",
        "\n",
        "\n"
      ]
    },
    {
      "cell_type": "markdown",
      "source": [],
      "metadata": {
        "id": "DWcAyVpXDPTH"
      }
    },
    {
      "cell_type": "markdown",
      "metadata": {
        "id": "bIAkU9Qp-tZJ"
      },
      "source": [
        "Count executed instructions in code and verify with inputs 1,2 and 3\n"
      ]
    },
    {
      "cell_type": "code",
      "execution_count": null,
      "metadata": {
        "colab": {
          "base_uri": "https://localhost:8080/"
        },
        "outputId": "75a3c8f3-a113-41f8-94ff-31524a9124d1",
        "id": "WCdSER_r-tZJ"
      },
      "outputs": [
        {
          "output_type": "stream",
          "name": "stdout",
          "text": [
            "Overwriting efficientSolutionexcec.py\n"
          ]
        }
      ],
      "source": [
        "%%writefile efficientSolutionexcec.py\n",
        "exceintspy= 0\n",
        "def efficientSolution(numbers):\n",
        "    global exceintspy\n",
        "    largest = 0\n",
        "    exceintspy+=1\n",
        "    secondLargest = 0\n",
        "    exceintspy+=1\n",
        "    exceintspy+=1\n",
        "    for i in numbers:\n",
        "        exceintspy+=2\n",
        "        exceintspy+=1\n",
        "        if i > largest:\n",
        "            secondLargest = largest\n",
        "            exceintspy+=1\n",
        "            largest = i\n",
        "            exceintspy+=1\n",
        "        elif i > secondLargest:\n",
        "            secondLargest = i\n",
        "            exceintspy+=1\n",
        "    exceintspy+=1\n",
        "    result= secondLargest * largest\n",
        "    exceintspy+=2 # multiplciation instruction\n",
        "    return result\n",
        "\n",
        "n = int(input())\n",
        "exceintspy+=1\n",
        "numbers = [int(i) for i in input().split()]\n",
        "exceintspy+=n\n",
        "print(efficientSolution(numbers))\n",
        "exceintspy+=1\n",
        "print(f\"Execution Times: {exceintspy}\")"
      ]
    },
    {
      "cell_type": "code",
      "source": [
        "%%writefile run_all_test.sh\n",
        "for i in {1..3}\n",
        "do\n",
        "    echo \"Input #$i\"\n",
        "    python3 efficientSolutionexcec.py < input$i.txt\n",
        "done"
      ],
      "metadata": {
        "colab": {
          "base_uri": "https://localhost:8080/"
        },
        "id": "ezbGaVS0W8Mx",
        "outputId": "fbf9afbb-5935-467f-d5af-8ff16a51c4b8"
      },
      "execution_count": null,
      "outputs": [
        {
          "output_type": "stream",
          "name": "stdout",
          "text": [
            "Overwriting run_all_test.sh\n"
          ]
        }
      ]
    },
    {
      "cell_type": "code",
      "source": [
        "!chmod u+x run_all_test.sh\n",
        "!./run_all_test.sh"
      ],
      "metadata": {
        "colab": {
          "base_uri": "https://localhost:8080/"
        },
        "id": "xuCV6uT-W-c4",
        "outputId": "b74bd2fc-284d-4e0b-ecfc-06b3243ab641"
      },
      "execution_count": null,
      "outputs": [
        {
          "output_type": "stream",
          "name": "stdout",
          "text": [
            "Input #1\n",
            "90\n",
            "Execution Times: 68\n",
            "Input #2\n",
            "90\n",
            "Execution Times: 51\n",
            "Input #3\n",
            "40000000000\n",
            "Execution Times: 40\n"
          ]
        }
      ]
    },
    {
      "cell_type": "markdown",
      "metadata": {
        "id": "2mihLO1--tZK"
      },
      "source": [
        "Calculate estimated time by instruction and number of instructions by second"
      ]
    },
    {
      "cell_type": "code",
      "source": [
        "\n",
        "!time python3 efficientSolutionexcec.py< input11.txt > ptest.txt\n",
        "!grep -xvFf output11.txt ptest.txt\n"
      ],
      "metadata": {
        "colab": {
          "base_uri": "https://localhost:8080/"
        },
        "id": "VVEp1DQIZpZI",
        "outputId": "6c86cd5b-2da3-4204-b224-e89b39f0a7ef"
      },
      "execution_count": null,
      "outputs": [
        {
          "output_type": "stream",
          "name": "stdout",
          "text": [
            "\n",
            "real\t0m0.186s\n",
            "user\t0m0.153s\n",
            "sys\t0m0.030s\n",
            "Execution Times: 1200008\n"
          ]
        }
      ]
    },
    {
      "cell_type": "code",
      "source": [
        "# Estimated time by instruction\n",
        "0.192/1200008"
      ],
      "metadata": {
        "colab": {
          "base_uri": "https://localhost:8080/"
        },
        "id": "Ugz3B-encfv5",
        "outputId": "7448ae27-d0a5-4f00-eec8-e241aace339b"
      },
      "execution_count": null,
      "outputs": [
        {
          "output_type": "execute_result",
          "data": {
            "text/plain": [
              "1.599989333404444e-07"
            ]
          },
          "metadata": {},
          "execution_count": 177
        }
      ]
    },
    {
      "cell_type": "code",
      "source": [
        "# Estimated number of instructions by second\n",
        "1200008/0.192"
      ],
      "metadata": {
        "colab": {
          "base_uri": "https://localhost:8080/"
        },
        "id": "AL4YJWlRdOBC",
        "outputId": "fe5dc4d1-7863-4e33-d859-d93eca9c3b26"
      },
      "execution_count": null,
      "outputs": [
        {
          "output_type": "execute_result",
          "data": {
            "text/plain": [
              "6250041.666666667"
            ]
          },
          "metadata": {},
          "execution_count": 178
        }
      ]
    },
    {
      "cell_type": "markdown",
      "source": [
        "### Estimate and verify the maximun n that can be solved in 1 second"
      ],
      "metadata": {
        "id": "cAk1R3v2eKHZ"
      }
    },
    {
      "cell_type": "code",
      "source": [
        "%%writefile efficientSolution.py\n",
        "def efficientSolution(numbers):\n",
        "    largest = 0                     #1\n",
        "    secondLargest = 0               #1\n",
        "    for i in numbers:               #2+2n\n",
        "        if i > largest:\n",
        "            secondLargest = largest\n",
        "            largest = i\n",
        "        elif i > secondLargest:\n",
        "            secondLargest = i\n",
        "    #WORST CASE 3n\n",
        "    result= secondLargest * largest    #3\n",
        "    return result\n",
        "\n",
        "n = int(input())                            #1\n",
        "numbers = [int(i) for i in input().split()] #n\n",
        "print(efficientSolution(numbers))           #1"
      ],
      "metadata": {
        "id": "fsLSUhD_eL0S"
      },
      "execution_count": null,
      "outputs": []
    },
    {
      "cell_type": "markdown",
      "source": [
        "##The number of instructions executed by the algooirithm with a list of size $n$\n",
        "\n",
        "$$T(n) = (6n+7) = O(n) $$\n"
      ],
      "metadata": {
        "id": "1A1r01BepFNq"
      }
    },
    {
      "cell_type": "markdown",
      "source": [
        "By calculating the number of instructions that can be executed on input11 we obtain\n",
        "$$T(n) = (6(200000)+7) = 1200007 $$"
      ],
      "metadata": {
        "id": "KpFNMeHnqaJK"
      }
    },
    {
      "cell_type": "markdown",
      "source": [
        "Maximum n that can be solve in 1 s\n",
        "$$(6n+7) \\times 1.47*10^{-9} s = 1 s$$\n",
        "\n",
        "$$ n \\approx 113378684$$"
      ],
      "metadata": {
        "id": "2Y74WuTKnbHK"
      }
    },
    {
      "cell_type": "markdown",
      "source": [
        "#C++"
      ],
      "metadata": {
        "id": "0YLIqVN7Faby"
      }
    },
    {
      "cell_type": "code",
      "execution_count": null,
      "metadata": {
        "colab": {
          "base_uri": "https://localhost:8080/"
        },
        "outputId": "5c5b98ca-f183-4be2-aed6-5d941304e882",
        "id": "dmvMbj02FsSm"
      },
      "outputs": [
        {
          "output_type": "stream",
          "name": "stdout",
          "text": [
            "Overwriting efficientSolutionC.cpp\n"
          ]
        }
      ],
      "source": [
        "%%writefile efficientSolutionC.cpp\n",
        "#include <iostream>\n",
        "#include <vector>\n",
        "#include <algorithm>\n",
        "\n",
        "long long efficientSolution(std::vector<long long>& numbers) {\n",
        "    long long largest = 0;\n",
        "    long long secondLargest = 0;\n",
        "    for (long long i : numbers) {\n",
        "        if (i > largest) {\n",
        "            secondLargest = largest;\n",
        "            largest = i;\n",
        "        } else if (i > secondLargest) {\n",
        "            secondLargest = i;\n",
        "        }\n",
        "    }\n",
        "    return secondLargest * largest;\n",
        "}\n",
        "\n",
        "int main() {\n",
        "    long long n;\n",
        "    std::cin >> n;\n",
        "    std::vector<long long> numbers(n);\n",
        "    for (int i = 0; i < n; ++i) {\n",
        "        std::cin >> numbers[i];\n",
        "    }\n",
        "    std::cout << efficientSolution(numbers) << std::endl;\n",
        "    return 0;\n",
        "}"
      ]
    },
    {
      "cell_type": "markdown",
      "metadata": {
        "id": "5jCYqM7oFsSn"
      },
      "source": [
        "Test with inputs 1 and 2\n",
        "\n"
      ]
    },
    {
      "cell_type": "code",
      "execution_count": null,
      "metadata": {
        "colab": {
          "base_uri": "https://localhost:8080/"
        },
        "outputId": "ac1f198b-5580-4896-e663-0e33a9d515e0",
        "id": "fXSNHVBOFsSo"
      },
      "outputs": [
        {
          "output_type": "stream",
          "name": "stdout",
          "text": [
            "90\n",
            "90\n"
          ]
        }
      ],
      "source": [
        "!g++ efficientSolutionC.cpp -o efficientSolutionC\n",
        "!./efficientSolutionC< input1.txt\n",
        "!./efficientSolutionC< input2.txt"
      ]
    },
    {
      "cell_type": "markdown",
      "metadata": {
        "id": "eacJkkJ5FsSp"
      },
      "source": [
        "Test and time it with input 3"
      ]
    },
    {
      "cell_type": "code",
      "execution_count": null,
      "metadata": {
        "colab": {
          "base_uri": "https://localhost:8080/"
        },
        "outputId": "39277f62-7aaa-4c12-a644-02c8b15f2c9e",
        "id": "dTG5XS8WFsSp"
      },
      "outputs": [
        {
          "output_type": "stream",
          "name": "stdout",
          "text": [
            "40000000000\n",
            "\n",
            "real\t0m0.004s\n",
            "user\t0m0.002s\n",
            "sys\t0m0.001s\n"
          ]
        }
      ],
      "source": [
        "!g++ efficientSolutionC.cpp -o efficientSolutionC\n",
        "!time ./efficientSolutionC< input3.txt\n"
      ]
    },
    {
      "cell_type": "markdown",
      "metadata": {
        "id": "JNWVbEvdFsSq"
      },
      "source": [
        "20 stress tests"
      ]
    },
    {
      "cell_type": "code",
      "execution_count": null,
      "metadata": {
        "colab": {
          "base_uri": "https://localhost:8080/"
        },
        "id": "mQXrWo3SFsSr",
        "outputId": "d5c88a40-cbf3-4509-cc98-87c18faeba38"
      },
      "outputs": [
        {
          "output_type": "stream",
          "name": "stdout",
          "text": [
            "Overwriting stressTest.cpp\n"
          ]
        }
      ],
      "source": [
        "%%writefile stressTest.cpp\n",
        "#include <iostream>\n",
        "#include <vector>\n",
        "#include <algorithm>\n",
        "#include <cstdlib> // Para rand() y srand()\n",
        "#include <ctime> // Para time()\n",
        "\n",
        "long long efficientSolution(std::vector<long long>& numbers) {\n",
        "    long long largest = 0;\n",
        "    long long secondLargest = 0;\n",
        "    for (long long i : numbers) {\n",
        "        if (i > largest) {\n",
        "            secondLargest = largest;\n",
        "            largest = i;\n",
        "        } else if (i > secondLargest) {\n",
        "            secondLargest = i;\n",
        "        }\n",
        "    }\n",
        "    return secondLargest * largest;\n",
        "}\n",
        "\n",
        "long long MaxPairwiseProduct(const std::vector<long long>& numbers) {\n",
        "    long long max_product = 0LL;\n",
        "\t  long long aux_product = 0LL;\n",
        "    int n = numbers.size();\n",
        "\n",
        "    for (int first = 0; first < n; ++first) {\n",
        "        for (int second = 0; second < n; ++second) {\n",
        "          if ( first != second){\n",
        "                aux_product = (long long) numbers[first] * numbers[second];\n",
        "                if (aux_product > max_product)  max_product = aux_product;\n",
        "          }\n",
        "        }\n",
        "    }\n",
        "\n",
        "\n",
        "    return max_product;\n",
        "}\n",
        "\n",
        "\n",
        "// Esta es una función de prueba de estrés\n",
        "void stressTest(int maxN, int maxNumber) {\n",
        "    srand(time(0)); // Inicializar la semilla del generador de números aleatorios\n",
        "\n",
        "    for (int test = 0; test < 20; ++test) { // Ejecutar la prueba 20 veces\n",
        "        int n = rand() % maxN + 1; // Generar un número aleatorio entre 1 y maxN\n",
        "        std::vector<long long> numbers(n);\n",
        "        for (int i = 0; i < n; ++i) {\n",
        "            numbers[i] = rand() % maxNumber + 1; // Generar un número aleatorio entre 1 y maxNumber\n",
        "        }\n",
        "\n",
        "        long long efficientResult = efficientSolution(numbers);\n",
        "        long long comparisonSolution = MaxPairwiseProduct(numbers);\n",
        "        std::cout << \"-------------------------------------------------\\n\";\n",
        "        std::cout << \"Testing with the list: [\" ;\n",
        "        for (long long number : numbers) {\n",
        "            std::cout << number << ' ';\n",
        "        }\n",
        "        std::cout << \"]\\n\";\n",
        "        std::cout<<\"The efficient solution gives the result \" << efficientResult<< '\\n';\n",
        "        std::cout<<\"The comparison solution gives the result \" << comparisonSolution<< '\\n';\n",
        "\n",
        "        if (efficientResult == comparisonSolution) {\n",
        "            std::cout << \"The solution is correct OK\\n\";\n",
        "        } else {\n",
        "            std::cout << \"ERROR\\n\";\n",
        "            break;\n",
        "        }\n",
        "        std::cout << \"-------------------------------------------------\\n\";\n",
        "    }\n",
        "}\n",
        "\n",
        "int main() {\n",
        "    stressTest(12, 1000000000); // Ejecutar la prueba de estrés con n hasta 12 y números hasta 10^9\n",
        "    return 0;\n",
        "}"
      ]
    },
    {
      "cell_type": "code",
      "source": [
        "!g++ stressTest.cpp -o stressTest\n",
        "!./stressTest"
      ],
      "metadata": {
        "colab": {
          "base_uri": "https://localhost:8080/"
        },
        "id": "m0ULIRunMHyv",
        "outputId": "7e609d40-b6f6-4012-bea3-0105b3ab6149"
      },
      "execution_count": null,
      "outputs": [
        {
          "output_type": "stream",
          "name": "stdout",
          "text": [
            "-------------------------------------------------\n",
            "Testing with the list: [849746941 651229003 216994654 351365134 418339973 87809637 671493796 366065400 5256211 353994827 153383228 ]\n",
            "The efficient solution gives the result 570599799051478036\n",
            "The comparison solution gives the result 570599799051478036\n",
            "The solution is correct OK\n",
            "-------------------------------------------------\n",
            "-------------------------------------------------\n",
            "Testing with the list: [408765870 872856293 48784467 862822726 630356400 882887132 47219286 86228826 ]\n",
            "The efficient solution gives the result 770633589174921676\n",
            "The comparison solution gives the result 770633589174921676\n",
            "The solution is correct OK\n",
            "-------------------------------------------------\n",
            "-------------------------------------------------\n",
            "Testing with the list: [557219999 42650443 107539137 582157346 676968723 182032675 334267300 890824558 970552385 127541687 593087850 ]\n",
            "The efficient solution gives the result 864591899383470830\n",
            "The comparison solution gives the result 864591899383470830\n",
            "The solution is correct OK\n",
            "-------------------------------------------------\n",
            "-------------------------------------------------\n",
            "Testing with the list: [197052692 796969335 892637712 284862329 468463130 111219463 290118539 822457956 ]\n",
            "The efficient solution gives the result 734156988060036672\n",
            "The comparison solution gives the result 734156988060036672\n",
            "The solution is correct OK\n",
            "-------------------------------------------------\n",
            "-------------------------------------------------\n",
            "Testing with the list: [146503418 83740178 ]\n",
            "The efficient solution gives the result 12268222300928404\n",
            "The comparison solution gives the result 12268222300928404\n",
            "The solution is correct OK\n",
            "-------------------------------------------------\n",
            "-------------------------------------------------\n",
            "Testing with the list: [195287884 799079255 620331734 930691368 846298540 706560560 834284370 256034890 601727354 941823506 690708587 ]\n",
            "The efficient solution gives the result 876547007213696208\n",
            "The comparison solution gives the result 876547007213696208\n",
            "The solution is correct OK\n",
            "-------------------------------------------------\n",
            "-------------------------------------------------\n",
            "Testing with the list: [976372533 24975886 22036985 946924917 5033924 467641186 273739008 54602968 117126872 18893071 339465296 585590001 ]\n",
            "The efficient solution gives the result 924551479772104761\n",
            "The comparison solution gives the result 924551479772104761\n",
            "The solution is correct OK\n",
            "-------------------------------------------------\n",
            "-------------------------------------------------\n",
            "Testing with the list: [629583834 ]\n",
            "The efficient solution gives the result 0\n",
            "The comparison solution gives the result 0\n",
            "The solution is correct OK\n",
            "-------------------------------------------------\n",
            "-------------------------------------------------\n",
            "Testing with the list: [394715223 776087252 196820838 384690557 823891487 995900092 5022290 754582854 694714983 ]\n",
            "The efficient solution gives the result 820513607701316804\n",
            "The comparison solution gives the result 820513607701316804\n",
            "The solution is correct OK\n",
            "-------------------------------------------------\n",
            "-------------------------------------------------\n",
            "Testing with the list: [441383576 950749872 18342907 235723433 493974810 149555334 64612317 371467047 24108671 ]\n",
            "The efficient solution gives the result 469646487378724320\n",
            "The comparison solution gives the result 469646487378724320\n",
            "The solution is correct OK\n",
            "-------------------------------------------------\n",
            "-------------------------------------------------\n",
            "Testing with the list: [229017323 491749856 137792593 283620290 608876728 156685664 623085585 46983080 286798196 252669418 ]\n",
            "The efficient solution gives the result 379382312258765880\n",
            "The comparison solution gives the result 379382312258765880\n",
            "The solution is correct OK\n",
            "-------------------------------------------------\n",
            "-------------------------------------------------\n",
            "Testing with the list: [681513418 881273021 356884577 66203974 705164508 352784668 71226264 312263713 47499650 487841816 606163640 850765873 ]\n",
            "The efficient solution gives the result 749757011062412333\n",
            "The comparison solution gives the result 749757011062412333\n",
            "The solution is correct OK\n",
            "-------------------------------------------------\n",
            "-------------------------------------------------\n",
            "Testing with the list: [841887073 197257034 ]\n",
            "The efficient solution gives the result 166068146982921482\n",
            "The comparison solution gives the result 166068146982921482\n",
            "The solution is correct OK\n",
            "-------------------------------------------------\n",
            "-------------------------------------------------\n",
            "Testing with the list: [906499389 568724081 679848726 770552974 797741403 24114933 908345567 81361692 ]\n",
            "The efficient solution gives the result 823414701486358563\n",
            "The comparison solution gives the result 823414701486358563\n",
            "The solution is correct OK\n",
            "-------------------------------------------------\n",
            "-------------------------------------------------\n",
            "Testing with the list: [65031230 704447276 532491092 204345777 ]\n",
            "The efficient solution gives the result 375111899253665392\n",
            "The comparison solution gives the result 375111899253665392\n",
            "The solution is correct OK\n",
            "-------------------------------------------------\n",
            "-------------------------------------------------\n",
            "Testing with the list: [692554831 885859195 690906066 49439408 952063168 ]\n",
            "The efficient solution gives the result 843393911593629760\n",
            "The comparison solution gives the result 843393911593629760\n",
            "The solution is correct OK\n",
            "-------------------------------------------------\n",
            "-------------------------------------------------\n",
            "Testing with the list: [254740427 875805783 413366989 154756429 216163951 ]\n",
            "The efficient solution gives the result 362029199467497387\n",
            "The comparison solution gives the result 362029199467497387\n",
            "The solution is correct OK\n",
            "-------------------------------------------------\n",
            "-------------------------------------------------\n",
            "Testing with the list: [5522301 722348672 713934053 55295687 378088727 472949793 624019767 57937452 96019119 ]\n",
            "The efficient solution gives the result 515709315080127616\n",
            "The comparison solution gives the result 515709315080127616\n",
            "The solution is correct OK\n",
            "-------------------------------------------------\n",
            "-------------------------------------------------\n",
            "Testing with the list: [82052385 4364685 355639212 567560396 921912266 ]\n",
            "The efficient solution gives the result 523240890768217336\n",
            "The comparison solution gives the result 523240890768217336\n",
            "The solution is correct OK\n",
            "-------------------------------------------------\n",
            "-------------------------------------------------\n",
            "Testing with the list: [100051487 126258042 722235883 645122670 864633588 265658300 694562077 669213108 514245224 949302503 397535242 ]\n",
            "The efficient solution gives the result 820798829266270764\n",
            "The comparison solution gives the result 820798829266270764\n",
            "The solution is correct OK\n",
            "-------------------------------------------------\n"
          ]
        }
      ]
    },
    {
      "cell_type": "markdown",
      "source": [],
      "metadata": {
        "id": "_UmvqEkpFsSs"
      }
    },
    {
      "cell_type": "markdown",
      "metadata": {
        "id": "1NXBg0H_FsSs"
      },
      "source": [
        "Count executed instructions in code and verify with inputs 1,2 and 3\n"
      ]
    },
    {
      "cell_type": "code",
      "source": [
        "%%writefile efficientSolutionCexec.cpp\n",
        "#include <iostream>\n",
        "#include <vector>\n",
        "#include <algorithm>\n",
        "\n",
        "long long efficientSolution(std::vector<long long>& numbers, long long& execints) {\n",
        "\n",
        "    long long largest = 0;\n",
        "    execints+=1;\n",
        "    long long secondLargest = 0;\n",
        "    execints+=1;\n",
        "    execints+=1;\n",
        "    for (long long i : numbers) {\n",
        "        execints+=2;\n",
        "        execints+=1;\n",
        "        if (i > largest) {\n",
        "            secondLargest = largest;\n",
        "            execints+=1;\n",
        "            largest = i;\n",
        "            execints+=1;\n",
        "        } else if (i > secondLargest) {\n",
        "            execints+=1;\n",
        "            secondLargest = i;\n",
        "            execints+=1;\n",
        "        }\n",
        "    }\n",
        "    execints+=1;\n",
        "    execints+=1;\n",
        "    return secondLargest * largest;\n",
        "}\n",
        "\n",
        "int main() {\n",
        "    long long execints =0LL;\n",
        "    long long n;\n",
        "    execints+=1;\n",
        "    std::cin >> n;\n",
        "    execints+=1;\n",
        "    std::vector<long long> numbers(n);\n",
        "    execints+=1;\n",
        "    execints+=1;\n",
        "    for (int i = 0; i < n; ++i) {\n",
        "        execints+=2;\n",
        "        std::cin >> numbers[i];\n",
        "        execints+=1;\n",
        "    }\n",
        "    efficientSolution(numbers, execints);\n",
        "    execints+=1;\n",
        "    execints+=1;\n",
        "    std::cout << \"El numero de instrucciones es: \" <<  execints << \"\\n\";\n",
        "    return 0;\n",
        "}"
      ],
      "metadata": {
        "colab": {
          "base_uri": "https://localhost:8080/"
        },
        "id": "Z06-EEjgMJlf",
        "outputId": "6b2d6e44-a9e0-4e99-9a92-3146c75ff858"
      },
      "execution_count": null,
      "outputs": [
        {
          "output_type": "stream",
          "name": "stdout",
          "text": [
            "Overwriting efficientSolutionCexec.cpp\n"
          ]
        }
      ]
    },
    {
      "cell_type": "code",
      "source": [
        " %%writefile run_all_test.sh\n",
        "#!/bin/bash\n",
        "g++ efficientSolutionCexec.cpp -o efficientSolutionCexec\n",
        "for i in {1..3}\n",
        "do\n",
        "    echo \"Input #$i\"\n",
        "    ./efficientSolutionCexec < input$i.txt\n",
        "done"
      ],
      "metadata": {
        "colab": {
          "base_uri": "https://localhost:8080/"
        },
        "id": "ALgoThDSx4CK",
        "outputId": "347ebbc0-ec24-4a6b-c2b5-8590cd2588ff"
      },
      "execution_count": null,
      "outputs": [
        {
          "output_type": "stream",
          "name": "stdout",
          "text": [
            "Overwriting run_all_test.sh\n"
          ]
        }
      ]
    },
    {
      "cell_type": "code",
      "source": [
        "!chmod u+x run_all_test.sh\n",
        "!./run_all_test.sh"
      ],
      "metadata": {
        "colab": {
          "base_uri": "https://localhost:8080/"
        },
        "id": "5L3KDVzIzYXp",
        "outputId": "32330b55-cfd0-47be-e7bc-a42e6a894f7a"
      },
      "execution_count": null,
      "outputs": [
        {
          "output_type": "stream",
          "name": "stdout",
          "text": [
            "Input #1\n",
            "El numero de instrucciones es: 91\n",
            "Input #2\n",
            "El numero de instrucciones es: 75\n",
            "Input #3\n",
            "El numero de instrucciones es: 57\n"
          ]
        }
      ]
    },
    {
      "cell_type": "markdown",
      "source": [
        "Calculate estimated time by instruction and number of instructions by second"
      ],
      "metadata": {
        "id": "VHS-7-ZL4tib"
      }
    },
    {
      "cell_type": "code",
      "source": [
        "!g++ efficientSolutionCexec.cpp -o efficientSolutionCexec\n",
        "!time ./efficientSolutionCexec< input11.txt"
      ],
      "metadata": {
        "colab": {
          "base_uri": "https://localhost:8080/"
        },
        "id": "SQ1CG7In4u8j",
        "outputId": "636b304e-127f-4abd-8a58-8a50587504a8"
      },
      "execution_count": null,
      "outputs": [
        {
          "output_type": "stream",
          "name": "stdout",
          "text": [
            "El numero de instrucciones es: 1600011\n",
            "\n",
            "real\t0m0.071s\n",
            "user\t0m0.066s\n",
            "sys\t0m0.004s\n"
          ]
        }
      ]
    },
    {
      "cell_type": "code",
      "source": [
        "# Estimated time by instruction\n",
        "0.071/1600011"
      ],
      "metadata": {
        "colab": {
          "base_uri": "https://localhost:8080/"
        },
        "outputId": "f463f24c-de6d-46e7-d096-7ecb1df45fbd",
        "id": "8IdJp2Qm5QkP"
      },
      "execution_count": null,
      "outputs": [
        {
          "output_type": "execute_result",
          "data": {
            "text/plain": [
              "4.437469492397239e-08"
            ]
          },
          "metadata": {},
          "execution_count": 222
        }
      ]
    },
    {
      "cell_type": "code",
      "source": [
        "# Estimated number of instructions by second\n",
        "1600011/0.071"
      ],
      "metadata": {
        "colab": {
          "base_uri": "https://localhost:8080/"
        },
        "outputId": "3036b267-fc4a-425e-d851-f8137e5c82b3",
        "id": "6LZ8a0iu5Qkk"
      },
      "execution_count": null,
      "outputs": [
        {
          "output_type": "execute_result",
          "data": {
            "text/plain": [
              "22535366.197183102"
            ]
          },
          "metadata": {},
          "execution_count": 223
        }
      ]
    },
    {
      "cell_type": "markdown",
      "metadata": {
        "id": "v8GY6n_ZaJ4P"
      },
      "source": [
        "### Estimate and verify the maximun n that can be solved in 1 second"
      ]
    },
    {
      "cell_type": "code",
      "execution_count": null,
      "metadata": {
        "id": "z3xjzg1YaKk6"
      },
      "outputs": [],
      "source": [
        "%%writefile efficientSolutionC.cpp\n",
        "#include <iostream>\n",
        "#include <vector>\n",
        "#include <algorithm>\n",
        "\n",
        "long long efficientSolution(std::vector<long long>& numbers) {\n",
        "    long long largest = 0;             //1\n",
        "    long long secondLargest = 0;       //1\n",
        "    for (long long i : numbers) {      //2+2n\n",
        "        if (i > largest) {\n",
        "            secondLargest = largest;\n",
        "            largest = i;\n",
        "        } else if (i > secondLargest) {\n",
        "            secondLargest = i;\n",
        "        }\n",
        "        //WORST CASE 3n\n",
        "    }\n",
        "    return secondLargest * largest; //1\n",
        "}\n",
        "\n",
        "int main() {\n",
        "    long long n; //1\n",
        "    std::cin >> n; //1\n",
        "    std::vector<long long> numbers(n); //1\n",
        "    for (int i = 0; i < n; ++i) {  //2+2n\n",
        "        std::cin >> numbers[i];   //n\n",
        "    }\n",
        "    std::cout << efficientSolution(numbers) << std::endl; //1\n",
        "    return 0;\n",
        "}"
      ]
    },
    {
      "cell_type": "markdown",
      "source": [
        "##The number of instructions executed by the algooirithm with a list of size $n$\n",
        "\n",
        "$$T(n) = (8n+7) = O(n) $$"
      ],
      "metadata": {
        "id": "zrZdKW3K7Ndj"
      }
    },
    {
      "cell_type": "markdown",
      "source": [
        "By calculating the number of instructions that can be executed on input11 we obtain\n",
        "$$T(n) = (8(200000)+7) = 1600007 $$"
      ],
      "metadata": {
        "id": "1Uy5khzV8yUk"
      }
    },
    {
      "cell_type": "markdown",
      "source": [
        "Maximum n that can be solve in 1 s\n",
        "$$(8n+7) \\times 1.47*10^{-9} s = 1 s$$\n",
        "\n",
        "$$ n \\approx 85034013$$"
      ],
      "metadata": {
        "id": "HLnUkTvQ7IST"
      }
    },
    {
      "cell_type": "markdown",
      "metadata": {
        "id": "sUpIWcykOGpT"
      },
      "source": [
        "## Super efficient solution\n",
        "\n",
        "Whitout storing the list in memory, only stpring the largest and second largest and whitout calling a function, add in each line a coment with the number of instructions that are executed in that line\n",
        "\n",
        "in C++ and Python\n",
        "\n",
        "\n",
        " $$T(n) < 13 n  = O(n)$$\n"
      ]
    },
    {
      "cell_type": "code",
      "execution_count": null,
      "metadata": {
        "id": "hBLt_xBQLy8E"
      },
      "outputs": [],
      "source": []
    },
    {
      "cell_type": "markdown",
      "metadata": {
        "id": "683gc3roHqzb"
      },
      "source": [
        "Test with inputs 1 and 2\n",
        "\n",
        "\n"
      ]
    },
    {
      "cell_type": "code",
      "execution_count": null,
      "metadata": {
        "id": "b7d4LA8OIc2_"
      },
      "outputs": [],
      "source": []
    },
    {
      "cell_type": "markdown",
      "metadata": {
        "id": "36Ugn1odIeJz"
      },
      "source": [
        "Test and time it with input 3"
      ]
    },
    {
      "cell_type": "code",
      "execution_count": null,
      "metadata": {
        "id": "jDyMbCnxHqSN"
      },
      "outputs": [],
      "source": []
    },
    {
      "cell_type": "markdown",
      "metadata": {
        "id": "bhqiKQG6fjKM"
      },
      "source": [
        "20 stress tests"
      ]
    },
    {
      "cell_type": "code",
      "execution_count": null,
      "metadata": {
        "id": "2KsiXKhALzwm"
      },
      "outputs": [],
      "source": []
    },
    {
      "cell_type": "markdown",
      "metadata": {
        "id": "fEXj8GHJH5p1"
      },
      "source": [
        "Count executed instructions in code and verify with inputs 1,2 and 3"
      ]
    },
    {
      "cell_type": "code",
      "execution_count": null,
      "metadata": {
        "id": "LF1DHjKXIAsF"
      },
      "outputs": [],
      "source": []
    },
    {
      "cell_type": "markdown",
      "metadata": {
        "id": "yae7sSm2IG9U"
      },
      "source": [
        "Calculate estimated time by instruction and number of instructions by second"
      ]
    },
    {
      "cell_type": "code",
      "execution_count": null,
      "metadata": {
        "id": "suouY7BYL2dz"
      },
      "outputs": [],
      "source": []
    },
    {
      "cell_type": "markdown",
      "metadata": {
        "id": "sy33CNNfPxcE"
      },
      "source": [
        "### Super efficient solution in Python\n",
        "\n",
        "Whitout storing the list in memory and whitout calling a function, add in each line a coment with the number of intstrcution that are executed in that line"
      ]
    },
    {
      "cell_type": "code",
      "execution_count": null,
      "metadata": {
        "id": "_mOjJwKrPxcJ"
      },
      "outputs": [],
      "source": []
    },
    {
      "cell_type": "markdown",
      "metadata": {
        "id": "K08Eow0hPxcJ"
      },
      "source": [
        "Test with inputs 1 and 2\n",
        "\n",
        "\n"
      ]
    },
    {
      "cell_type": "code",
      "execution_count": null,
      "metadata": {
        "id": "1_mUee2cPxcJ"
      },
      "outputs": [],
      "source": []
    },
    {
      "cell_type": "markdown",
      "metadata": {
        "id": "CE5DB3CmPxcJ"
      },
      "source": [
        "Test and time it with input 3"
      ]
    },
    {
      "cell_type": "code",
      "execution_count": null,
      "metadata": {
        "id": "lyLhFOoePxcJ"
      },
      "outputs": [],
      "source": []
    },
    {
      "cell_type": "markdown",
      "metadata": {
        "id": "HZEI236lPxcK"
      },
      "source": [
        "20 stress tests"
      ]
    },
    {
      "cell_type": "code",
      "execution_count": null,
      "metadata": {
        "id": "_LoV-p4zPxcK"
      },
      "outputs": [],
      "source": []
    },
    {
      "cell_type": "markdown",
      "metadata": {
        "id": "IRVdP3iuPxcK"
      },
      "source": [
        "Count executed instructions in code and verify with inputs 1,2 and 3"
      ]
    },
    {
      "cell_type": "code",
      "execution_count": null,
      "metadata": {
        "id": "RghJOg78PxcK"
      },
      "outputs": [],
      "source": []
    },
    {
      "cell_type": "markdown",
      "metadata": {
        "id": "R6qeUjPaPxcK"
      },
      "source": [
        "Calculate estimated time by instruction and number of instructions by second"
      ]
    },
    {
      "cell_type": "code",
      "execution_count": null,
      "metadata": {
        "id": "iLdXYvn3PxcK"
      },
      "outputs": [],
      "source": []
    },
    {
      "cell_type": "markdown",
      "metadata": {
        "id": "uZGdjUwuaO4v"
      },
      "source": [
        "### Estimate and verify the maximun n that can be solved in 1 second"
      ]
    },
    {
      "cell_type": "code",
      "execution_count": null,
      "metadata": {
        "id": "FjqFevOaaOVz"
      },
      "outputs": [],
      "source": []
    },
    {
      "cell_type": "markdown",
      "metadata": {
        "id": "4hHRQMXzW6oR"
      },
      "source": [
        "## Perform 100 randomized automated tests in C++ and Python with a porgram  compares the answers,for the same 100 random input instances, of the super efficient solution $(T(n) < 10 n = O(n))$ against the sorting solution  $(T(n)  = O(n \\lg{n}))$,  if the answers are not the same stops and displays \"Error\" listing  the input and the two answers; if the 100 tests are completed without stoping displays \"Pass\"."
      ]
    }
  ],
  "metadata": {
    "colab": {
      "provenance": [],
      "include_colab_link": true
    },
    "kernelspec": {
      "display_name": "Python 3",
      "name": "python3"
    },
    "language_info": {
      "name": "python"
    }
  },
  "nbformat": 4,
  "nbformat_minor": 0
}