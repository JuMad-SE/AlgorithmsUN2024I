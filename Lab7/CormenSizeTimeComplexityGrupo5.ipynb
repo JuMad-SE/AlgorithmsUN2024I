{
  "nbformat": 4,
  "nbformat_minor": 0,
  "metadata": {
    "colab": {
      "provenance": [],
      "include_colab_link": true
    },
    "kernelspec": {
      "name": "python3",
      "display_name": "Python 3"
    },
    "language_info": {
      "name": "python"
    }
  },
  "cells": [
    {
      "cell_type": "markdown",
      "metadata": {
        "id": "view-in-github",
        "colab_type": "text"
      },
      "source": [
        "<a href=\"https://colab.research.google.com/github/JuMad-SE/AlgorithmsUN2024I/blob/main/Lab7/CormenSizeTimeComplexityGrupo5.ipynb\" target=\"_parent\"><img src=\"https://colab.research.google.com/assets/colab-badge.svg\" alt=\"Open In Colab\"/></a>"
      ]
    },
    {
      "cell_type": "markdown",
      "metadata": {
        "id": "I5UAAxG2_CqQ"
      },
      "source": [
        "# 0.(1 microsecond by instruction)\n",
        "Asuuming that you can execute a million instructions $10^6$ every second, i.e. each instruction takes one microsecond $1\\mu s=10^{-6}$ seconds. If you have algorithms take $\\bf{ Time\\ Complexity}$ steps to solve a problem of size $n$ as specified in column one. What is the size of the largest problem that you can solve in the time specified in row one?\n",
        "\n",
        "$$\n",
        "\\begin{array}{|c|c|c|c|c|c|c|c|}\n",
        " \\hline\n",
        " \\bf{ Time\\ Complexity} & Second  & Minute  & Hour & Day & Year & Century & Mileniun  \\\\\n",
        "  \\hline\\\\\n",
        "\\lg_{2}(n) &   n=2^{10^{6} }  &n=2^{10^{6}*60 }  & n=2^{10^{6}*3600 }  &n=2^{10^{6}*86400 }  &n=2^{10^{9}*31536 }  &n=2^{10^{11}*31536 }  &n=2^{10^{12}*31536 }  \\\\\n",
        "   \\hline\\\\\n",
        "\\lg_{10}(n) & n=10^{10^{6}}&n=10^{10^6*60}&n=10^{10^6*3600}&n=10^{10^6*86400}&n=10^{10^9*31536}  & n=10^{10^{11}*31536}  &n=10^{10^{12}*31536}  &  \\\\\n",
        "   \\hline\\\\\n",
        "\\sqrt{n} &n=10^{6^{2}}&n=({10^6*60})^2&n=({10^6*3600})^2&n=({10^6*84600})^2&n=({10^9*31536})^2&n=({10^{11}*31536})^2&n=({10^{12}*31536})^2  \\\\\n",
        " \\hline\n",
        " n & n=10^6&n=10^6*60& n=10^6*3600& n=10^6*84600& n=10^9*31536& n=10^{11}*31536& n=10^{12}*31536 \\\\\n",
        " \\hline\n",
        " n\\lg(n) &n=10^6  &  n=10^6*60 & n=10^6*3600 & n=10^6*84600 & n=10^9*31536 & n=10^{11}*31536 & n=10^{12}*31536 \\\\\n",
        " \\hline\n",
        " n^2 &10^3   & n=\\sqrt{10^6*60} & n=\\sqrt{10^6*3600} & n=\\sqrt{10^6*84600} & n=\\sqrt{10^9*31536} & n=\\sqrt{10^{11}*31536} & n=\\sqrt{10^{12}*31536} \\\\\n",
        " \\hline\n",
        "  n^3 &n=10^2    &n=\\sqrt[3]{10^6 \\cdot 60}   & n=\\sqrt[3]{10^6 \\cdot 3600} &n=\\sqrt[3]{10^6 \\cdot 84600} & n=\\sqrt[3]{10^9 \\cdot 31536} & n=\\sqrt[3]{10^{11} \\cdot 31536} &n= \\sqrt[3]{10^{12} \\cdot 31536} \\\\\n",
        " \\hline\n",
        "  n^4 &n=10^{3/2 }    & \\sqrt[4]{10^6 \\cdot 60}  & \\sqrt[4]{10^6 \\cdot 3600} & \\sqrt[4]{10^6 \\cdot 84600} & \\sqrt[4]{10^9 \\cdot 31536} & \\sqrt[4]{10^{11} \\cdot 31536} & \\sqrt[4]{10^{12} \\cdot 31536} \\\\\n",
        " \\hline\n",
        "  2^n &n=6ln(10)/ln(2)    & n=ln(10^6*60)/ln(2)  & n=ln(10^6*3600)/ln(2) & n=ln(10^6*84600)/ln(2) & n=ln(10^9*31536)/ln(2) &n=ln(10^{11}*31536)/ln(2)  & ln(10^{12}*31536)/ln(2) \\\\\n",
        " \\hline\n",
        " n! &n=9     & n=11  & n=12 &n=13  &n=16  &n=17  &n=18  \\\\\n",
        " \\hline\n",
        " n^n &n=7    &n=8   &n=9  &n=10  &n=12  &n=13  &n=14  \\\\\n",
        " \\hline\n",
        "\\end{array}\n",
        "$$"
      ]
    },
    {
      "cell_type": "markdown",
      "metadata": {
        "id": "yCCsCOW2OQbQ"
      },
      "source": [
        "# 1.(10  nanoseconds by instruction)\n",
        "\n",
        "Asuuming that you can execute a 100 million instructions $100 \\times 10^6$ every second, i.e. each instrcution takes 10 nanoseconds, 10 $\\eta s  = 10^{-8} s $. If you have algorithms take $\\bf{ Time\\ Complexity}$ steps to solve a poblem of size $n$ as specified in column one. What is the size of the largest porblem that you can solve in the time specified in row one?\n",
        "$$\n",
        "\\begin{array}{|c|c|c|c|c|c|c|c|}\n",
        " \\hline\n",
        " \\bf{ Time\\ Complexity} & Second  & Minute  & Hour & Day & Year & Century & Mileniun  \\\\\n",
        "  \\hline\\\\\n",
        "\\lg_{2}(n) & n=2^{10^8}   & n=2^{10^8 * 60}  & n=2^{10^8 * 3600} & n= 2^{10^8 * 86400}  & n=2^{10^{11} * 31536}& n= 2^{10^{13} * 31536}  & n= 2^{10^{14} * 31536}  \\\\\n",
        "   \\hline\\\\\n",
        "\\lg^2_{10}(n) &  n= 10^{10^8}  &  n= 10^{10^8 * 60}   & n= 10^{10^8 * 3600} & n= 10^{10^8 * 86400} & n=10^{10^{11} * 31536} & n=10^{10^{13} * 31536} & n= 10^{10^{14} * 31536} \\\\\n",
        "   \\hline\\\\\n",
        "\\sqrt{n} & n= (10^{8})^2  &n=({10^8*60})^2&n=({10^8*3600})^2&n=({10^8*84600})^2&n=({10^{11}*31536})^2&n=({10^{13}*31536})^2&n=({10^{14}*31536})^2  \\\\\n",
        " \\hline\n",
        " n & n=10^8&n=10^8*60& n=10^8*3600& n=10^8*84600& n=10^{11}*31536& n=10^{13}*31536& n=10^{14}*31536 \\\\\n",
        " \\hline\n",
        " n\\lg(n) & n=10^8&n=10^8*60& n=10^8*3600& n=10^8*84600& n=10^{11}*31536& n=10^{13}*31536& n=10^{14}*31536 \\\\\n",
        " \\hline\n",
        " n^2 &10^4   & n=\\sqrt{10^8*60} & n=\\sqrt{10^8*3600} & n=\\sqrt{10^8*84600} & n=\\sqrt{10^{11}*31536} & n=\\sqrt{10^{13}*31536} & n=\\sqrt{10^{14}*31536} \\\\\n",
        " \\hline\n",
        "  n^3 &n= \\sqrt[3]{10^8}    &n=\\sqrt[3]{10^8 \\cdot 60}   & n=\\sqrt[3]{10^8 \\cdot 3600} &n=\\sqrt[3]{10^8 \\cdot 84600} & n=\\sqrt[3]{10^{11} \\cdot 31536} & n=\\sqrt[3]{10^{13} \\cdot 31536} &n= \\sqrt[3]{10^{14} \\cdot 31536} \\\\\n",
        " \\hline\n",
        "  n^4 &n=10^{2}    & \\sqrt[4]{10^8 \\cdot 60}  & \\sqrt[4]{10^8 \\cdot 3600} & \\sqrt[4]{10^8 \\cdot 84600} & \\sqrt[4]{10^{11} \\cdot 31536} & \\sqrt[4]{10^{13} \\cdot 31536} & \\sqrt[4]{10^{14} \\cdot 31536} \\\\\n",
        " \\hline\n",
        "  2^n &n=8ln(10)/ln(2)    & n=ln(10^{8}*60)/ln(2)  & n=ln(10^{8}*3600)/ln(2) & n=ln(10^{8}*84600)/ln(2) & n=ln(10^{11}*31536)/ln(2) &n=ln(10^{13}*31536)/ln(2)  & ln(10^{14}*31536)/ln(2) \\\\\n",
        " \\hline\n",
        " n! &  n= 10  & n= 13  & n= 14 & n= 15 & n= 18 & n= 19 & n= 20 \\\\\n",
        " \\hline\n",
        " n^n &  n= 8  &  n= 9 & n= 11 & n= 12 & n= 13 & n= 14 & n= 16 \\\\\n",
        " \\hline\n",
        "\\end{array}\n",
        "$$"
      ]
    },
    {
      "cell_type": "markdown",
      "metadata": {
        "id": "9fIs_70_DJWM"
      },
      "source": [
        "# 2.(2.5  nanoseconds by instruction)\n",
        "\n",
        "Asuuming that you can execute a 400 million instructions $400 \\times 10^6$ every second, i.e. each instrcution takes 2.5  nanoseconds, 2.5 $\\eta s  = 2.5 \\times 10^{-9} s$. If you have algorithms take $\\bf{ Time\\ Complexity}$ steps to solve a problem of size $n$ as specified in column one. What is the size of the largest problem that you can solve in the time specified in row one?\n",
        "$$\n",
        "\\begin{array}{|c|c|c|c|c|c|c|c|}\n",
        " \\hline\n",
        " \\bf{ Time\\ Complexity} & Second  & Minute  & Hour & Day & Year & Century & Mileniun  \\\\\n",
        "  \\hline\\\\\n",
        "\\lg_{2}(n) &   n=2^{4*10^{8} }  &n=2^{4*10^{8}*60 }  & n=2^{4*10^{8}*3600 }  &n=2^{4*10^{8}*86400 }  &n=2^{4*10^{11}*31536 }  &n=2^{4*10^{13}*31536 }  &n=2^{4*10^{14}*31536 }  \\\\\n",
        "   \\hline\\\\\n",
        "\\lg_{10}(n) & n=10^{4*10^{8}}&n=10^{4*10^8*60}&n=10^{4*10^8*3600}&n=10^{4*10^8*86400}&n=10^{4*10^{11}*31536}  & n=10^{4*10^{13}*31536}  &n=10^{4*10^{15}*31536}  &  \\\\\n",
        "   \\hline\\\\\n",
        "\\sqrt{n} &n=(4*10^{8})^{2}&n=({4*10^8*60})^2&n=({4*10^8*3600})^2&n=({4*10^8*84600})^2&n=({4*10^{11}*31536})^2&n=({4*10^{13}*31536})^2&n=({4*10^{14}*31536})^2  \\\\\n",
        " \\hline\n",
        " n & n=4*10^8&n=4*10^8*60& n=4*10^8*3600& n=4*10^8*84600& n=4*10^{11}*31536& n=4*10^{13}*31536& n=4*10^{14}*31536 \\\\\n",
        " \\hline\n",
        " n\\lg(n) &n=4*10^8  &  n=4*10^8*60 & n=4*10^8*3600 & n=4*10^8*84600 & n=4*10^{11}*31536 & n=10^{13}*31536 & n=4*10^{14}*31536 \\\\\n",
        " \\hline\n",
        " n^2 &n=2*10^4    & n=\\sqrt{4*10^8*60} & n=\\sqrt{4*10^8*3600} & n=\\sqrt{4*10^8*84600} & n=\\sqrt{4*10^{11}*31536} & n=\\sqrt{4*10^{13}*31536} & n=\\sqrt{4*10^{14}*31536} \\\\\n",
        " \\hline\n",
        "  n^3 &n=\\sqrt[3]{4*10^8}    &n=\\sqrt[3]{4*10^8 \\cdot 60}   & n=\\sqrt[3]{4*10^8 \\cdot 3600} &n=\\sqrt[3]{4*10^8 \\cdot 84600} & n=\\sqrt[3]{4*10^{11} \\cdot 31536} & n=\\sqrt[3]{4*10^{13} \\cdot 31536} &n= \\sqrt[3]{4*10^{14} \\cdot 31536} \\\\\n",
        " \\hline\n",
        "  n^4 &n=\\sqrt[4]{4*10^8}    & \\sqrt[4]{4*10^8 \\cdot 60}  & \\sqrt[4]{4*10^8 \\cdot 3600} & \\sqrt[4]{4*10^8 \\cdot 84600} & \\sqrt[4]{4*10^{11} \\cdot 31536} & \\sqrt[4]{4*10^{13} \\cdot 31536} & \\sqrt[4]{4*10^{14} \\cdot 31536} \\\\\n",
        " \\hline\n",
        "  2^n &n=6ln(10)/ln(2)    & n=ln(4*10^{8}*60)/ln(2)  & n=ln(4*10^{8}*3600)/ln(2) & n=ln(4*10^{8}*84600)/ln(2) & n=ln(4*10^{11}*31536)/ln(2) &n=ln(4*10^{13}*31536)/ln(2)  & ln(4*10^{14}*31536)/ln(2) \\\\\n",
        " \\hline\n",
        " n! &n=11     & n=13  & n=14 &n=15  &n=18  &n=19  &n=20  \\\\\n",
        " \\hline\n",
        " n^n &n=9    &n=10   &n=11  &n=12  &n=14  &n=15  &n=16  \\\\\n",
        " \\hline\n",
        "\\end{array}\n",
        "$$"
      ]
    },
    {
      "cell_type": "markdown",
      "metadata": {
        "id": "kwpTH36ZIyQJ"
      },
      "source": [
        "# 3. (1 noneosecond by instruction)\n",
        "\n",
        "Asuuming that you can execute a 1000 million instructions $10^9$ every second, i.e. each instrcution takes 1  nanosecond, 1 $\\eta s  = 10^{-9} s$. If you have algorithms take $\\bf{ Time\\ Complexity}$ steps to solve a problem of size $n$ as specified in column one. What is the size of the largest problem that you can solve in the time specified in row one?\n",
        "$$\n",
        "\\begin{array}{|c|c|c|c|c|c|c|c|}\n",
        " \\hline\n",
        " \\bf{ Time\\ Complexity} & Second  & Minute  & Hour & Day & Year & Century & Mileniun  \\\\\n",
        "  \\hline\\\\\n",
        "\\lg_{2}(n) & n=2^{10^9}   & n=2^{10^9 * 60}  & n=2^{10^9 * 3600} & n= 2^{10^9 * 86400}  & n=2^{10^{12} * 31536}& n= 2^{10^{14} * 31536}  & n= 2^{10^{15} * 31536}  \\\\\n",
        "   \\hline\\\\\n",
        "\\lg_{10}(n) &  n= 10^{10^9}  &  n= 10^{10^9 * 60}   & n= 10^{10^9 * 3600} & n= 10^{10^9 * 86400} & n=10^{10^12* 31536} & n=10^{10^{14} * 31536} & n= 10^{10^{15} * 31536} \\\\\n",
        "   \\hline\\\\\n",
        "\\sqrt{n} & n= (10^{9})^2  &n=({10^9*60})^2&n=({10^9*3600})^2&n=({10^9*84600})^2&n=({10^{12}*31536})^2&n=({10^{14}*31536})^2&n=({10^{15}*31536})^2  \\\\\n",
        " \\hline\n",
        " n & n=10^9&n=10^9*60& n=10^9*3600& n=10^9*84600& n=10^{12}*31536& n=10^{14}*31536& n=10^{15}*31536 \\\\\n",
        " \\hline\n",
        " n\\lg(n) & n=10^9&n=10^9*60& n=10^9*3600& n=10^9*84600& n=10^{12}*31536& n=10^{14}*31536& n=10^{15}*31536 \\\\\n",
        " \\hline\n",
        " n^2 &10^{9/2}   & n=\\sqrt{10^9*60} & n=\\sqrt{10^9*3600} & n=\\sqrt{10^9*84600} & n=\\sqrt{10^{12}*31536} & n=\\sqrt{10^{14}*31536} & n=\\sqrt{10^{15}*31536} \\\\\n",
        " \\hline\n",
        "  n^3 &n= 10^3    &n=\\sqrt[3]{10^9 \\cdot 60}   & n=\\sqrt[3]{10^9 \\cdot 3600} &n=\\sqrt[3]{10^9 \\cdot 84600} & n=\\sqrt[3]{10^{12} \\cdot 31536} & n=\\sqrt[3]{10^{14} \\cdot 31536} &n= \\sqrt[3]{10^{15} \\cdot 31536} \\\\\n",
        " \\hline\n",
        "  n^4 &n=10^{9/4}    & \\sqrt[4]{10^9 \\cdot 60}  & \\sqrt[4]{10^9 \\cdot 3600} & \\sqrt[4]{10^9 \\cdot 84600} & \\sqrt[4]{10^{12} \\cdot 31536} & \\sqrt[4]{10^{14} \\cdot 31536} & \\sqrt[4]{10^{15} \\cdot 31536} \\\\\n",
        " \\hline\n",
        "  2^n &n=8ln(10)/ln(2)    & n=ln(10^{9}*60)/ln(2)  & n=ln(10^{9}*3600)/ln(2) & n=ln(10^{9}*84600)/ln(2) & n=ln(10^{12}*31536)/ln(2) &n=ln(10^{14}*31536)/ln(2)  & ln(10^{14}*31536)/ln(2) \\\\\n",
        " \\hline\n",
        " n! &  n= 12  & n= 14  & n= 15 & n= 16 & n= 19 & n= 20 & n= 21 \\\\\n",
        " \\hline\n",
        " n^n &  n= 10  &  n= 11 & n= 12 & n= 13 & n= 15 & n= 16y & n= 17 \\\\\n",
        " \\hline\n",
        "\\end{array}\n",
        "$$"
      ]
    }
  ]
}